{
 "cells": [
  {
   "cell_type": "code",
   "execution_count": 1,
   "id": "a3fd649a",
   "metadata": {},
   "outputs": [],
   "source": [
    "# relevant imports\n",
    "import numpy as np\n",
    "from scipy import io\n",
    "import matplotlib.pyplot as plt\n",
    "from matplotlib import rcParams\n",
    "import rsatoolbox\n",
    "import rsatoolbox.data as rsd # abbreviation to deal with dataset\n",
    "import rsatoolbox.rdm as rsr\n",
    "import os\n",
    "import seaborn as sns\n",
    "import sklearn as sk\n",
    "import math\n",
    "import pandas as pd\n",
    "import pickle\n",
    "import copy"
   ]
  },
  {
   "cell_type": "code",
   "execution_count": 2,
   "id": "39a61ab8",
   "metadata": {},
   "outputs": [],
   "source": [
    "# change the working directory to be the timecourse data\n",
    "#os.chdir('/mnt/Data1/linjdata1/vswmda/scan_data/rsa/full_GLM_mgs_0.05_50/')\n",
    "os.chdir('/gpfs/scratch/linjjiang/scan_data/rsa/full_GLM_mgs_0.05_50/')"
   ]
  },
  {
   "cell_type": "code",
   "execution_count": 31,
   "id": "d943c44a",
   "metadata": {},
   "outputs": [],
   "source": [
    "subjects = ['f09','f10','f11','f12','f15','f16','f17','f18','f19']\n",
    "epochs = ['delay','response','stimulus']\n",
    "exp1_subjects = ['f09','f10','f11','f12','f15','f16']\n",
    "exp2_subjects = ['f17','f18','f19']"
   ]
  },
  {
   "cell_type": "code",
   "execution_count": 4,
   "id": "89781eeb",
   "metadata": {},
   "outputs": [],
   "source": [
    "# get ROI name\n",
    "# if full_GLM_mgs_xxx\n",
    "order = ['area4', 'v1', 'v2', 'ips', 'fef', 'sfg', 'mfg', 'ifg',\n",
    "         'ips0', 'ips1', 'ips2', 'ips3', 'ips4', 'ips5', 'spl1']\n",
    "\n",
    "# # if full_GLM_atlas_roi\n",
    "# order = ['area4-ju50',\n",
    "#          'area8-hcp','area9-hcp','area9|46-hcp','area44|45|47l-hcp','fef-hcp',\n",
    "         \n",
    "#          'v1-wang25','v2-wang25','ips-wang15','ips0-wang15','ips1-wang15',\n",
    "#          'ips2-wang15','ips3-wang15','ips4-wang15','ips5-wang15','spl1-wang15','fef-wang25',\n",
    "         \n",
    "#          'ipcs-md','spcs-md','amfg-md','pmfg-md','ifg-md'\n",
    "#          ]"
   ]
  },
  {
   "cell_type": "code",
   "execution_count": 5,
   "id": "adb40415",
   "metadata": {},
   "outputs": [],
   "source": [
    "# change the following as needed\n",
    "roi_labels = {'area4': 'M1', 'v1': 'V1', 'v2': 'V2', \n",
    "              \n",
    "              'ips0': 'IPS0', 'ips1': 'IPS1', 'ips2': 'IPS2', \n",
    "              'ips3': 'IPS3', 'ips4': 'IPS4', 'ips5': 'IPS5', 'spl1': 'SPL1',\n",
    "              \n",
    "          'ips': 'IPS', 'fef': 'FEF', 'sfg': 'SFG', \n",
    "          'mfg': 'MFG', 'ifg': 'IFG'}\n",
    "# roi_order = list(roi_labels.values())\n",
    "subj_labels = {index: subject for index, subject in enumerate(subjects, start=0)}\n",
    "epoch_labels = {0: 'stimulus', 1: 'delay', 2: 'response'}"
   ]
  },
  {
   "cell_type": "code",
   "execution_count": 6,
   "id": "265d562c",
   "metadata": {},
   "outputs": [],
   "source": [
    "# Construct model\n",
    "data = io.matlab.loadmat('./model.mat')\n",
    "matlab_data = data['model']\n",
    "good_cond = data['good_cond']"
   ]
  },
  {
   "cell_type": "code",
   "execution_count": 7,
   "id": "ab3d13a8",
   "metadata": {},
   "outputs": [
    {
     "name": "stdout",
     "output_type": "stream",
     "text": [
      "['3WL', '3TL', '3WR', '3TR', '5.5WL', '5.5TL', '5.5WR', '5.5TR']\n"
     ]
    }
   ],
   "source": [
    "conditions = [good_cond[0,i][0] for i in range(good_cond[0].shape[0])]\n",
    "print(conditions)"
   ]
  },
  {
   "cell_type": "code",
   "execution_count": 8,
   "id": "c4854e3c",
   "metadata": {},
   "outputs": [
    {
     "name": "stdout",
     "output_type": "stream",
     "text": [
      "4\n",
      "['UniqPat']\n",
      "[[0 1 1 1 1 1 1 1]\n",
      " [1 0 1 1 1 1 1 1]\n",
      " [1 1 0 1 1 1 1 1]\n",
      " [1 1 1 0 1 1 1 1]\n",
      " [1 1 1 1 0 1 1 1]\n",
      " [1 1 1 1 1 0 1 1]\n",
      " [1 1 1 1 1 1 0 1]\n",
      " [1 1 1 1 1 1 1 0]]\n",
      "['TempPat']\n",
      "[[0 0 1 1 0 0 1 1]\n",
      " [0 0 1 1 0 0 1 1]\n",
      " [1 1 0 0 1 1 0 0]\n",
      " [1 1 0 0 1 1 0 0]\n",
      " [0 0 1 1 0 0 1 1]\n",
      " [0 0 1 1 0 0 1 1]\n",
      " [1 1 0 0 1 1 0 0]\n",
      " [1 1 0 0 1 1 0 0]]\n",
      "['ShapePat']\n",
      "[[0 1 0 1 0 1 0 1]\n",
      " [1 0 1 0 1 0 1 0]\n",
      " [0 1 0 1 0 1 0 1]\n",
      " [1 0 1 0 1 0 1 0]\n",
      " [0 1 0 1 0 1 0 1]\n",
      " [1 0 1 0 1 0 1 0]\n",
      " [0 1 0 1 0 1 0 1]\n",
      " [1 0 1 0 1 0 1 0]]\n",
      "['EccPat']\n",
      "[[0 0 0 0 1 1 1 1]\n",
      " [0 0 0 0 1 1 1 1]\n",
      " [0 0 0 0 1 1 1 1]\n",
      " [0 0 0 0 1 1 1 1]\n",
      " [1 1 1 1 0 0 0 0]\n",
      " [1 1 1 1 0 0 0 0]\n",
      " [1 1 1 1 0 0 0 0]\n",
      " [1 1 1 1 0 0 0 0]]\n"
     ]
    }
   ],
   "source": [
    "n_models = 4#len(matlab_data[0][0][0][0])\n",
    "print(n_models)\n",
    "# print the first model\n",
    "print(matlab_data[0][0][0][0][0]) # 0, 0, name (1), 0, which model\n",
    "print(matlab_data[0][0][1][0][0]) # 0, 0, actual model matrix (2), 0, which model\n",
    "\n",
    "# print the 2nd model\n",
    "print(matlab_data[0][0][0][0][1]) # 0, 0, name (1), 0, which model\n",
    "print(matlab_data[0][0][1][0][1]) # 0, 0, actual model for hemifield (2), 0, which model\n",
    "\n",
    "# print the 3rd model\n",
    "print(matlab_data[0][0][0][0][2]) # 0, 0, name (1), 0, which model\n",
    "print(matlab_data[0][0][1][0][2]) # 0, 0, actual model for hemifield (2), 0, which model\n",
    "\n",
    "# print the 4th model\n",
    "print(matlab_data[0][0][0][0][3]) # 0, 0, name (1), 0, which model\n",
    "print(matlab_data[0][0][1][0][3]) # 0, 0, actual model for hemifield (2), 0, which model"
   ]
  },
  {
   "cell_type": "code",
   "execution_count": 9,
   "id": "76ec47e8",
   "metadata": {},
   "outputs": [
    {
     "name": "stdout",
     "output_type": "stream",
     "text": [
      "<class 'numpy.ndarray'>\n",
      "[[0 1 0 1 0 1 0 1]\n",
      " [1 0 1 0 1 0 1 0]\n",
      " [0 1 0 1 0 1 0 1]\n",
      " [1 0 1 0 1 0 1 0]\n",
      " [0 1 0 1 0 1 0 1]\n",
      " [1 0 1 0 1 0 1 0]\n",
      " [0 1 0 1 0 1 0 1]\n",
      " [1 0 1 0 1 0 1 0]]\n",
      "(3, 8, 8)\n",
      "(8, 8)\n",
      "['TempPat', 'ShapePat', 'EccPat']\n"
     ]
    }
   ],
   "source": [
    "model_names = [matlab_data[0][0][0][0][i][0] for i in range(1,n_models)]\n",
    "rdms_array = np.array([matlab_data[0][0][1][0][i] for i in range(1,n_models)])\n",
    "\n",
    "print(type(rdms_array[1]))\n",
    "print(rdms_array[1])\n",
    "print(rdms_array.shape)\n",
    "print(rdms_array[0].shape)\n",
    "print(model_names)\n",
    "# construct model rdms\n",
    "model_rdms = rsatoolbox.rdm.RDMs(rdms_array,\n",
    "                            rdm_descriptors={'model':model_names},\n",
    "                            pattern_descriptors={'conds':conditions},\n",
    "                            dissimilarity_measure='Crossnobis')\n",
    "#print(model_rdms[1])\n",
    "#print(model_rdms.to_df())\n",
    "#print(model_rdms)"
   ]
  },
  {
   "cell_type": "code",
   "execution_count": 10,
   "id": "bd60fc5d",
   "metadata": {},
   "outputs": [
    {
     "name": "stdout",
     "output_type": "stream",
     "text": [
      "<rsatoolbox.model.model.ModelWeighted object at 0x2aab65b80510>\n"
     ]
    }
   ],
   "source": [
    "models_weight = rsatoolbox.model.ModelWeighted(model_names, model_rdms)\n",
    "print(models_weight)"
   ]
  },
  {
   "cell_type": "code",
   "execution_count": 11,
   "id": "af8b6eb2",
   "metadata": {},
   "outputs": [
    {
     "name": "stdout",
     "output_type": "stream",
     "text": [
      "Median Pearson correlation: 0.0\n",
      "[0.0, 0.0, 0.0]\n"
     ]
    }
   ],
   "source": [
    "# Check orthogonality of the models:\n",
    "from scipy.stats import pearsonr\n",
    "\n",
    "# Flatten the rdm matrices\n",
    "A_flat = rdms_array[0].flatten() # temporal pattern\n",
    "B_flat = rdms_array[1].flatten() # spatial (shape) pattern\n",
    "C_flat = rdms_array[2].flatten() # spatial (eccentricity) pattern\n",
    "#D_flat = rdms_array[0].flatten() # unique pattern\n",
    "\n",
    "# List of flattened matrices\n",
    "matrices = [A_flat, B_flat, C_flat] #, D_flat\n",
    "\n",
    "# Calculate pairwise Pearson correlations\n",
    "correlations = [] # A & B, A & C, A & D, B & C, B & D, C & D\n",
    "for i in range(len(matrices)):\n",
    "    for j in range(i+1, len(matrices)):\n",
    "        corr, _ = pearsonr(matrices[i], matrices[j])\n",
    "        correlations.append(corr)\n",
    "\n",
    "# Calculate the median of the Pearson correlations\n",
    "median_correlation = np.median(correlations)\n",
    "\n",
    "print(\"Median Pearson correlation:\", median_correlation)\n",
    "print(correlations)\n",
    "# The temporal model, spatial shape model and eccentricity model are completely orthogonal!!"
   ]
  },
  {
   "cell_type": "code",
   "execution_count": null,
   "id": "49346c32",
   "metadata": {},
   "outputs": [],
   "source": []
  },
  {
   "cell_type": "code",
   "execution_count": 34,
   "id": "e3ec2bfd",
   "metadata": {},
   "outputs": [],
   "source": [
    "with open('rdm_crossnobis_split_by_sess_all.pkg','rb') as f:\n",
    "    RDM = pickle.load(f)"
   ]
  },
  {
   "cell_type": "code",
   "execution_count": 45,
   "id": "7857bc7a",
   "metadata": {},
   "outputs": [],
   "source": [
    "#store the subject id and roi name in dictionary, then use the dictionary to retrieve rdms to plot\n",
    "subj_dict = dict()\n",
    "roi_dict = dict()\n",
    "epoch_dict = dict()\n",
    "sess_dict = dict()\n",
    "\n",
    "for idx, rdm in enumerate(RDM):\n",
    "    subj = rdm.rdm_descriptors['subj']\n",
    "    if isinstance(subj,list):\n",
    "        subj = subj[0]\n",
    "        \n",
    "    roi = rdm.rdm_descriptors['roi'][0]\n",
    "    if isinstance(roi,list):\n",
    "        roi = roi[0]\n",
    "        \n",
    "    epoch = rdm.rdm_descriptors['epoch']\n",
    "    if isinstance(epoch,list):\n",
    "        epoch = epoch[0]\n",
    "        \n",
    "    sess = rdm.rdm_descriptors['session']\n",
    "    if isinstance(sess,list):\n",
    "        sess = sess[0]\n",
    "    \n",
    "    if subj not in subj_dict:\n",
    "        subj_dict[subj] = []\n",
    "    subj_dict[subj].append(idx)\n",
    "    \n",
    "    if roi not in roi_dict:\n",
    "        roi_dict[roi] = []\n",
    "    roi_dict[roi].append(idx)\n",
    "\n",
    "    if epoch not in epoch_dict:\n",
    "        epoch_dict[epoch] = []\n",
    "    epoch_dict[epoch].append(idx)\n",
    "\n",
    "    if sess not in sess_dict:\n",
    "        sess_dict[sess] = []\n",
    "    sess_dict[sess].append(idx)"
   ]
  },
  {
   "cell_type": "code",
   "execution_count": 54,
   "id": "d6017c1f",
   "metadata": {},
   "outputs": [
    {
     "name": "stdout",
     "output_type": "stream",
     "text": [
      "dict_keys([0, 1])\n",
      "dict_keys(['f09', 'f10', 'f11', 'f12', 'f15', 'f16', 'f17', 'f18', 'f19'])\n",
      "dict_keys(['area4', 'v1', 'v2', 'ips', 'fef', 'sfg', 'mfg', 'ifg', 'ips0', 'ips1', 'ips2', 'ips3', 'ips4', 'ips5', 'spl1'])\n",
      "[0, 15, 16, 45, 46, 75, 76, 105, 106, 135, 136, 165, 166, 195, 196, 225, 226, 255, 270, 271, 300, 301, 330, 331, 360, 361, 390, 391, 420, 421, 450, 451, 480, 481, 510, 525, 526, 555, 556, 585, 586, 615, 616, 645, 646, 675, 676, 705, 706, 735, 736]\n"
     ]
    }
   ],
   "source": [
    "print(sess_dict.keys())\n",
    "print(subj_dict.keys())\n",
    "print(roi_dict.keys())\n",
    "print(roi_dict['area4'])"
   ]
  },
  {
   "cell_type": "code",
   "execution_count": 46,
   "id": "e604624d",
   "metadata": {},
   "outputs": [
    {
     "name": "stdout",
     "output_type": "stream",
     "text": [
      "765\n",
      "rsatoolbox.rdm.RDMs\n",
      "1 RDM(s) over 8 conditions\n",
      "\n",
      "dissimilarity_measure = \n",
      "crossnobis\n",
      "\n",
      "dissimilarities[0] = \n",
      "[[ 0.         -0.73246353 -0.10891931 -0.03151799 -0.13666205  0.3097244\n",
      "  -0.58775727  0.52855591]\n",
      " [-0.73246353  0.          0.76202754 -0.47567247  0.21300852 -1.14845819\n",
      "  -0.98923548  0.98959533]\n",
      " [-0.10891931  0.76202754  0.          0.01714445 -0.06025025  1.46239158\n",
      "  -0.53374515  2.06432883]\n",
      " [-0.03151799 -0.47567247  0.01714445  0.         -0.36605119  1.54408426\n",
      "   0.04720617  0.79075425]\n",
      " [-0.13666205  0.21300852 -0.06025025 -0.36605119  0.         -0.77363911\n",
      "  -1.04527787  0.99035248]\n",
      " [ 0.3097244  -1.14845819  1.46239158  1.54408426 -0.77363911  0.\n",
      "   0.46438043 -1.44595562]\n",
      " [-0.58775727 -0.98923548 -0.53374515  0.04720617 -1.04527787  0.46438043\n",
      "   0.         -0.01621179]\n",
      " [ 0.52855591  0.98959533  2.06432883  0.79075425  0.99035248 -1.44595562\n",
      "  -0.01621179  0.        ]]\n",
      "\n",
      "descriptors: \n",
      "noise = [[0.85972391 0.         0.         ... 0.         0.         0.        ]\n",
      " [0.         1.10971013 0.         ... 0.         0.         0.        ]\n",
      " [0.         0.         1.2413104  ... 0.         0.         0.        ]\n",
      " ...\n",
      " [0.         0.         0.         ... 1.55714968 0.         0.        ]\n",
      " [0.         0.         0.         ... 0.         0.45990265 0.        ]\n",
      " [0.         0.         0.         ... 0.         0.         1.91829833]]\n",
      "cv_descriptor = run_pair_index\n",
      "\n",
      "rdm_descriptors: \n",
      "subj = ['f09']\n",
      "roi = ['area4']\n",
      "name = f09 | area4 | Session 0\n",
      "index = [0]\n",
      "session = 0\n",
      "session_name = S5752\n",
      "epoch = delay\n",
      "\n",
      "pattern_descriptors: \n",
      "index = [0, 1, 2, 3, 4, 5, 6, 7]\n",
      "conds = ['3WL' '3TL' '3WR' '3TR' '5.5WL' '5.5TL' '5.5WR' '5.5TR']\n",
      "pattern_index = [0 1 2 3 4 5 6 7]\n",
      "sess_index = [0 0 0 0 0 0 0 0]\n",
      "\n",
      "\n"
     ]
    }
   ],
   "source": [
    "print(len(RDM))\n",
    "print(RDM[0])"
   ]
  },
  {
   "cell_type": "raw",
   "id": "7798f4a8",
   "metadata": {},
   "source": [
    "df_unique = pd.DataFrame()\n",
    "# specify the fitter\n",
    "fitter = rsatoolbox.model.fitter.Fitter(rsatoolbox.model.fitter.fit_optimize_positive) #fit_regress_nn, ridge_weight=1 #fit_optimize_positive\n",
    "\n",
    "for subj in exp1_subjects:\n",
    "    for epoch in epoch_dict.keys():\n",
    "        for roi in roi_dict.keys():\n",
    "            for sess in sess_dict.keys():\n",
    "                if subj in exp1_subjects:\n",
    "                    idx_set = set(subj_dict[subj]) & set(epoch_dict[epoch]) & set(roi_dict[roi]) & set(sess_dict[sess])\n",
    "                    idx = list(idx_set)\n",
    "                    #print(subj,epoch,roi,sess)\n",
    "                    #print(len(idx))\n",
    "                    if len(idx) > 0:\n",
    "                        rdms = RDM[idx[0]]\n",
    "#                         theta= fitter(models_weight, rdms, method='cosine')\n",
    "#                         #print(theta,model_names,roi,sess,subj)\n",
    "#                         df_unique = pd.concat([df_unique,pd.DataFrame({\n",
    "#                                     'model': model_names, \n",
    "#                                     'theta': theta.tolist(), \n",
    "#                                     'roi': [roi]*3, \n",
    "#                                     'session': [sess]*3,\n",
    "#                                     'subj': [subj]*3,\n",
    "#                                     'epoch': [epoch]*3\n",
    "#                                 })], axis=0) #\n",
    "\n",
    "    "
   ]
  },
  {
   "cell_type": "code",
   "execution_count": null,
   "id": "072bb8b6",
   "metadata": {},
   "outputs": [],
   "source": []
  },
  {
   "cell_type": "code",
   "execution_count": 14,
   "id": "65d5f053",
   "metadata": {},
   "outputs": [
    {
     "name": "stdout",
     "output_type": "stream",
     "text": [
      "[<rsatoolbox.model.model.ModelFixed object at 0x2aab66bb8850>, <rsatoolbox.model.model.ModelFixed object at 0x2aab65db3110>, <rsatoolbox.model.model.ModelFixed object at 0x2aab672322d0>]\n"
     ]
    }
   ],
   "source": [
    "models_fixed = []\n",
    "for i in range(len(model_names)):\n",
    "    models_fixed.append(rsatoolbox.model.ModelFixed(model_names[i], model_rdms[i]))\n",
    "print(models_fixed)"
   ]
  },
  {
   "cell_type": "code",
   "execution_count": 17,
   "id": "bf0c2f8a",
   "metadata": {},
   "outputs": [
    {
     "name": "stdout",
     "output_type": "stream",
     "text": [
      "[0] ['delay']\n"
     ]
    }
   ],
   "source": [
    "print(rdm.rdm_descriptors['session'],rdm.rdm_descriptors['epoch'])"
   ]
  },
  {
   "cell_type": "code",
   "execution_count": 61,
   "id": "7d5f98a8",
   "metadata": {},
   "outputs": [
    {
     "name": "stdout",
     "output_type": "stream",
     "text": [
      "{'roi': ['area4'], 'index': [0], 'session': [0], 'session_name': 'S5752', 'epoch': ['delay']}\n",
      "{'roi': ['area4'], 'index': [0], 'session': [0], 'session_name': 'S5752', 'epoch': ['delay']}\n",
      "{'roi': ['area4'], 'index': [0], 'session': [0], 'session_name': 'S5752', 'epoch': ['delay']}\n",
      "{'roi': ['area4'], 'index': [0], 'session': [0], 'session_name': 'S5752', 'epoch': ['delay']}\n",
      "{'roi': ['area4'], 'index': [0], 'session': [0], 'session_name': 'S5752', 'epoch': ['delay']}\n",
      "{'roi': ['area4'], 'index': [0], 'session': [0], 'session_name': 'S5752', 'epoch': ['delay']}\n"
     ]
    }
   ],
   "source": [
    "for rdm in rdms:\n",
    "    print(rdm.rdm_descriptors)\n",
    "    #print(isinstance(rdm.rdm_descriptors['session'], list))\n",
    "    #print(rdm.pattern_descriptors)"
   ]
  },
  {
   "cell_type": "code",
   "execution_count": 62,
   "id": "aa3a9d2c",
   "metadata": {},
   "outputs": [
    {
     "ename": "AttributeError",
     "evalue": "rdm_descriptors have mismatched dimension with measurements.",
     "output_type": "error",
     "traceback": [
      "\u001b[0;31m---------------------------------------------------------------------------\u001b[0m",
      "\u001b[0;31mAttributeError\u001b[0m                            Traceback (most recent call last)",
      "Cell \u001b[0;32mIn [62], line 1\u001b[0m\n\u001b[0;32m----> 1\u001b[0m rdm_test \u001b[38;5;241m=\u001b[39m \u001b[43mrsatoolbox\u001b[49m\u001b[38;5;241;43m.\u001b[39;49m\u001b[43mrdm\u001b[49m\u001b[38;5;241;43m.\u001b[39;49m\u001b[43mrdms\u001b[49m\u001b[38;5;241;43m.\u001b[39;49m\u001b[43mconcat\u001b[49m\u001b[43m(\u001b[49m\u001b[43mrdms\u001b[49m\u001b[43m)\u001b[49m\n",
      "File \u001b[0;32m~/.local/lib/python3.11/site-packages/rsatoolbox/rdm/rdms.py:572\u001b[0m, in \u001b[0;36mconcat\u001b[0;34m(*rdms)\u001b[0m\n\u001b[1;32m    567\u001b[0m     rdm_descriptors \u001b[38;5;241m=\u001b[39m append_descriptor(rdm_descriptors, rdm_new\u001b[38;5;241m.\u001b[39mrdm_descriptors)\n\u001b[1;32m    568\u001b[0m dissimilarities \u001b[38;5;241m=\u001b[39m np\u001b[38;5;241m.\u001b[39mconcatenate([\n\u001b[1;32m    569\u001b[0m     rdm\u001b[38;5;241m.\u001b[39mdissimilarities\n\u001b[1;32m    570\u001b[0m     \u001b[38;5;28;01mfor\u001b[39;00m rdm \u001b[38;5;129;01min\u001b[39;00m rdms_list\n\u001b[1;32m    571\u001b[0m     ], axis\u001b[38;5;241m=\u001b[39m\u001b[38;5;241m0\u001b[39m)\n\u001b[0;32m--> 572\u001b[0m rdm \u001b[38;5;241m=\u001b[39m \u001b[43mRDMs\u001b[49m\u001b[43m(\u001b[49m\n\u001b[1;32m    573\u001b[0m \u001b[43m    \u001b[49m\u001b[43mdissimilarities\u001b[49m\u001b[38;5;241;43m=\u001b[39;49m\u001b[43mdissimilarities\u001b[49m\u001b[43m,\u001b[49m\n\u001b[1;32m    574\u001b[0m \u001b[43m    \u001b[49m\u001b[43mrdm_descriptors\u001b[49m\u001b[38;5;241;43m=\u001b[39;49m\u001b[43mrdm_descriptors\u001b[49m\u001b[43m,\u001b[49m\n\u001b[1;32m    575\u001b[0m \u001b[43m    \u001b[49m\u001b[43mdescriptors\u001b[49m\u001b[38;5;241;43m=\u001b[39;49m\u001b[43mrdms_list\u001b[49m\u001b[43m[\u001b[49m\u001b[38;5;241;43m0\u001b[39;49m\u001b[43m]\u001b[49m\u001b[38;5;241;43m.\u001b[39;49m\u001b[43mdescriptors\u001b[49m\u001b[43m,\u001b[49m\n\u001b[1;32m    576\u001b[0m \u001b[43m    \u001b[49m\u001b[43mpattern_descriptors\u001b[49m\u001b[38;5;241;43m=\u001b[39;49m\u001b[43mrdms_list\u001b[49m\u001b[43m[\u001b[49m\u001b[38;5;241;43m0\u001b[39;49m\u001b[43m]\u001b[49m\u001b[38;5;241;43m.\u001b[39;49m\u001b[43mpattern_descriptors\u001b[49m\n\u001b[1;32m    577\u001b[0m \u001b[43m\u001b[49m\u001b[43m)\u001b[49m\n\u001b[1;32m    578\u001b[0m \u001b[38;5;28;01mreturn\u001b[39;00m rdm\n",
      "File \u001b[0;32m~/.local/lib/python3.11/site-packages/rsatoolbox/rdm/rdms.py:74\u001b[0m, in \u001b[0;36mRDMs.__init__\u001b[0;34m(self, dissimilarities, dissimilarity_measure, descriptors, rdm_descriptors, pattern_descriptors)\u001b[0m\n\u001b[1;32m     72\u001b[0m         \u001b[38;5;28;01mif\u001b[39;00m \u001b[38;5;129;01mnot\u001b[39;00m \u001b[38;5;28misinstance\u001b[39m(v, Iterable) \u001b[38;5;129;01mor\u001b[39;00m \u001b[38;5;28misinstance\u001b[39m(v, \u001b[38;5;28mstr\u001b[39m):\n\u001b[1;32m     73\u001b[0m             rdm_descriptors[k] \u001b[38;5;241m=\u001b[39m [v]\n\u001b[0;32m---> 74\u001b[0m     \u001b[43mcheck_descriptor_length_error\u001b[49m\u001b[43m(\u001b[49m\u001b[43mrdm_descriptors\u001b[49m\u001b[43m,\u001b[49m\n\u001b[1;32m     75\u001b[0m \u001b[43m                                  \u001b[49m\u001b[38;5;124;43m'\u001b[39;49m\u001b[38;5;124;43mrdm_descriptors\u001b[39;49m\u001b[38;5;124;43m'\u001b[39;49m\u001b[43m,\u001b[49m\n\u001b[1;32m     76\u001b[0m \u001b[43m                                  \u001b[49m\u001b[38;5;28;43mself\u001b[39;49m\u001b[38;5;241;43m.\u001b[39;49m\u001b[43mn_rdm\u001b[49m\u001b[43m)\u001b[49m\n\u001b[1;32m     77\u001b[0m     \u001b[38;5;28mself\u001b[39m\u001b[38;5;241m.\u001b[39mrdm_descriptors \u001b[38;5;241m=\u001b[39m rdm_descriptors\n\u001b[1;32m     78\u001b[0m \u001b[38;5;28;01mif\u001b[39;00m pattern_descriptors \u001b[38;5;129;01mis\u001b[39;00m \u001b[38;5;28;01mNone\u001b[39;00m:\n",
      "File \u001b[0;32m~/.local/lib/python3.11/site-packages/rsatoolbox/util/descriptor_utils.py:171\u001b[0m, in \u001b[0;36mcheck_descriptor_length_error\u001b[0;34m(descriptor, name, n_element)\u001b[0m\n\u001b[1;32m    169\u001b[0m \u001b[38;5;28;01mif\u001b[39;00m descriptor \u001b[38;5;129;01mis\u001b[39;00m \u001b[38;5;129;01mnot\u001b[39;00m \u001b[38;5;28;01mNone\u001b[39;00m:\n\u001b[1;32m    170\u001b[0m     \u001b[38;5;28;01mif\u001b[39;00m \u001b[38;5;129;01mnot\u001b[39;00m check_descriptor_length(descriptor, n_element):\n\u001b[0;32m--> 171\u001b[0m         \u001b[38;5;28;01mraise\u001b[39;00m \u001b[38;5;167;01mAttributeError\u001b[39;00m(\n\u001b[1;32m    172\u001b[0m             name \u001b[38;5;241m+\u001b[39m \u001b[38;5;124m\"\u001b[39m\u001b[38;5;124m have mismatched dimension with measurements.\u001b[39m\u001b[38;5;124m\"\u001b[39m)\n",
      "\u001b[0;31mAttributeError\u001b[0m: rdm_descriptors have mismatched dimension with measurements."
     ]
    }
   ],
   "source": [
    "rdm_test = rsatoolbox.rdm.rdms.concat(rdms)"
   ]
  },
  {
   "cell_type": "code",
   "execution_count": 28,
   "id": "8cea44d7",
   "metadata": {},
   "outputs": [
    {
     "name": "stdout",
     "output_type": "stream",
     "text": [
      "False\n"
     ]
    }
   ],
   "source": [
    "temp = rdm.rdm_descriptors['session']\n",
    "if isinstance(temp, list)==False:\n",
    "    print('False')#rdm.rdm_descriptors['session'] = [rdm.rdm_descriptors['session']]"
   ]
  },
  {
   "cell_type": "code",
   "execution_count": 38,
   "id": "ae10a561",
   "metadata": {},
   "outputs": [
    {
     "name": "stdout",
     "output_type": "stream",
     "text": [
      "['f09', 'f10', 'f11', 'f12', 'f15', 'f16']\n"
     ]
    }
   ],
   "source": [
    "print(exp1_subjects)"
   ]
  },
  {
   "cell_type": "code",
   "execution_count": 63,
   "id": "8ada6dda",
   "metadata": {},
   "outputs": [
    {
     "name": "stdout",
     "output_type": "stream",
     "text": [
      "[0]\n",
      "[15]\n",
      "[45]\n",
      "[75]\n",
      "[105]\n",
      "[135]\n"
     ]
    },
    {
     "name": "stderr",
     "output_type": "stream",
     "text": [
      "100%|██████████| 1000/1000 [00:03<00:00, 321.48it/s]\n"
     ]
    },
    {
     "name": "stdout",
     "output_type": "stream",
     "text": [
      "[]\n",
      "[16]\n",
      "[46]\n",
      "[76]\n",
      "[106]\n",
      "[136]\n"
     ]
    },
    {
     "name": "stderr",
     "output_type": "stream",
     "text": [
      "100%|██████████| 1000/1000 [00:02<00:00, 422.03it/s]\n"
     ]
    },
    {
     "name": "stdout",
     "output_type": "stream",
     "text": [
      "[1]\n",
      "[17]\n",
      "[47]\n",
      "[77]\n",
      "[107]\n",
      "[137]\n"
     ]
    },
    {
     "name": "stderr",
     "output_type": "stream",
     "text": [
      "100%|██████████| 1000/1000 [00:02<00:00, 367.99it/s]\n"
     ]
    },
    {
     "name": "stdout",
     "output_type": "stream",
     "text": [
      "[]\n",
      "[18]\n",
      "[48]\n",
      "[78]\n",
      "[108]\n",
      "[138]\n"
     ]
    },
    {
     "name": "stderr",
     "output_type": "stream",
     "text": [
      "100%|██████████| 1000/1000 [00:02<00:00, 426.00it/s]\n"
     ]
    },
    {
     "name": "stdout",
     "output_type": "stream",
     "text": [
      "[2]\n",
      "[19]\n",
      "[49]\n",
      "[79]\n",
      "[109]\n",
      "[139]\n"
     ]
    },
    {
     "name": "stderr",
     "output_type": "stream",
     "text": [
      "100%|██████████| 1000/1000 [00:02<00:00, 375.54it/s]\n"
     ]
    },
    {
     "name": "stdout",
     "output_type": "stream",
     "text": [
      "[]\n",
      "[20]\n",
      "[50]\n",
      "[80]\n",
      "[110]\n",
      "[140]\n"
     ]
    },
    {
     "name": "stderr",
     "output_type": "stream",
     "text": [
      "100%|██████████| 1000/1000 [00:02<00:00, 433.30it/s]\n"
     ]
    },
    {
     "name": "stdout",
     "output_type": "stream",
     "text": [
      "[3]\n",
      "[21]\n",
      "[51]\n",
      "[81]\n",
      "[111]\n",
      "[141]\n"
     ]
    },
    {
     "name": "stderr",
     "output_type": "stream",
     "text": [
      "100%|██████████| 1000/1000 [00:02<00:00, 371.87it/s]\n"
     ]
    },
    {
     "name": "stdout",
     "output_type": "stream",
     "text": [
      "[]\n",
      "[22]\n",
      "[52]\n",
      "[82]\n",
      "[112]\n",
      "[142]\n"
     ]
    },
    {
     "name": "stderr",
     "output_type": "stream",
     "text": [
      "100%|██████████| 1000/1000 [00:02<00:00, 431.05it/s]\n"
     ]
    },
    {
     "name": "stdout",
     "output_type": "stream",
     "text": [
      "[4]\n",
      "[23]\n",
      "[53]\n",
      "[83]\n",
      "[113]\n",
      "[143]\n"
     ]
    },
    {
     "name": "stderr",
     "output_type": "stream",
     "text": [
      "100%|██████████| 1000/1000 [00:02<00:00, 370.10it/s]\n"
     ]
    },
    {
     "name": "stdout",
     "output_type": "stream",
     "text": [
      "[]\n",
      "[24]\n",
      "[54]\n",
      "[84]\n",
      "[114]\n",
      "[144]\n"
     ]
    },
    {
     "name": "stderr",
     "output_type": "stream",
     "text": [
      "100%|██████████| 1000/1000 [00:02<00:00, 404.10it/s]\n"
     ]
    },
    {
     "name": "stdout",
     "output_type": "stream",
     "text": [
      "[5]\n",
      "[25]\n",
      "[55]\n",
      "[85]\n",
      "[115]\n",
      "[145]\n"
     ]
    },
    {
     "name": "stderr",
     "output_type": "stream",
     "text": [
      "100%|██████████| 1000/1000 [00:02<00:00, 378.63it/s]\n"
     ]
    },
    {
     "name": "stdout",
     "output_type": "stream",
     "text": [
      "[]\n",
      "[26]\n",
      "[56]\n",
      "[86]\n",
      "[116]\n",
      "[146]\n"
     ]
    },
    {
     "name": "stderr",
     "output_type": "stream",
     "text": [
      "100%|██████████| 1000/1000 [00:02<00:00, 426.79it/s]\n"
     ]
    },
    {
     "name": "stdout",
     "output_type": "stream",
     "text": [
      "[6]\n",
      "[27]\n",
      "[57]\n",
      "[87]\n",
      "[117]\n",
      "[147]\n"
     ]
    },
    {
     "name": "stderr",
     "output_type": "stream",
     "text": [
      "100%|██████████| 1000/1000 [00:02<00:00, 373.74it/s]\n"
     ]
    },
    {
     "name": "stdout",
     "output_type": "stream",
     "text": [
      "[]\n",
      "[28]\n",
      "[58]\n",
      "[88]\n",
      "[118]\n",
      "[148]\n"
     ]
    },
    {
     "name": "stderr",
     "output_type": "stream",
     "text": [
      "100%|██████████| 1000/1000 [00:02<00:00, 430.11it/s]\n"
     ]
    },
    {
     "name": "stdout",
     "output_type": "stream",
     "text": [
      "[7]\n",
      "[29]\n",
      "[59]\n",
      "[89]\n",
      "[119]\n",
      "[149]\n"
     ]
    },
    {
     "name": "stderr",
     "output_type": "stream",
     "text": [
      "100%|██████████| 1000/1000 [00:02<00:00, 378.52it/s]\n"
     ]
    },
    {
     "name": "stdout",
     "output_type": "stream",
     "text": [
      "[]\n",
      "[30]\n",
      "[60]\n",
      "[90]\n",
      "[120]\n",
      "[150]\n"
     ]
    },
    {
     "name": "stderr",
     "output_type": "stream",
     "text": [
      "100%|██████████| 1000/1000 [00:02<00:00, 408.39it/s]\n"
     ]
    },
    {
     "name": "stdout",
     "output_type": "stream",
     "text": [
      "[8]\n",
      "[31]\n",
      "[61]\n",
      "[91]\n",
      "[121]\n",
      "[151]\n"
     ]
    },
    {
     "name": "stderr",
     "output_type": "stream",
     "text": [
      "100%|██████████| 1000/1000 [00:02<00:00, 402.27it/s]\n"
     ]
    },
    {
     "name": "stdout",
     "output_type": "stream",
     "text": [
      "[]\n",
      "[32]\n",
      "[62]\n",
      "[92]\n",
      "[122]\n",
      "[152]\n"
     ]
    },
    {
     "name": "stderr",
     "output_type": "stream",
     "text": [
      "100%|██████████| 1000/1000 [00:02<00:00, 456.16it/s]\n"
     ]
    },
    {
     "name": "stdout",
     "output_type": "stream",
     "text": [
      "[9]\n",
      "[33]\n",
      "[63]\n",
      "[93]\n",
      "[123]\n",
      "[153]\n"
     ]
    },
    {
     "name": "stderr",
     "output_type": "stream",
     "text": [
      "100%|██████████| 1000/1000 [00:02<00:00, 398.73it/s]\n"
     ]
    },
    {
     "name": "stdout",
     "output_type": "stream",
     "text": [
      "[]\n",
      "[34]\n",
      "[64]\n",
      "[94]\n",
      "[124]\n",
      "[154]\n"
     ]
    },
    {
     "name": "stderr",
     "output_type": "stream",
     "text": [
      "100%|██████████| 1000/1000 [00:02<00:00, 461.79it/s]\n"
     ]
    },
    {
     "name": "stdout",
     "output_type": "stream",
     "text": [
      "[10]\n",
      "[35]\n",
      "[65]\n",
      "[95]\n",
      "[125]\n",
      "[155]\n"
     ]
    },
    {
     "name": "stderr",
     "output_type": "stream",
     "text": [
      "100%|██████████| 1000/1000 [00:02<00:00, 395.08it/s]\n"
     ]
    },
    {
     "name": "stdout",
     "output_type": "stream",
     "text": [
      "[]\n",
      "[36]\n",
      "[66]\n",
      "[96]\n",
      "[126]\n",
      "[156]\n"
     ]
    },
    {
     "name": "stderr",
     "output_type": "stream",
     "text": [
      "100%|██████████| 1000/1000 [00:02<00:00, 454.95it/s]\n"
     ]
    },
    {
     "name": "stdout",
     "output_type": "stream",
     "text": [
      "[11]\n",
      "[37]\n",
      "[67]\n",
      "[97]\n",
      "[127]\n",
      "[157]\n"
     ]
    },
    {
     "name": "stderr",
     "output_type": "stream",
     "text": [
      "100%|██████████| 1000/1000 [00:02<00:00, 361.71it/s]\n"
     ]
    },
    {
     "name": "stdout",
     "output_type": "stream",
     "text": [
      "[]\n",
      "[38]\n",
      "[68]\n",
      "[98]\n",
      "[128]\n",
      "[158]\n"
     ]
    },
    {
     "name": "stderr",
     "output_type": "stream",
     "text": [
      "100%|██████████| 1000/1000 [00:02<00:00, 442.19it/s]\n"
     ]
    },
    {
     "name": "stdout",
     "output_type": "stream",
     "text": [
      "[12]\n",
      "[39]\n",
      "[69]\n",
      "[99]\n",
      "[129]\n",
      "[159]\n"
     ]
    },
    {
     "name": "stderr",
     "output_type": "stream",
     "text": [
      "100%|██████████| 1000/1000 [00:02<00:00, 383.47it/s]\n"
     ]
    },
    {
     "name": "stdout",
     "output_type": "stream",
     "text": [
      "[]\n",
      "[40]\n",
      "[70]\n",
      "[100]\n",
      "[130]\n",
      "[160]\n"
     ]
    },
    {
     "name": "stderr",
     "output_type": "stream",
     "text": [
      "100%|██████████| 1000/1000 [00:02<00:00, 444.16it/s]\n"
     ]
    },
    {
     "name": "stdout",
     "output_type": "stream",
     "text": [
      "[13]\n",
      "[41]\n",
      "[71]\n",
      "[101]\n",
      "[131]\n",
      "[161]\n"
     ]
    },
    {
     "name": "stderr",
     "output_type": "stream",
     "text": [
      "100%|██████████| 1000/1000 [00:02<00:00, 379.24it/s]\n"
     ]
    },
    {
     "name": "stdout",
     "output_type": "stream",
     "text": [
      "[]\n",
      "[42]\n",
      "[72]\n",
      "[102]\n",
      "[132]\n",
      "[162]\n"
     ]
    },
    {
     "name": "stderr",
     "output_type": "stream",
     "text": [
      "100%|██████████| 1000/1000 [00:02<00:00, 435.31it/s]\n"
     ]
    },
    {
     "name": "stdout",
     "output_type": "stream",
     "text": [
      "[14]\n",
      "[43]\n",
      "[73]\n",
      "[103]\n",
      "[133]\n",
      "[163]\n"
     ]
    },
    {
     "name": "stderr",
     "output_type": "stream",
     "text": [
      "100%|██████████| 1000/1000 [00:02<00:00, 387.92it/s]\n"
     ]
    },
    {
     "name": "stdout",
     "output_type": "stream",
     "text": [
      "[]\n",
      "[44]\n",
      "[74]\n",
      "[104]\n",
      "[134]\n",
      "[164]\n"
     ]
    },
    {
     "name": "stderr",
     "output_type": "stream",
     "text": [
      "100%|██████████| 1000/1000 [00:02<00:00, 434.98it/s]\n"
     ]
    },
    {
     "name": "stdout",
     "output_type": "stream",
     "text": [
      "[255]\n",
      "[270]\n",
      "[300]\n",
      "[330]\n",
      "[360]\n",
      "[390]\n"
     ]
    },
    {
     "name": "stderr",
     "output_type": "stream",
     "text": [
      "100%|██████████| 1000/1000 [00:02<00:00, 379.01it/s]\n"
     ]
    },
    {
     "name": "stdout",
     "output_type": "stream",
     "text": [
      "[]\n",
      "[271]\n",
      "[301]\n",
      "[331]\n",
      "[361]\n",
      "[391]\n"
     ]
    },
    {
     "name": "stderr",
     "output_type": "stream",
     "text": [
      "100%|██████████| 1000/1000 [00:02<00:00, 441.90it/s]\n"
     ]
    },
    {
     "name": "stdout",
     "output_type": "stream",
     "text": [
      "[256]\n",
      "[272]\n",
      "[302]\n",
      "[332]\n",
      "[362]\n",
      "[392]\n"
     ]
    },
    {
     "name": "stderr",
     "output_type": "stream",
     "text": [
      "100%|██████████| 1000/1000 [00:02<00:00, 365.56it/s]\n"
     ]
    },
    {
     "name": "stdout",
     "output_type": "stream",
     "text": [
      "[]\n",
      "[273]\n",
      "[303]\n",
      "[333]\n",
      "[363]\n",
      "[393]\n"
     ]
    },
    {
     "name": "stderr",
     "output_type": "stream",
     "text": [
      "100%|██████████| 1000/1000 [00:02<00:00, 455.93it/s]\n"
     ]
    },
    {
     "name": "stdout",
     "output_type": "stream",
     "text": [
      "[257]\n",
      "[274]\n",
      "[304]\n",
      "[334]\n",
      "[364]\n",
      "[394]\n"
     ]
    },
    {
     "name": "stderr",
     "output_type": "stream",
     "text": [
      "100%|██████████| 1000/1000 [00:02<00:00, 402.60it/s]\n"
     ]
    },
    {
     "name": "stdout",
     "output_type": "stream",
     "text": [
      "[]\n",
      "[275]\n",
      "[305]\n",
      "[335]\n",
      "[365]\n",
      "[395]\n"
     ]
    },
    {
     "name": "stderr",
     "output_type": "stream",
     "text": [
      " 42%|████▏     | 417/1000 [00:00<00:01, 456.12it/s]\n"
     ]
    },
    {
     "ename": "KeyboardInterrupt",
     "evalue": "",
     "output_type": "error",
     "traceback": [
      "\u001b[0;31m---------------------------------------------------------------------------\u001b[0m",
      "\u001b[0;31mKeyboardInterrupt\u001b[0m                         Traceback (most recent call last)",
      "Cell \u001b[0;32mIn [63], line 37\u001b[0m\n\u001b[1;32m     33\u001b[0m                     rdms\u001b[38;5;241m.\u001b[39mappend(rdm)\n\u001b[1;32m     35\u001b[0m             rdm_test \u001b[38;5;241m=\u001b[39m rsatoolbox\u001b[38;5;241m.\u001b[39mrdm\u001b[38;5;241m.\u001b[39mrdms\u001b[38;5;241m.\u001b[39mconcat(rdms)\n\u001b[0;32m---> 37\u001b[0m             results \u001b[38;5;241m=\u001b[39m \u001b[43mrsatoolbox\u001b[49m\u001b[38;5;241;43m.\u001b[39;49m\u001b[43minference\u001b[49m\u001b[38;5;241;43m.\u001b[39;49m\u001b[43meval_bootstrap_rdm\u001b[49m\u001b[43m(\u001b[49m\u001b[43mmodels_fixed\u001b[49m\u001b[43m,\u001b[49m\u001b[43m \u001b[49m\n\u001b[1;32m     38\u001b[0m \u001b[43m                                            \u001b[49m\u001b[43mrdm_test\u001b[49m\u001b[43m,\u001b[49m\u001b[43m \u001b[49m\u001b[43mmethod\u001b[49m\u001b[38;5;241;43m=\u001b[39;49m\u001b[38;5;124;43m'\u001b[39;49m\u001b[38;5;124;43mcosine\u001b[39;49m\u001b[38;5;124;43m'\u001b[39;49m\u001b[43m,\u001b[49m\n\u001b[1;32m     39\u001b[0m \u001b[43m                                            \u001b[49m\u001b[43mN\u001b[49m\u001b[38;5;241;43m=\u001b[39;49m\u001b[38;5;241;43m1000\u001b[39;49m\u001b[43m,\u001b[49m\u001b[43mboot_noise_ceil\u001b[49m\u001b[38;5;241;43m=\u001b[39;49m\u001b[38;5;28;43;01mTrue\u001b[39;49;00m\u001b[43m)\u001b[49m \u001b[38;5;66;03m#rsatoolbox.inference.eval_bootstrap_rdm(models, rdms_data, method='corr')\u001b[39;00m\n\u001b[1;32m     40\u001b[0m             df_unique \u001b[38;5;241m=\u001b[39m pd\u001b[38;5;241m.\u001b[39mconcat([df_unique,pd\u001b[38;5;241m.\u001b[39mDataFrame({\n\u001b[1;32m     41\u001b[0m                         \u001b[38;5;124m'\u001b[39m\u001b[38;5;124mresults\u001b[39m\u001b[38;5;124m'\u001b[39m: [results], \n\u001b[1;32m     42\u001b[0m                         \u001b[38;5;124m'\u001b[39m\u001b[38;5;124mroi\u001b[39m\u001b[38;5;124m'\u001b[39m: [roi], \n\u001b[1;32m     43\u001b[0m                         \u001b[38;5;124m'\u001b[39m\u001b[38;5;124msession\u001b[39m\u001b[38;5;124m'\u001b[39m: [sess],\n\u001b[1;32m     44\u001b[0m                         \u001b[38;5;124m'\u001b[39m\u001b[38;5;124mepoch\u001b[39m\u001b[38;5;124m'\u001b[39m: [epoch]\n\u001b[1;32m     45\u001b[0m                     })], axis\u001b[38;5;241m=\u001b[39m\u001b[38;5;241m0\u001b[39m) \u001b[38;5;66;03m#\u001b[39;00m\n\u001b[1;32m     47\u001b[0m \u001b[38;5;66;03m#                         theta= fitter(models_weight, rdms, method='cosine')\u001b[39;00m\n\u001b[1;32m     48\u001b[0m \u001b[38;5;66;03m#                         #print(theta,model_names,roi,sess,subj)\u001b[39;00m\n\u001b[1;32m     49\u001b[0m \u001b[38;5;66;03m#                         df_unique = pd.concat([df_unique,pd.DataFrame({\u001b[39;00m\n\u001b[0;32m   (...)\u001b[0m\n\u001b[1;32m     55\u001b[0m \u001b[38;5;66;03m#                                     'epoch': [epoch]*3\u001b[39;00m\n\u001b[1;32m     56\u001b[0m \u001b[38;5;66;03m#                                 })], axis=0) #\u001b[39;00m\n",
      "File \u001b[0;32m~/.local/lib/python3.11/site-packages/rsatoolbox/inference/evaluate.py:369\u001b[0m, in \u001b[0;36meval_bootstrap_rdm\u001b[0;34m(models, data, theta, method, N, rdm_descriptor, boot_noise_ceil)\u001b[0m\n\u001b[1;32m    366\u001b[0m     evaluations[i, j] \u001b[38;5;241m=\u001b[39m np\u001b[38;5;241m.\u001b[39mmean(compare(rdm_pred, sample,\n\u001b[1;32m    367\u001b[0m                                         method))\n\u001b[1;32m    368\u001b[0m \u001b[38;5;28;01mif\u001b[39;00m boot_noise_ceil:\n\u001b[0;32m--> 369\u001b[0m     noise_min_sample, noise_max_sample \u001b[38;5;241m=\u001b[39m \u001b[43mboot_noise_ceiling\u001b[49m\u001b[43m(\u001b[49m\n\u001b[1;32m    370\u001b[0m \u001b[43m        \u001b[49m\u001b[43msample\u001b[49m\u001b[43m,\u001b[49m\u001b[43m \u001b[49m\u001b[43mmethod\u001b[49m\u001b[38;5;241;43m=\u001b[39;49m\u001b[43mmethod\u001b[49m\u001b[43m,\u001b[49m\u001b[43m \u001b[49m\u001b[43mrdm_descriptor\u001b[49m\u001b[38;5;241;43m=\u001b[39;49m\u001b[43mrdm_descriptor\u001b[49m\u001b[43m)\u001b[49m\n\u001b[1;32m    371\u001b[0m     noise_min\u001b[38;5;241m.\u001b[39mappend(noise_min_sample)\n\u001b[1;32m    372\u001b[0m     noise_max\u001b[38;5;241m.\u001b[39mappend(noise_max_sample)\n",
      "File \u001b[0;32m~/.local/lib/python3.11/site-packages/rsatoolbox/inference/noise_ceiling.py:67\u001b[0m, in \u001b[0;36mboot_noise_ceiling\u001b[0;34m(rdms, method, rdm_descriptor)\u001b[0m\n\u001b[1;32m     55\u001b[0m \u001b[38;5;124;03m\"\"\" calculates a noise ceiling by leave one out & full set\u001b[39;00m\n\u001b[1;32m     56\u001b[0m \n\u001b[1;32m     57\u001b[0m \u001b[38;5;124;03mArgs:\u001b[39;00m\n\u001b[0;32m   (...)\u001b[0m\n\u001b[1;32m     64\u001b[0m \n\u001b[1;32m     65\u001b[0m \u001b[38;5;124;03m\"\"\"\u001b[39;00m\n\u001b[1;32m     66\u001b[0m _, test_set, ceil_set \u001b[38;5;241m=\u001b[39m sets_leave_one_out_rdm(rdms, rdm_descriptor)\n\u001b[0;32m---> 67\u001b[0m pred_test \u001b[38;5;241m=\u001b[39m \u001b[43mpool_rdm\u001b[49m\u001b[43m(\u001b[49m\u001b[43mrdms\u001b[49m\u001b[43m,\u001b[49m\u001b[43m \u001b[49m\u001b[43mmethod\u001b[49m\u001b[38;5;241;43m=\u001b[39;49m\u001b[43mmethod\u001b[49m\u001b[43m)\u001b[49m\n\u001b[1;32m     68\u001b[0m noise_min \u001b[38;5;241m=\u001b[39m []\n\u001b[1;32m     69\u001b[0m noise_max \u001b[38;5;241m=\u001b[39m []\n",
      "File \u001b[0;32m~/.local/lib/python3.11/site-packages/rsatoolbox/util/inference_util.py:99\u001b[0m, in \u001b[0;36mpool_rdm\u001b[0;34m(rdms, method)\u001b[0m\n\u001b[1;32m     96\u001b[0m \u001b[38;5;28;01melif\u001b[39;00m method \u001b[38;5;241m==\u001b[39m \u001b[38;5;124m'\u001b[39m\u001b[38;5;124mcosine\u001b[39m\u001b[38;5;124m'\u001b[39m:\n\u001b[1;32m     97\u001b[0m     rdm_vec \u001b[38;5;241m=\u001b[39m rdm_vec \u001b[38;5;241m/\u001b[39m np\u001b[38;5;241m.\u001b[39msqrt(np\u001b[38;5;241m.\u001b[39mnanmean(rdm_vec \u001b[38;5;241m*\u001b[39m\u001b[38;5;241m*\u001b[39m \u001b[38;5;241m2\u001b[39m, axis\u001b[38;5;241m=\u001b[39m\u001b[38;5;241m1\u001b[39m,\n\u001b[1;32m     98\u001b[0m                                            keepdims\u001b[38;5;241m=\u001b[39m\u001b[38;5;28;01mTrue\u001b[39;00m))\n\u001b[0;32m---> 99\u001b[0m     rdm_vec \u001b[38;5;241m=\u001b[39m \u001b[43m_nan_mean\u001b[49m\u001b[43m(\u001b[49m\u001b[43mrdm_vec\u001b[49m\u001b[43m)\u001b[49m\n\u001b[1;32m    100\u001b[0m \u001b[38;5;28;01melif\u001b[39;00m method \u001b[38;5;241m==\u001b[39m \u001b[38;5;124m'\u001b[39m\u001b[38;5;124mcorr\u001b[39m\u001b[38;5;124m'\u001b[39m:\n\u001b[1;32m    101\u001b[0m     rdm_vec \u001b[38;5;241m=\u001b[39m rdm_vec \u001b[38;5;241m-\u001b[39m np\u001b[38;5;241m.\u001b[39mnanmean(rdm_vec, axis\u001b[38;5;241m=\u001b[39m\u001b[38;5;241m1\u001b[39m, keepdims\u001b[38;5;241m=\u001b[39m\u001b[38;5;28;01mTrue\u001b[39;00m)\n",
      "File \u001b[0;32m~/.local/lib/python3.11/site-packages/rsatoolbox/util/inference_util.py:149\u001b[0m, in \u001b[0;36m_nan_mean\u001b[0;34m(rdm_vector)\u001b[0m\n\u001b[1;32m    138\u001b[0m \u001b[38;5;124;03m\"\"\" takes the average over a rdm_vector with nans for masked entries\u001b[39;00m\n\u001b[1;32m    139\u001b[0m \u001b[38;5;124;03mwithout a warning\u001b[39;00m\n\u001b[1;32m    140\u001b[0m \n\u001b[0;32m   (...)\u001b[0m\n\u001b[1;32m    146\u001b[0m \n\u001b[1;32m    147\u001b[0m \u001b[38;5;124;03m\"\"\"\u001b[39;00m\n\u001b[1;32m    148\u001b[0m nan_idx \u001b[38;5;241m=\u001b[39m \u001b[38;5;241m~\u001b[39mnp\u001b[38;5;241m.\u001b[39misnan(rdm_vector[\u001b[38;5;241m0\u001b[39m])\n\u001b[0;32m--> 149\u001b[0m mean_values \u001b[38;5;241m=\u001b[39m \u001b[43mnp\u001b[49m\u001b[38;5;241;43m.\u001b[39;49m\u001b[43mmean\u001b[49m\u001b[43m(\u001b[49m\u001b[43mrdm_vector\u001b[49m\u001b[43m[\u001b[49m\u001b[43m:\u001b[49m\u001b[43m,\u001b[49m\u001b[43m \u001b[49m\u001b[43mnan_idx\u001b[49m\u001b[43m]\u001b[49m\u001b[43m,\u001b[49m\u001b[43m \u001b[49m\u001b[43maxis\u001b[49m\u001b[38;5;241;43m=\u001b[39;49m\u001b[38;5;241;43m0\u001b[39;49m\u001b[43m)\u001b[49m\n\u001b[1;32m    150\u001b[0m rdm_mean \u001b[38;5;241m=\u001b[39m np\u001b[38;5;241m.\u001b[39mempty((\u001b[38;5;241m1\u001b[39m, rdm_vector\u001b[38;5;241m.\u001b[39mshape[\u001b[38;5;241m1\u001b[39m]))\n\u001b[1;32m    151\u001b[0m rdm_mean\u001b[38;5;241m.\u001b[39mfill(np\u001b[38;5;241m.\u001b[39mnan)\n",
      "File \u001b[0;32m~/.local/lib/python3.11/site-packages/numpy/core/fromnumeric.py:3504\u001b[0m, in \u001b[0;36mmean\u001b[0;34m(a, axis, dtype, out, keepdims, where)\u001b[0m\n\u001b[1;32m   3501\u001b[0m     \u001b[38;5;28;01melse\u001b[39;00m:\n\u001b[1;32m   3502\u001b[0m         \u001b[38;5;28;01mreturn\u001b[39;00m mean(axis\u001b[38;5;241m=\u001b[39maxis, dtype\u001b[38;5;241m=\u001b[39mdtype, out\u001b[38;5;241m=\u001b[39mout, \u001b[38;5;241m*\u001b[39m\u001b[38;5;241m*\u001b[39mkwargs)\n\u001b[0;32m-> 3504\u001b[0m \u001b[38;5;28;01mreturn\u001b[39;00m \u001b[43m_methods\u001b[49m\u001b[38;5;241;43m.\u001b[39;49m\u001b[43m_mean\u001b[49m\u001b[43m(\u001b[49m\u001b[43ma\u001b[49m\u001b[43m,\u001b[49m\u001b[43m \u001b[49m\u001b[43maxis\u001b[49m\u001b[38;5;241;43m=\u001b[39;49m\u001b[43maxis\u001b[49m\u001b[43m,\u001b[49m\u001b[43m \u001b[49m\u001b[43mdtype\u001b[49m\u001b[38;5;241;43m=\u001b[39;49m\u001b[43mdtype\u001b[49m\u001b[43m,\u001b[49m\n\u001b[1;32m   3505\u001b[0m \u001b[43m                      \u001b[49m\u001b[43mout\u001b[49m\u001b[38;5;241;43m=\u001b[39;49m\u001b[43mout\u001b[49m\u001b[43m,\u001b[49m\u001b[43m \u001b[49m\u001b[38;5;241;43m*\u001b[39;49m\u001b[38;5;241;43m*\u001b[39;49m\u001b[43mkwargs\u001b[49m\u001b[43m)\u001b[49m\n",
      "File \u001b[0;32m~/.local/lib/python3.11/site-packages/numpy/core/_methods.py:120\u001b[0m, in \u001b[0;36m_mean\u001b[0;34m(a, axis, dtype, out, keepdims, where)\u001b[0m\n\u001b[1;32m    118\u001b[0m ret \u001b[38;5;241m=\u001b[39m umr_sum(arr, axis, dtype, out, keepdims, where\u001b[38;5;241m=\u001b[39mwhere)\n\u001b[1;32m    119\u001b[0m \u001b[38;5;28;01mif\u001b[39;00m \u001b[38;5;28misinstance\u001b[39m(ret, mu\u001b[38;5;241m.\u001b[39mndarray):\n\u001b[0;32m--> 120\u001b[0m \u001b[43m    \u001b[49m\u001b[38;5;28;43;01mwith\u001b[39;49;00m\u001b[43m \u001b[49m\u001b[43m_no_nep50_warning\u001b[49m\u001b[43m(\u001b[49m\u001b[43m)\u001b[49m\u001b[43m:\u001b[49m\n\u001b[1;32m    121\u001b[0m \u001b[43m        \u001b[49m\u001b[43mret\u001b[49m\u001b[43m \u001b[49m\u001b[38;5;241;43m=\u001b[39;49m\u001b[43m \u001b[49m\u001b[43mum\u001b[49m\u001b[38;5;241;43m.\u001b[39;49m\u001b[43mtrue_divide\u001b[49m\u001b[43m(\u001b[49m\n\u001b[1;32m    122\u001b[0m \u001b[43m                \u001b[49m\u001b[43mret\u001b[49m\u001b[43m,\u001b[49m\u001b[43m \u001b[49m\u001b[43mrcount\u001b[49m\u001b[43m,\u001b[49m\u001b[43m \u001b[49m\u001b[43mout\u001b[49m\u001b[38;5;241;43m=\u001b[39;49m\u001b[43mret\u001b[49m\u001b[43m,\u001b[49m\u001b[43m \u001b[49m\u001b[43mcasting\u001b[49m\u001b[38;5;241;43m=\u001b[39;49m\u001b[38;5;124;43m'\u001b[39;49m\u001b[38;5;124;43munsafe\u001b[39;49m\u001b[38;5;124;43m'\u001b[39;49m\u001b[43m,\u001b[49m\u001b[43m \u001b[49m\u001b[43msubok\u001b[49m\u001b[38;5;241;43m=\u001b[39;49m\u001b[38;5;28;43;01mFalse\u001b[39;49;00m\u001b[43m)\u001b[49m\n\u001b[1;32m    123\u001b[0m     \u001b[38;5;28;01mif\u001b[39;00m is_float16_result \u001b[38;5;129;01mand\u001b[39;00m out \u001b[38;5;129;01mis\u001b[39;00m \u001b[38;5;28;01mNone\u001b[39;00m:\n",
      "File \u001b[0;32m/gpfs/software/Anaconda/envs/jupyter/lib/python3.11/contextlib.py:137\u001b[0m, in \u001b[0;36m_GeneratorContextManager.__enter__\u001b[0;34m(self)\u001b[0m\n\u001b[1;32m    135\u001b[0m \u001b[38;5;28;01mdel\u001b[39;00m \u001b[38;5;28mself\u001b[39m\u001b[38;5;241m.\u001b[39margs, \u001b[38;5;28mself\u001b[39m\u001b[38;5;241m.\u001b[39mkwds, \u001b[38;5;28mself\u001b[39m\u001b[38;5;241m.\u001b[39mfunc\n\u001b[1;32m    136\u001b[0m \u001b[38;5;28;01mtry\u001b[39;00m:\n\u001b[0;32m--> 137\u001b[0m     \u001b[38;5;28;01mreturn\u001b[39;00m \u001b[38;5;28mnext\u001b[39m(\u001b[38;5;28mself\u001b[39m\u001b[38;5;241m.\u001b[39mgen)\n\u001b[1;32m    138\u001b[0m \u001b[38;5;28;01mexcept\u001b[39;00m \u001b[38;5;167;01mStopIteration\u001b[39;00m:\n\u001b[1;32m    139\u001b[0m     \u001b[38;5;28;01mraise\u001b[39;00m \u001b[38;5;167;01mRuntimeError\u001b[39;00m(\u001b[38;5;124m\"\u001b[39m\u001b[38;5;124mgenerator didn\u001b[39m\u001b[38;5;124m'\u001b[39m\u001b[38;5;124mt yield\u001b[39m\u001b[38;5;124m\"\u001b[39m) \u001b[38;5;28;01mfrom\u001b[39;00m \u001b[38;5;28mNone\u001b[39m\n",
      "File \u001b[0;32m~/.local/lib/python3.11/site-packages/numpy/core/_ufunc_config.py:462\u001b[0m, in \u001b[0;36m_no_nep50_warning\u001b[0;34m()\u001b[0m\n\u001b[1;32m    452\u001b[0m \u001b[38;5;129m@set_module\u001b[39m(\u001b[38;5;124m'\u001b[39m\u001b[38;5;124mnumpy\u001b[39m\u001b[38;5;124m'\u001b[39m)\n\u001b[1;32m    453\u001b[0m \u001b[38;5;129m@contextlib\u001b[39m\u001b[38;5;241m.\u001b[39mcontextmanager\n\u001b[1;32m    454\u001b[0m \u001b[38;5;28;01mdef\u001b[39;00m \u001b[38;5;21m_no_nep50_warning\u001b[39m():\n\u001b[1;32m    455\u001b[0m     \u001b[38;5;124;03m\"\"\"\u001b[39;00m\n\u001b[1;32m    456\u001b[0m \u001b[38;5;124;03m    Context manager to disable NEP 50 warnings.  This context manager is\u001b[39;00m\n\u001b[1;32m    457\u001b[0m \u001b[38;5;124;03m    only relevant if the NEP 50 warnings are enabled globally (which is not\u001b[39;00m\n\u001b[0;32m   (...)\u001b[0m\n\u001b[1;32m    460\u001b[0m \u001b[38;5;124;03m    This warning context manager itself is fully safe, however.\u001b[39;00m\n\u001b[1;32m    461\u001b[0m \u001b[38;5;124;03m    \"\"\"\u001b[39;00m\n\u001b[0;32m--> 462\u001b[0m     token \u001b[38;5;241m=\u001b[39m NO_NEP50_WARNING\u001b[38;5;241m.\u001b[39mset(\u001b[38;5;28;01mTrue\u001b[39;00m)\n\u001b[1;32m    463\u001b[0m     \u001b[38;5;28;01mtry\u001b[39;00m:\n\u001b[1;32m    464\u001b[0m         \u001b[38;5;28;01myield\u001b[39;00m\n",
      "\u001b[0;31mKeyboardInterrupt\u001b[0m: "
     ]
    }
   ],
   "source": [
    "df_unique = pd.DataFrame()\n",
    "# specify the fitter\n",
    "#fitter = rsatoolbox.model.fitter.Fitter(rsatoolbox.model.fitter.fit_optimize_positive) #fit_regress_nn, ridge_weight=1 #fit_optimize_positive\n",
    "\n",
    "#for subj in exp1_subjects:\n",
    "for epoch in epoch_dict.keys():\n",
    "    for roi in roi_dict.keys():\n",
    "        for sess in sess_dict.keys():\n",
    "            rdms = []\n",
    "            for subj in exp1_subjects:\n",
    "                idx_set = set(epoch_dict[epoch]) & set(roi_dict[roi]) & set(sess_dict[sess]) & set(subj_dict[subj])\n",
    "                idx = list(idx_set) #set(subj_dict[subj]) &\n",
    "                #print(subj,epoch,roi,sess)\n",
    "                #print(len(idx))\n",
    "                print(idx)\n",
    "                if len(idx) > 0:\n",
    "                    rdm = RDM[idx0]\n",
    "                    rdm.rdm_descriptors.pop('name',None)\n",
    "                    rdm.rdm_descriptors.pop('subj',None)\n",
    "\n",
    "                    temp = rdm.rdm_descriptors['session']\n",
    "                    if isinstance(temp, list)==False:\n",
    "                        rdm.rdm_descriptors['session'] = [rdm.rdm_descriptors['session']]\n",
    "\n",
    "                    temp = rdm.rdm_descriptors['epoch']\n",
    "                    if isinstance(temp, list)==False:\n",
    "                        rdm.rdm_descriptors['epoch'] = [rdm.rdm_descriptors['epoch']]\n",
    "                        \n",
    "                    temp = rdm.rdm_descriptors['session_name']\n",
    "                    if isinstance(temp, list)==False:\n",
    "                        rdm.rdm_descriptors['session_name'] = [rdm.rdm_descriptors['session_name']]\n",
    "\n",
    "                    rdms.append(rdm)\n",
    "                        \n",
    "            rdm_test = rsatoolbox.rdm.rdms.concat(rdms)\n",
    "\n",
    "            results = rsatoolbox.inference.eval_bootstrap_rdm(models_fixed, \n",
    "                                            rdm_test, method='cosine',\n",
    "                                            N=1000,boot_noise_ceil=True) #rsatoolbox.inference.eval_bootstrap_rdm(models, rdms_data, method='corr')\n",
    "            df_unique = pd.concat([df_unique,pd.DataFrame({\n",
    "                        'results': [results], \n",
    "                        'roi': [roi], \n",
    "                        'session': [sess],\n",
    "                        'epoch': [epoch]\n",
    "                    })], axis=0) #\n",
    "                        \n",
    "#                         theta= fitter(models_weight, rdms, method='cosine')\n",
    "#                         #print(theta,model_names,roi,sess,subj)\n",
    "#                         df_unique = pd.concat([df_unique,pd.DataFrame({\n",
    "#                                     'model': model_names, \n",
    "#                                     'theta': theta.tolist(), \n",
    "#                                     'roi': [roi]*3, \n",
    "#                                     'session': [sess]*3,\n",
    "#                                     'subj': [subj]*3,\n",
    "#                                     'epoch': [epoch]*3\n",
    "#                                 })], axis=0) #\n",
    "\n"
   ]
  },
  {
   "cell_type": "code",
   "execution_count": 72,
   "id": "6fdaebb1",
   "metadata": {},
   "outputs": [
    {
     "name": "stdout",
     "output_type": "stream",
     "text": [
      "Results for running bootstrap_rdm evaluation for cosine on 3 models:\n",
      "\n",
      "Model    |   Eval ± SEM   | p (against 0) | p (against NC) |\n",
      "------------------------------------------------------------\n",
      "TempPat  |  0.091 ± 0.000 |      < 0.001  |       < 0.001  |\n",
      "ShapePat |  0.220 ± 0.000 |      < 0.001  |       < 0.001  |\n",
      "EccPat   |  0.229 ± 0.000 |      < 0.001  |       < 0.001  |\n",
      "\n",
      "p-values are based on uncorrected t-tests\n",
      "delay\n"
     ]
    }
   ],
   "source": [
    "print(df_unique.iloc[0,0])\n",
    "print(df_unique.iloc[0,3])"
   ]
  },
  {
   "cell_type": "code",
   "execution_count": 74,
   "id": "34d0a528",
   "metadata": {},
   "outputs": [
    {
     "ename": "AttributeError",
     "evalue": "'Result' object has no attribute 'p'",
     "output_type": "error",
     "traceback": [
      "\u001b[0;31m---------------------------------------------------------------------------\u001b[0m",
      "\u001b[0;31mAttributeError\u001b[0m                            Traceback (most recent call last)",
      "Cell \u001b[0;32mIn [74], line 2\u001b[0m\n\u001b[1;32m      1\u001b[0m result \u001b[38;5;241m=\u001b[39m df_unique\u001b[38;5;241m.\u001b[39miloc[\u001b[38;5;241m0\u001b[39m,\u001b[38;5;241m0\u001b[39m]\n\u001b[0;32m----> 2\u001b[0m \u001b[43mresult\u001b[49m\u001b[38;5;241;43m.\u001b[39;49m\u001b[43mp\u001b[49m\n",
      "\u001b[0;31mAttributeError\u001b[0m: 'Result' object has no attribute 'p'"
     ]
    }
   ],
   "source": [
    "result = df_unique.iloc[0,0]\n",
    "result.p"
   ]
  },
  {
   "cell_type": "code",
   "execution_count": 48,
   "id": "ff96942b",
   "metadata": {},
   "outputs": [
    {
     "name": "stdout",
     "output_type": "stream",
     "text": [
      "Empty DataFrame\n",
      "Columns: []\n",
      "Index: []\n"
     ]
    }
   ],
   "source": [
    "print(df_unique)"
   ]
  },
  {
   "cell_type": "code",
   "execution_count": 67,
   "id": "2b414516",
   "metadata": {},
   "outputs": [
    {
     "data": {
      "text/plain": [
       "(<Figure size 1250x1000 with 2 Axes>, <Axes: >, <Axes: >)"
      ]
     },
     "execution_count": 67,
     "metadata": {},
     "output_type": "execute_result"
    },
    {
     "data": {
      "image/png": "[encoded data removed]",
      "text/plain": [
       "<Figure size 1250x1000 with 2 Axes>"
      ]
     },
     "metadata": {},
     "output_type": "display_data"
    }
   ],
   "source": [
    "rsatoolbox.vis.plot_model_comparison(df_unique.iloc[0,0])"
   ]
  },
  {
   "cell_type": "code",
   "execution_count": 71,
   "id": "c9023c6f",
   "metadata": {},
   "outputs": [
    {
     "name": "stdout",
     "output_type": "stream",
     "text": [
      "[rsatoolbox.rdm.RDMs(\n",
      "dissimilarity_measure = \n",
      "correlation\n",
      "dissimilarities = \n",
      "[[0.1933397  1.01031541 0.35735646 1.05116897 0.29753357 0.84657388\n",
      "  0.5886127  1.04925423 0.29716822 0.964166   0.29602589 0.80400707\n",
      "  0.47715861 0.90432496 0.27014803 0.62890542 0.27719824 0.64992316\n",
      "  0.87196365 0.51985344 0.9003249  0.42394231 0.69882223 0.27656006\n",
      "  0.51088176 0.39693726 0.44284557 0.49648224]]\n",
      "descriptors = \n",
      "{}\n",
      "rdm_descriptors = \n",
      "{'roi': ['spl1'], 'index': [0], 'session': [1], 'epoch': ['stimulus']}\n",
      "pattern_descriptors = \n",
      "{'index': [0, 1, 2, 3, 4, 5, 6, 7], 'sess_index': [1, 1, 1, 1, 1, 1, 1, 1], 'conds': ['CWL', 'CTL', 'CWR', 'CTR', 'NWL', 'NTL', 'NWR', 'NTR'], 'pattern_index': [0, 1, 2, 3, 4, 5, 6, 7]}\n",
      ", rsatoolbox.rdm.RDMs(\n",
      "dissimilarity_measure = \n",
      "correlation\n",
      "dissimilarities = \n",
      "[[0.19553182 0.07941482 0.13664701 0.20959409 0.2245041  0.10569198\n",
      "  0.1943806  0.2046541  0.13706179 0.12960455 0.14512931 0.25317703\n",
      "  0.20028165 0.1323997  0.24556014 0.23580066 0.1099231  0.21528022\n",
      "  0.15276754 0.17676126 0.16434752 0.20275915 0.09556311 0.22259621\n",
      "  0.13629584 0.1802831  0.14728234 0.16581681]]\n",
      "descriptors = \n",
      "{}\n",
      "rdm_descriptors = \n",
      "{'roi': ['spl1'], 'index': [0], 'session': [[1]], 'epoch': [['stimulus']]}\n",
      "pattern_descriptors = \n",
      "{'index': [0, 1, 2, 3, 4, 5, 6, 7], 'sess_index': [1, 1, 1, 1, 1, 1, 1, 1], 'conds': ['3WL', '3TL', '3WR', '3TR', '5.5WL', '5.5TL', '5.5WR', '5.5TR'], 'pattern_index': [0, 1, 2, 3, 4, 5, 6, 7]}\n",
      ", rsatoolbox.rdm.RDMs(\n",
      "dissimilarity_measure = \n",
      "correlation\n",
      "dissimilarities = \n",
      "[[0.05869999 0.04151077 0.04055561 0.06927189 0.07281587 0.09548993\n",
      "  0.09531619 0.05598206 0.04438315 0.0648708  0.09266757 0.14975451\n",
      "  0.10415012 0.04603246 0.06405045 0.08725701 0.11472865 0.10388939\n",
      "  0.06097136 0.10210387 0.13403133 0.09990248 0.09416611 0.15247321\n",
      "  0.0760961  0.05558817 0.07383455 0.12129762]]\n",
      "descriptors = \n",
      "{}\n",
      "rdm_descriptors = \n",
      "{'roi': ['spl1'], 'index': [0], 'session': [1], 'epoch': ['stimulus']}\n",
      "pattern_descriptors = \n",
      "{'index': [0, 1, 2, 3, 4, 5, 6, 7], 'sess_index': [1, 1, 1, 1, 1, 1, 1, 1], 'conds': ['3WL', '3TL', '3WR', '3TR', '5.5WL', '5.5TL', '5.5WR', '5.5TR'], 'pattern_index': [0, 1, 2, 3, 4, 5, 6, 7]}\n",
      ", rsatoolbox.rdm.RDMs(\n",
      "dissimilarity_measure = \n",
      "correlation\n",
      "dissimilarities = \n",
      "[[0.14339433 0.18255468 0.16044364 0.24861077 0.20930449 0.22805548\n",
      "  0.26250408 0.24644464 0.1201961  0.21835432 0.17668694 0.27380355\n",
      "  0.16767192 0.29565075 0.28734127 0.4316893  0.19045478 0.34463926\n",
      "  0.21911082 0.25367427 0.24829855 0.14974828 0.32620246 0.1737116\n",
      "  0.14944393 0.43845119 0.2725778  0.20709722]]\n",
      "descriptors = \n",
      "{}\n",
      "rdm_descriptors = \n",
      "{'roi': ['spl1'], 'index': [0], 'session': [1], 'epoch': ['stimulus']}\n",
      "pattern_descriptors = \n",
      "{'index': [0, 1, 2, 3, 4, 5, 6, 7], 'sess_index': [1, 1, 1, 1, 1, 1, 1, 1], 'conds': ['3WL', '3TL', '3WR', '3TR', '5.5WL', '5.5TL', '5.5WR', '5.5TR'], 'pattern_index': [0, 1, 2, 3, 4, 5, 6, 7]}\n",
      ", rsatoolbox.rdm.RDMs(\n",
      "dissimilarity_measure = \n",
      "correlation\n",
      "dissimilarities = \n",
      "[[0.17065941 0.14610631 0.12848114 0.14071688 0.14519008 0.31990648\n",
      "  0.20157631 0.18886978 0.16746808 0.13841937 0.14712536 0.32768838\n",
      "  0.16825661 0.14863282 0.14460368 0.22834225 0.36905819 0.17648651\n",
      "  0.1819263  0.19143116 0.26284105 0.12530279 0.14317759 0.39675754\n",
      "  0.16627648 0.21648536 0.13239534 0.16761638]]\n",
      "descriptors = \n",
      "{}\n",
      "rdm_descriptors = \n",
      "{'roi': ['spl1'], 'index': [0], 'session': [1], 'epoch': ['stimulus']}\n",
      "pattern_descriptors = \n",
      "{'index': [0, 1, 2, 3, 4, 5, 6, 7], 'sess_index': [1, 1, 1, 1, 1, 1, 1, 1], 'conds': ['3WL', '3TL', '3WR', '3TR', '5.5WL', '5.5TL', '5.5WR', '5.5TR'], 'pattern_index': [0, 1, 2, 3, 4, 5, 6, 7]}\n",
      ", rsatoolbox.rdm.RDMs(\n",
      "dissimilarity_measure = \n",
      "correlation\n",
      "dissimilarities = \n",
      "[[0.29362841 0.32358551 0.22304505 0.16050746 0.12769232 0.18647422\n",
      "  0.30153007 0.1297186  0.20714708 0.39563198 0.21426981 0.29016502\n",
      "  0.34157123 0.20540712 0.34110319 0.23276603 0.27259669 0.30191603\n",
      "  0.24012563 0.19330692 0.24105349 0.29007977 0.12098074 0.16046809\n",
      "  0.29561401 0.12369214 0.23722977 0.21675283]]\n",
      "descriptors = \n",
      "{}\n",
      "rdm_descriptors = \n",
      "{'roi': ['spl1'], 'index': [0], 'session': [1], 'epoch': ['stimulus']}\n",
      "pattern_descriptors = \n",
      "{'index': [0, 1, 2, 3, 4, 5, 6, 7], 'sess_index': [1, 1, 1, 1, 1, 1, 1, 1], 'conds': ['3WL', '3TL', '3WR', '3TR', '5.5WL', '5.5TL', '5.5WR', '5.5TR'], 'pattern_index': [0, 1, 2, 3, 4, 5, 6, 7]}\n",
      ", rsatoolbox.rdm.RDMs(\n",
      "dissimilarity_measure = \n",
      "correlation\n",
      "dissimilarities = \n",
      "[[0.28291005 0.17582635 0.19538915 0.31401738 0.49636167 0.17993689\n",
      "  0.13306138 0.34331367 0.30669662 0.40352122 0.38989944 0.29416729\n",
      "  0.32971365 0.35545619 0.40775194 0.53397283 0.29131289 0.18727952\n",
      "  0.13991101 0.32323326 0.33245608 0.18461685 0.21770009 0.53652107\n",
      "  0.23157697 0.70702917 0.31356109 0.33924626]]\n",
      "descriptors = \n",
      "{}\n",
      "rdm_descriptors = \n",
      "{'roi': ['spl1'], 'index': [0], 'session': [1], 'epoch': ['stimulus']}\n",
      "pattern_descriptors = \n",
      "{'index': [0, 1, 2, 3, 4, 5, 6, 7], 'sess_index': [1, 1, 1, 1, 1, 1, 1, 1], 'conds': ['CWL', 'CTL', 'CWR', 'CTR', 'NWL', 'NTL', 'NWR', 'NTR'], 'pattern_index': [0, 1, 2, 3, 4, 5, 6, 7]}\n",
      ", rsatoolbox.rdm.RDMs(\n",
      "dissimilarity_measure = \n",
      "correlation\n",
      "dissimilarities = \n",
      "[[0.27185179 0.13523611 0.26518897 0.14272649 0.20195081 0.14926065\n",
      "  0.2885363  0.23514807 0.25577924 0.19614056 0.28889996 0.33407272\n",
      "  0.16220508 0.24060775 0.12032156 0.19907175 0.15046991 0.21000444\n",
      "  0.21266244 0.28536038 0.30214938 0.20526941 0.16996103 0.14401271\n",
      "  0.18483616 0.21889945 0.2162602  0.22464086]]\n",
      "descriptors = \n",
      "{}\n",
      "rdm_descriptors = \n",
      "{'roi': ['spl1'], 'index': [0], 'session': [1], 'epoch': ['stimulus']}\n",
      "pattern_descriptors = \n",
      "{'index': [0, 1, 2, 3, 4, 5, 6, 7], 'sess_index': [1, 1, 1, 1, 1, 1, 1, 1], 'conds': ['CWL', 'CTL', 'CWR', 'CTR', 'NWL', 'NTL', 'NWR', 'NTR'], 'pattern_index': [0, 1, 2, 3, 4, 5, 6, 7]}\n",
      "]\n"
     ]
    }
   ],
   "source": [
    "print(rdms)"
   ]
  },
  {
   "cell_type": "code",
   "execution_count": 72,
   "id": "6377282c",
   "metadata": {},
   "outputs": [
    {
     "name": "stdout",
     "output_type": "stream",
     "text": [
      "rsatoolbox.rdm.RDMs\n",
      "8 RDM(s) over 8 conditions\n",
      "\n",
      "dissimilarity_measure = \n",
      "None\n",
      "\n",
      "dissimilarities[0] = \n",
      "[[0.         0.1933397  1.01031541 0.35735646 1.05116897 0.29753357\n",
      "  0.84657388 0.5886127 ]\n",
      " [0.1933397  0.         1.04925423 0.29716822 0.964166   0.29602589\n",
      "  0.80400707 0.47715861]\n",
      " [1.01031541 1.04925423 0.         0.90432496 0.27014803 0.62890542\n",
      "  0.27719824 0.64992316]\n",
      " [0.35735646 0.29716822 0.90432496 0.         0.87196365 0.51985344\n",
      "  0.9003249  0.42394231]\n",
      " [1.05116897 0.964166   0.27014803 0.87196365 0.         0.69882223\n",
      "  0.27656006 0.51088176]\n",
      " [0.29753357 0.29602589 0.62890542 0.51985344 0.69882223 0.\n",
      "  0.39693726 0.44284557]\n",
      " [0.84657388 0.80400707 0.27719824 0.9003249  0.27656006 0.39693726\n",
      "  0.         0.49648224]\n",
      " [0.5886127  0.47715861 0.64992316 0.42394231 0.51088176 0.44284557\n",
      "  0.49648224 0.        ]]\n",
      "\n",
      "descriptors: \n",
      "\n",
      "rdm_descriptors: \n",
      "roi = ['spl1', 'spl1', 'spl1', 'spl1', 'spl1', 'spl1', 'spl1', 'spl1']\n",
      "index = [0, 1, 2, 3, 4, 5, 6, 7]\n",
      "session = [1, [1], 1, 1, 1, 1, 1, 1]\n",
      "epoch = ['stimulus', ['stimulus'], 'stimulus', 'stimulus', 'stimulus', 'stimulus', 'stimulus', 'stimulus']\n",
      "\n",
      "pattern_descriptors: \n",
      "index = [0, 1, 2, 3, 4, 5, 6, 7]\n",
      "sess_index = [1, 1, 1, 1, 1, 1, 1, 1]\n",
      "conds = ['CWL', 'CTL', 'CWR', 'CTR', 'NWL', 'NTL', 'NWR', 'NTR']\n",
      "pattern_index = [0, 1, 2, 3, 4, 5, 6, 7]\n",
      "\n",
      "\n"
     ]
    }
   ],
   "source": [
    "rdm_test = rsatoolbox.rdm.rdms.concat(rdms)\n",
    "print(rdm_test)"
   ]
  },
  {
   "cell_type": "code",
   "execution_count": 75,
   "id": "4a3e75d8",
   "metadata": {},
   "outputs": [
    {
     "name": "stdout",
     "output_type": "stream",
     "text": [
      "Results for running fixed evaluation for cosine on 3 models:\n",
      "\n",
      "Model    |   Eval ± SEM   | p (against 0) | p (against NC) |\n",
      "------------------------------------------------------------\n",
      "TempPat  |  0.719 ± 0.010 |      < 0.001  |       < 0.001  |\n",
      "ShapePat |  0.736 ± 0.016 |      < 0.001  |       < 0.001  |\n",
      "EccPat   |  0.748 ± 0.014 |      < 0.001  |       < 0.001  |\n",
      "\n",
      "p-values are based on uncorrected t-tests\n"
     ]
    }
   ],
   "source": [
    "results_1 = rsatoolbox.inference.eval_fixed(models_fixed, rdm_test, method='cosine')\n",
    "#rsatoolbox.vis.plot_model_comparison(results_1)\n",
    "print(results_1) # no variance across subjects"
   ]
  },
  {
   "cell_type": "code",
   "execution_count": 89,
   "id": "e5f893fb",
   "metadata": {},
   "outputs": [
    {
     "name": "stderr",
     "output_type": "stream",
     "text": [
      "100%|██████████| 1000/1000 [00:03<00:00, 307.80it/s]\n"
     ]
    },
    {
     "data": {
      "text/plain": [
       "(<Figure size 1250x1000 with 2 Axes>, <Axes: >, <Axes: >)"
      ]
     },
     "execution_count": 89,
     "metadata": {},
     "output_type": "execute_result"
    },
    {
     "data": {
      "image/png": "[encoded data removed]",
      "text/plain": [
       "<Figure size 1250x1000 with 2 Axes>"
      ]
     },
     "metadata": {},
     "output_type": "display_data"
    }
   ],
   "source": [
    "results_2a = rsatoolbox.inference.eval_bootstrap_rdm(models_fixed, rdm_test, method='cosine',\n",
    "                                                        N=1000,boot_noise_ceil=True)\n",
    "rsatoolbox.vis.plot_model_comparison(results_2a)"
   ]
  },
  {
   "cell_type": "code",
   "execution_count": 90,
   "id": "8a66cebd",
   "metadata": {},
   "outputs": [
    {
     "name": "stdout",
     "output_type": "stream",
     "text": [
      "Results for running bootstrap_rdm evaluation for cosine on 3 models:\n",
      "\n",
      "Model    |   Eval ± SEM   | p (against 0) | p (against NC) |\n",
      "------------------------------------------------------------\n",
      "TempPat  |  0.720 ± 0.010 |      < 0.001  |       < 0.001  |\n",
      "ShapePat |  0.736 ± 0.016 |      < 0.001  |       < 0.001  |\n",
      "EccPat   |  0.748 ± 0.015 |      < 0.001  |       < 0.001  |\n",
      "\n",
      "p-values are based on uncorrected t-tests\n"
     ]
    }
   ],
   "source": [
    "print(results_2a)"
   ]
  },
  {
   "cell_type": "raw",
   "id": "8aef2dc6",
   "metadata": {},
   "source": [
    "<!-- # noise ceiling function:\n",
    "#     _, test_set, ceil_set = sets_leave_one_out_rdm(rdms, rdm_descriptor)\n",
    "#     pred_test = pool_rdm(rdms, method=method)\n",
    "#     noise_min = []\n",
    "#     noise_max = []\n",
    "#     for i in range(len(ceil_set)):\n",
    "#         train = ceil_set[i]\n",
    "#         test = test_set[i]\n",
    "#         pred_train = pool_rdm(train[0], method=method)\n",
    "#         noise_min.append(np.mean(compare(pred_train, test[0], method)))\n",
    "#         noise_max.append(np.mean(compare(pred_test, test[0], method)))\n",
    "#     noise_min = np.mean(np.array(noise_min))\n",
    "#     noise_max = np.mean(np.array(noise_max))\n",
    "# for eval_fixed:  -->\n",
    "\n",
    "The upper bound of the noise ceiling is computed by finding the RDM with the highest possible average similarity to the measured RDMs. This is not 1 because the RDMs for different subjects or measurements differ. The lower bound of the noise ceiling is a leave one out crossvalidation of this averaging procedure, i.e. we find the RDM to perform optimally on all but one of the RDMs and evaluate this average RDM on the left-out RDM. Each RDM is left out once and the correlations are averaged.\n"
   ]
  },
  {
   "cell_type": "code",
   "execution_count": null,
   "id": "53be72f4",
   "metadata": {},
   "outputs": [],
   "source": []
  },
  {
   "cell_type": "code",
   "execution_count": null,
   "id": "4d18507f",
   "metadata": {},
   "outputs": [],
   "source": []
  },
  {
   "cell_type": "code",
   "execution_count": null,
   "id": "1fd368fa",
   "metadata": {},
   "outputs": [],
   "source": []
  },
  {
   "cell_type": "code",
   "execution_count": 76,
   "id": "e326a02e",
   "metadata": {},
   "outputs": [
    {
     "name": "stderr",
     "output_type": "stream",
     "text": [
      "100%|██████████| 1000/1000 [00:05<00:00, 196.55it/s]\n"
     ]
    },
    {
     "data": {
      "text/plain": [
       "(<Figure size 1250x1000 with 2 Axes>, <Axes: >, <Axes: >)"
      ]
     },
     "execution_count": 76,
     "metadata": {},
     "output_type": "execute_result"
    },
    {
     "data": {
      "image/png": "[encoded data removed]",
      "text/plain": [
       "<Figure size 1250x1000 with 2 Axes>"
      ]
     },
     "metadata": {},
     "output_type": "display_data"
    }
   ],
   "source": [
    "results_2b = rsatoolbox.inference.eval_bootstrap_pattern(models_fixed, rdm_test, method='cosine',\n",
    "                                                        pattern_descriptor='index',N=1000,boot_noise_ceil=True)\n",
    "rsatoolbox.vis.plot_model_comparison(results_2b)"
   ]
  },
  {
   "cell_type": "code",
   "execution_count": 77,
   "id": "877c6ba8",
   "metadata": {},
   "outputs": [
    {
     "name": "stdout",
     "output_type": "stream",
     "text": [
      "Results for running bootstrap_pattern evaluation for cosine on 3 models:\n",
      "\n",
      "Model    |   Eval ± SEM   | p (against 0) | p (against NC) |\n",
      "------------------------------------------------------------\n",
      "TempPat  |  0.718 ± 0.092 |      < 0.001  |         0.043  |\n",
      "ShapePat |  0.733 ± 0.108 |      < 0.001  |         0.088  |\n",
      "EccPat   |  0.753 ± 0.096 |      < 0.001  |         0.075  |\n",
      "\n",
      "p-values are based on uncorrected t-tests\n"
     ]
    }
   ],
   "source": [
    "print(results_2b)"
   ]
  },
  {
   "cell_type": "code",
   "execution_count": 78,
   "id": "05005c51",
   "metadata": {},
   "outputs": [
    {
     "data": {
      "text/plain": [
       "0.9899196331277256"
      ]
     },
     "execution_count": 78,
     "metadata": {},
     "output_type": "execute_result"
    }
   ],
   "source": [
    "np.nanmax(results_2b.noise_ceiling)"
   ]
  },
  {
   "cell_type": "code",
   "execution_count": 79,
   "id": "80bb6a8a",
   "metadata": {},
   "outputs": [
    {
     "data": {
      "text/plain": [
       "array([[0.00877597, 0.00868663],\n",
       "       [0.01179775, 0.01173445],\n",
       "       [0.00883766, 0.0088788 ]])"
      ]
     },
     "execution_count": 79,
     "metadata": {},
     "output_type": "execute_result"
    }
   ],
   "source": [
    "results_2b.diff_var\n",
    "results_2b.model_var\n",
    "results_2b.noise_ceil_var"
   ]
  },
  {
   "cell_type": "code",
   "execution_count": 81,
   "id": "f5a1f7fc",
   "metadata": {},
   "outputs": [
    {
     "name": "stderr",
     "output_type": "stream",
     "text": [
      "100%|██████████| 1000/1000 [00:17<00:00, 55.81it/s]\n"
     ]
    }
   ],
   "source": [
    "results_2c = rsatoolbox.inference.eval_dual_bootstrap(\n",
    "        models_fixed, rdm_test, method='cosine', fitter=None,\n",
    "        k_pattern=2, k_rdm=2, N=1000, n_cv=2,\n",
    "        pattern_descriptor='index', rdm_descriptor='index',\n",
    "        use_correction=True)"
   ]
  },
  {
   "cell_type": "code",
   "execution_count": 82,
   "id": "1b352757",
   "metadata": {},
   "outputs": [
    {
     "name": "stderr",
     "output_type": "stream",
     "text": [
      "/gpfs/home/linjjiang/.local/lib/python3.11/site-packages/rsatoolbox/vis/model_plot.py:243: RuntimeWarning: Mean of empty slice\n",
      "  evaluations = np.nanmean(evaluations, axis=-1)\n"
     ]
    },
    {
     "data": {
      "text/plain": [
       "(<Figure size 1250x1000 with 2 Axes>, <Axes: >, <Axes: >)"
      ]
     },
     "execution_count": 82,
     "metadata": {},
     "output_type": "execute_result"
    },
    {
     "data": {
      "image/png": "[encoded data removed]",
      "text/plain": [
       "<Figure size 1250x1000 with 2 Axes>"
      ]
     },
     "metadata": {},
     "output_type": "display_data"
    }
   ],
   "source": [
    "rsatoolbox.vis.plot_model_comparison(results_2c)"
   ]
  },
  {
   "cell_type": "code",
   "execution_count": 83,
   "id": "53a44e2f",
   "metadata": {},
   "outputs": [
    {
     "name": "stdout",
     "output_type": "stream",
     "text": [
      "Results for running dual_bootstrap evaluation for cosine on 3 models:\n",
      "\n",
      "Model    |   Eval ± SEM   | p (against 0) | p (against NC) |\n",
      "------------------------------------------------------------\n",
      "TempPat  |  0.694 ± 0.039 |      < 0.001  |       < 0.001  |\n",
      "ShapePat |  0.709 ± 0.040 |      < 0.001  |       < 0.001  |\n",
      "EccPat   |  0.719 ± 0.022 |      < 0.001  |       < 0.001  |\n",
      "\n",
      "p-values are based on uncorrected t-tests\n"
     ]
    },
    {
     "name": "stderr",
     "output_type": "stream",
     "text": [
      "/gpfs/home/linjjiang/.local/lib/python3.11/site-packages/rsatoolbox/inference/result.py:222: RuntimeWarning: Mean of empty slice\n",
      "  perf = np.nanmean(perf, axis=-1)\n"
     ]
    }
   ],
   "source": [
    "print(results_2c)"
   ]
  },
  {
   "cell_type": "code",
   "execution_count": null,
   "id": "a83029c1",
   "metadata": {},
   "outputs": [],
   "source": []
  }
 ],
 "metadata": {
  "kernelspec": {
   "display_name": "Python 3 (ipykernel)",
   "language": "python",
   "name": "python3"
  },
  "language_info": {
   "codemirror_mode": {
    "name": "ipython",
    "version": 3
   },
   "file_extension": ".py",
   "mimetype": "text/x-python",
   "name": "python",
   "nbconvert_exporter": "python",
   "pygments_lexer": "ipython3",
   "version": "3.11.0"
  }
 },
 "nbformat": 4,
 "nbformat_minor": 5
}
