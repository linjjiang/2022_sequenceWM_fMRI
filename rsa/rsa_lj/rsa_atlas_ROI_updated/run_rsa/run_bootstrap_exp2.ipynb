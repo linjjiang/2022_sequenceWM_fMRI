{
 "cells": [
  {
   "cell_type": "code",
   "execution_count": 1,
   "id": "76a858ee",
   "metadata": {},
   "outputs": [],
   "source": [
    "# relevant imports\n",
    "import numpy as np\n",
    "from scipy import io\n",
    "import matplotlib.pyplot as plt\n",
    "from matplotlib import rcParams\n",
    "import rsatoolbox\n",
    "import rsatoolbox.data as rsd # abbreviation to deal with dataset\n",
    "import rsatoolbox.rdm as rsr\n",
    "import os\n",
    "import seaborn as sns\n",
    "import sklearn as sk\n",
    "import math\n",
    "import pandas as pd\n",
    "import pickle\n",
    "import copy\n",
    "import multiprocessing as mp"
   ]
  },
  {
   "cell_type": "code",
   "execution_count": 2,
   "id": "65668b2e",
   "metadata": {},
   "outputs": [],
   "source": [
    "# change the working directory to be the timecourse data\n",
    "#os.chdir('/mnt/Data1/linjdata1/vswmda/scan_data/rsa/full_GLM_mgs_0.05_50/')\n",
    "os.chdir('/gpfs/scratch/linjjiang/scan_data/rsa/full_GLM_mgs_0.05_50/')"
   ]
  },
  {
   "cell_type": "code",
   "execution_count": 3,
   "id": "81d7308a",
   "metadata": {},
   "outputs": [],
   "source": [
    "subjects = ['f09','f10','f11','f12','f15','f16','f17','f18','f19']\n",
    "epochs = ['delay','response','stimulus']\n",
    "exp1_subjects = ['f09','f10','f11','f12','f15','f16']\n",
    "exp2_subjects = ['f17','f18','f19']"
   ]
  },
  {
   "cell_type": "code",
   "execution_count": 4,
   "id": "fde4ced7",
   "metadata": {},
   "outputs": [],
   "source": [
    "# get ROI name\n",
    "# if full_GLM_mgs_xxx\n",
    "order = ['area4', 'v1', 'v2', 'ips', 'fef', 'sfg', 'mfg', 'ifg',\n",
    "         'ips0', 'ips1', 'ips2', 'ips3', 'ips4', 'ips5', 'spl1']\n",
    "\n",
    "# # if full_GLM_atlas_roi\n",
    "# order = ['area4-ju50',\n",
    "#          'area8-hcp','area9-hcp','area9|46-hcp','area44|45|47l-hcp','fef-hcp',\n",
    "         \n",
    "#          'v1-wang25','v2-wang25','ips-wang15','ips0-wang15','ips1-wang15',\n",
    "#          'ips2-wang15','ips3-wang15','ips4-wang15','ips5-wang15','spl1-wang15','fef-wang25',\n",
    "         \n",
    "#          'ipcs-md','spcs-md','amfg-md','pmfg-md','ifg-md'\n",
    "#          ]"
   ]
  },
  {
   "cell_type": "code",
   "execution_count": 5,
   "id": "feec7561",
   "metadata": {},
   "outputs": [],
   "source": [
    "# change the following as needed\n",
    "roi_labels = {'area4': 'M1', 'v1': 'V1', 'v2': 'V2', \n",
    "              \n",
    "              'ips0': 'IPS0', 'ips1': 'IPS1', 'ips2': 'IPS2', \n",
    "              'ips3': 'IPS3', 'ips4': 'IPS4', 'ips5': 'IPS5', 'spl1': 'SPL1',\n",
    "              \n",
    "          'ips': 'IPS', 'fef': 'FEF', 'sfg': 'SFG', \n",
    "          'mfg': 'MFG', 'ifg': 'IFG'}\n",
    "# roi_order = list(roi_labels.values())\n",
    "subj_labels = {index: subject for index, subject in enumerate(subjects, start=0)}\n",
    "epoch_labels = {0: 'stimulus', 1: 'delay', 2: 'response'}"
   ]
  },
  {
   "cell_type": "code",
   "execution_count": null,
   "id": "b087ae9b",
   "metadata": {},
   "outputs": [],
   "source": [
    "with open('rdm_crossnobis_split_by_sess_all.pkg','rb') as f:\n",
    "    RDM = pickle.load(f)"
   ]
  },
  {
   "cell_type": "code",
   "execution_count": null,
   "id": "2a77e2f8",
   "metadata": {},
   "outputs": [],
   "source": [
    "#store the subject id and roi name in dictionary, then use the dictionary to retrieve rdms to plot\n",
    "subj_dict = dict()\n",
    "roi_dict = dict()\n",
    "epoch_dict = dict()\n",
    "sess_dict = dict()\n",
    "\n",
    "for idx, rdm in enumerate(RDM):\n",
    "    subj = rdm.rdm_descriptors['subj'][0]\n",
    "    roi = rdm.rdm_descriptors['roi'][0]\n",
    "    epoch = rdm.rdm_descriptors['epoch']\n",
    "    sess = rdm.rdm_descriptors['session']\n",
    "    \n",
    "    if subj not in subj_dict:\n",
    "        subj_dict[subj] = []\n",
    "    subj_dict[subj].append(idx)\n",
    "    \n",
    "    if roi not in roi_dict:\n",
    "        roi_dict[roi] = []\n",
    "    roi_dict[roi].append(idx)\n",
    "\n",
    "    if epoch not in epoch_dict:\n",
    "        epoch_dict[epoch] = []\n",
    "    epoch_dict[epoch].append(idx)\n",
    "\n",
    "    if sess not in sess_dict:\n",
    "        sess_dict[sess] = []\n",
    "    sess_dict[sess].append(idx)"
   ]
  },
  {
   "cell_type": "markdown",
   "id": "be69cd22",
   "metadata": {},
   "source": [
    "# Experiment 2"
   ]
  },
  {
   "cell_type": "code",
   "execution_count": null,
   "id": "646bc36b",
   "metadata": {},
   "outputs": [],
   "source": [
    "import numpy as np\n",
    "\n",
    "# Define conditions\n",
    "conditions = ['CWL', 'CTL', 'CWR', 'CTR', 'NWL', 'NTL', 'NWR', 'NTR']\n",
    "\n",
    "def create_orthogonal_rdm():\n",
    "    size = len(conditions)\n",
    "    rdms = {key: np.zeros((size, size)) for key in ['LR', 'WT', 'CN', 'LR-WT', 'CN-LR', 'CN-WT', 'All']}\n",
    "\n",
    "    for i, cond1 in enumerate(conditions):\n",
    "        for j, cond2 in enumerate(conditions):\n",
    "            ecc1, shape1, pattern1 = cond1[0], cond1[1], cond1[2]\n",
    "            ecc2, shape2, pattern2 = cond2[0], cond2[1], cond2[2]\n",
    "\n",
    "            # Individual differences\n",
    "            if pattern1 != pattern2 and shape1 == shape2 and ecc1 == ecc2:\n",
    "                rdms['LR'][i, j] = 1\n",
    "            if shape1 != shape2 and pattern1 == pattern2 and ecc1 == ecc2:\n",
    "                rdms['WT'][i, j] = 1\n",
    "            if ecc1 != ecc2 and shape1 == shape2 and pattern1 == pattern2:\n",
    "                rdms['CN'][i, j] = 1\n",
    "\n",
    "            # Two-way interaction not covered by main effects\n",
    "            if pattern1 != pattern2 and shape1 != shape2 and ecc1 == ecc2:\n",
    "                rdms['LR-WT'][i, j] = 1\n",
    "            if ecc1 != ecc2 and pattern1 != pattern2 and shape1 == shape2:\n",
    "                rdms['CN-LR'][i, j] = 1\n",
    "            if ecc1 != ecc2 and shape1 != shape2 and pattern1 == pattern2:\n",
    "                rdms['CN-WT'][i, j] = 1\n",
    "\n",
    "            # Three-way interaction (All)\n",
    "            if ecc1 != ecc2 and shape1 != shape2 and pattern1 != pattern2:\n",
    "                rdms['All'][i, j] = 1\n",
    "\n",
    "    return rdms\n",
    "\n",
    "model_rdms = create_orthogonal_rdm()\n",
    "\n",
    "# # Example of how to check orthogonality\n",
    "# for key1 in model_rdms:\n",
    "#     for key2 in model_rdms:\n",
    "#         if key1 != key2:\n",
    "#             dot_product = np.dot(model_rdms[key1].flatten(), model_rdms[key2].flatten())\n",
    "#             print(f\"Dot product between {key1} and {key2}: {dot_product}\")\n"
   ]
  },
  {
   "cell_type": "code",
   "execution_count": null,
   "id": "f67bd66b",
   "metadata": {},
   "outputs": [],
   "source": [
    "model_names=[]\n",
    "rdm_arrays=[]\n",
    "for key,value in model_rdms.items():\n",
    "    model_names.append(key)\n",
    "    rdm_arrays.append(value)\n",
    "result = np.stack(rdm_arrays, axis=0)\n",
    "print(result.shape)"
   ]
  },
  {
   "cell_type": "code",
   "execution_count": null,
   "id": "4d201202",
   "metadata": {},
   "outputs": [],
   "source": [
    "model_rdms = rsatoolbox.rdm.RDMs(result,\n",
    "                            rdm_descriptors={'model':model_names},\n",
    "                            pattern_descriptors={'conds':conditions},\n",
    "                            dissimilarity_measure='Crossnobis')"
   ]
  },
  {
   "cell_type": "code",
   "execution_count": null,
   "id": "b808e4c7",
   "metadata": {},
   "outputs": [],
   "source": [
    "models_fixed = []\n",
    "for i in range(len(model_names)):\n",
    "    models_fixed.append(rsatoolbox.model.ModelFixed(model_names[i], model_rdms[i]))\n",
    "print(models_fixed)"
   ]
  },
  {
   "cell_type": "code",
   "execution_count": null,
   "id": "e38ecfa5",
   "metadata": {},
   "outputs": [],
   "source": [
    "def run_bootstrap(args):\n",
    "    epoch, roi, sess = args\n",
    "    print(epoch,roi,sess)\n",
    "    rdms = []\n",
    "    for subj in exp2_subjects:\n",
    "        idx_set = set(epoch_dict[epoch]) & set(roi_dict[roi]) & set(sess_dict[sess]) & set(subj_dict[subj])\n",
    "        idx = list(idx_set) #set(subj_dict[subj]) &\n",
    "        #print(subj,epoch,roi,sess)\n",
    "        #print(len(idx))\n",
    "        #print(idx)\n",
    "        if len(idx) > 0:\n",
    "            rdm = RDM[idx[0]]\n",
    "            rdm.rdm_descriptors.pop('name',None)\n",
    "            rdm.rdm_descriptors.pop('subj',None)\n",
    "\n",
    "            temp = rdm.rdm_descriptors['session']\n",
    "            if isinstance(temp, list)==False:\n",
    "                rdm.rdm_descriptors['session'] = [rdm.rdm_descriptors['session']]\n",
    "\n",
    "            temp = rdm.rdm_descriptors['epoch']\n",
    "            if isinstance(temp, list)==False:\n",
    "                rdm.rdm_descriptors['epoch'] = [rdm.rdm_descriptors['epoch']]\n",
    "\n",
    "            temp = rdm.rdm_descriptors['session_name']\n",
    "            if isinstance(temp, list)==False:\n",
    "                rdm.rdm_descriptors['session_name'] = [rdm.rdm_descriptors['session_name']]\n",
    "\n",
    "            rdms.append(rdm)\n",
    "\n",
    "    rdm_test = rsatoolbox.rdm.rdms.concat(rdms)\n",
    "\n",
    "#             results = rsatoolbox.inference.eval_bootstrap_rdm(models_fixed, \n",
    "#                                             rdm_test, method='cosine',\n",
    "#                                             N=1000,boot_noise_ceil=True) #rsatoolbox.inference.eval_bootstrap_rdm(models, rdms_data, method='corr')\n",
    "    results = rsatoolbox.inference.eval_dual_bootstrap(\n",
    "            models_fixed, rdm_test, method='cosine', fitter=None,\n",
    "            k_pattern=2, k_rdm=2, N=10000, n_cv=2,\n",
    "            pattern_descriptor='index', rdm_descriptor='index',\n",
    "            use_correction=True)\n",
    "\n",
    "#     df_unique = pd.concat([df_unique,pd.DataFrame({\n",
    "#                 'results': [results], \n",
    "#                 'roi': [roi], \n",
    "#                 'session': [sess],\n",
    "#                 'epoch': [epoch]\n",
    "#             })], axis=0) #\n",
    "    return pd.DataFrame({\n",
    "        'results': [results],\n",
    "        'roi': [roi],\n",
    "        'session': [sess],\n",
    "        'epoch': [epoch]\n",
    "    })    \n",
    "            "
   ]
  },
  {
   "cell_type": "code",
   "execution_count": null,
   "id": "b05b7ab3",
   "metadata": {},
   "outputs": [],
   "source": [
    "# spawn a pool of parallel workers\n",
    "p = mp.Pool(processes=96)\n",
    "\n",
    "import itertools\n",
    "combinations = itertools.product(epoch_dict.keys(), roi_dict.keys(), sess_dict.keys())\n",
    "\n",
    "results = p.map(run_bootstrap, combinations)"
   ]
  },
  {
   "cell_type": "code",
   "execution_count": null,
   "id": "bfd1664d",
   "metadata": {},
   "outputs": [],
   "source": [
    "# close the pool of workers\n",
    "p.close()"
   ]
  },
  {
   "cell_type": "code",
   "execution_count": null,
   "id": "013b7c2e",
   "metadata": {},
   "outputs": [],
   "source": [
    "# Concatenate the results into a single dataframe\n",
    "df_unique = pd.concat(results, axis=0)"
   ]
  },
  {
   "cell_type": "code",
   "execution_count": null,
   "id": "7547a94a",
   "metadata": {},
   "outputs": [],
   "source": [
    "with open('crossnobis_dual_bootstrap_10000_exp2.pkg','wb') as f:\n",
    "    pickle.dump(df_unique,f)   "
   ]
  },
  {
   "cell_type": "code",
   "execution_count": 6,
   "id": "1c7e277e",
   "metadata": {},
   "outputs": [],
   "source": [
    "with open('crossnobis_dual_bootstrap_10000_exp2.pkg','rb') as f:\n",
    "    df_unique=pickle.load(f)   "
   ]
  },
  {
   "cell_type": "code",
   "execution_count": 8,
   "id": "52802a9a",
   "metadata": {},
   "outputs": [
    {
     "name": "stdout",
     "output_type": "stream",
     "text": [
      "Results for running dual_bootstrap evaluation for cosine on 7 models:\n",
      "\n",
      "Model |   Eval ± SEM   | p (against 0) | p (against NC) |\n",
      "---------------------------------------------------------\n",
      "LR    |  0.095 ± 0.051 |        0.100  |         0.400  |\n",
      "WT    | -0.073 ± 0.092 |        0.746  |         0.844  |\n",
      "CN    | -0.010 ± 0.108 |        0.534  |         0.911  |\n",
      "LR-WT |  0.083 ± 0.057 |        0.141  |         0.487  |\n",
      "CN-LR |  0.067 ± 0.076 |        0.234  |         0.626  |\n",
      "CN-WT | -0.078 ± 0.076 |        0.795  |         0.833  |\n",
      "All   |  0.039 ± 0.072 |        0.321  |         0.598  |\n",
      "\n",
      "p-values are based on uncorrected t-tests\n"
     ]
    },
    {
     "name": "stderr",
     "output_type": "stream",
     "text": [
      "/gpfs/home/linjjiang/.local/lib/python3.11/site-packages/rsatoolbox/inference/result.py:222: RuntimeWarning: Mean of empty slice\n",
      "  perf = np.nanmean(perf, axis=-1)\n"
     ]
    }
   ],
   "source": [
    "print(df_unique.iloc[0,0])"
   ]
  },
  {
   "cell_type": "code",
   "execution_count": 9,
   "id": "4783a9ec",
   "metadata": {},
   "outputs": [],
   "source": [
    "import pandas as pd\n",
    "\n",
    "# Initialize an empty list to store the extracted data\n",
    "data = []\n",
    "\n",
    "# Model names\n",
    "models = ['LR', 'WT', 'CN', 'LR-WT', 'CN-LR', 'CN-WT', 'All']\n",
    "\n",
    "# Iterate through each row in df_unique\n",
    "for index, row in df_unique.iterrows():\n",
    "    results_object = row['results']\n",
    "    roi = row['roi']\n",
    "    session = row['session']\n",
    "    epoch = row['epoch']\n",
    "    \n",
    "    # Extract the test results\n",
    "    pairwise_results = results_object.test_all()[0]\n",
    "    test_against_zero = results_object.test_all()[1]\n",
    "    test_against_noise_ceiling = results_object.test_all()[2]\n",
    "    eval_mean = results_object.get_means()\n",
    "    eval_sem = results_object.get_sem()\n",
    "    noise_ceil = results_object.get_noise_ceil()\n",
    "    \n",
    "    # Store pairwise test results\n",
    "    for i, model1 in enumerate(models):\n",
    "        for j, model2 in enumerate(models):\n",
    "            data.append({\n",
    "                'roi': roi,\n",
    "                'session': session,\n",
    "                'epoch': epoch,\n",
    "                'model': f'{model1} vs {model2}',\n",
    "                'comparison': 'pairwise',\n",
    "                'p_value': pairwise_results[i, j],\n",
    "                'mean': [eval_mean[i],eval_mean[j]],\n",
    "                'mean_diff':eval_mean[i]-eval_mean[j],\n",
    "                'sem': [eval_sem[i],eval_sem[j]],\n",
    "                'noise_ceil': noise_ceil\n",
    "                \n",
    "            })\n",
    "    \n",
    "    # Store test against zero results\n",
    "    for i, model in enumerate(models):\n",
    "        data.append({\n",
    "            'roi': roi,\n",
    "            'session': session,\n",
    "            'epoch': epoch,\n",
    "            'model': model,\n",
    "            'comparison': 'against_zero',\n",
    "            'p_value': test_against_zero[i],\n",
    "                'mean': eval_mean[i],\n",
    "                'sem': eval_sem[i],\n",
    "                'noise_ceil': noise_ceil\n",
    "        })\n",
    "    \n",
    "    # Store test against noise ceiling results\n",
    "    for i, model in enumerate(models):\n",
    "        data.append({\n",
    "            'roi': roi,\n",
    "            'session': session,\n",
    "            'epoch': epoch,\n",
    "            'model': model,\n",
    "            'comparison': 'against_noise_ceiling',\n",
    "            'p_value': test_against_noise_ceiling[i],\n",
    "                'mean': eval_mean[i],\n",
    "                'sem': eval_sem[i],\n",
    "                'noise_ceil': noise_ceil\n",
    "        })\n",
    "\n",
    "# Convert the list of dictionaries to a DataFrame\n",
    "df_results = pd.DataFrame(data)\n",
    "\n",
    "df_results[df_results['p_value'] <= 0.05].to_csv('crossnobis_dual_bootstrap_10000_exp2.csv')"
   ]
  },
  {
   "cell_type": "code",
   "execution_count": null,
   "id": "63b4f787",
   "metadata": {},
   "outputs": [],
   "source": []
  }
 ],
 "metadata": {
  "kernelspec": {
   "display_name": "Python 3 (ipykernel)",
   "language": "python",
   "name": "python3"
  },
  "language_info": {
   "codemirror_mode": {
    "name": "ipython",
    "version": 3
   },
   "file_extension": ".py",
   "mimetype": "text/x-python",
   "name": "python",
   "nbconvert_exporter": "python",
   "pygments_lexer": "ipython3",
   "version": "3.11.0"
  }
 },
 "nbformat": 4,
 "nbformat_minor": 5
}
