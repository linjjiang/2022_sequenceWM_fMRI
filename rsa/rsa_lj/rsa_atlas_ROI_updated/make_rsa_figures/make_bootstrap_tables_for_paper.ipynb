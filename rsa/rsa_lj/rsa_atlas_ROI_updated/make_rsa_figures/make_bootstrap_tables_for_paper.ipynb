{
 "cells": [
  {
   "cell_type": "code",
   "execution_count": 1,
   "id": "e877f84a",
   "metadata": {},
   "outputs": [],
   "source": [
    "# relevant imports\n",
    "import numpy as np\n",
    "from scipy import io\n",
    "import matplotlib.pyplot as plt\n",
    "from matplotlib import rcParams\n",
    "import rsatoolbox\n",
    "import rsatoolbox.data as rsd # abbreviation to deal with dataset\n",
    "import rsatoolbox.rdm as rsr\n",
    "import os\n",
    "import seaborn as sns\n",
    "import sklearn as sk\n",
    "import math\n",
    "import pandas as pd\n",
    "import pickle\n",
    "import copy\n",
    "import nibabel as nib\n",
    "import re\n",
    "from statsmodels.stats.multitest import multipletests"
   ]
  },
  {
   "cell_type": "code",
   "execution_count": 2,
   "id": "eaa02188",
   "metadata": {},
   "outputs": [],
   "source": [
    "# change the working directory to be the timecourse data\n",
    "#os.chdir('/mnt/Data1/linjdata1/vswmda/scan_data/rsa/full_GLM_mgs_0.05_50/')\n",
    "os.chdir('/gpfs/scratch/linjjiang/scan_data/rsa/full_GLM_mgs_topN/')\n",
    "#os.chdir('/gpfs/scratch/linjjiang/scan_data/rsa/full_GLM_atlas_roi/')"
   ]
  },
  {
   "cell_type": "code",
   "execution_count": 3,
   "id": "cd31cef9",
   "metadata": {},
   "outputs": [],
   "source": [
    "with open('crossnobis_dual_bootstrap_10000_exp1.pkg','rb') as f:\n",
    "    df1 = pickle.load(f)   "
   ]
  },
  {
   "cell_type": "code",
   "execution_count": 4,
   "id": "abe31715",
   "metadata": {},
   "outputs": [],
   "source": [
    "roi_all = df1['roi'].unique()\n",
    "session_all = df1['session'].unique()\n",
    "epoch_all = ['stimulus','delay']"
   ]
  },
  {
   "cell_type": "code",
   "execution_count": 5,
   "id": "ac821030",
   "metadata": {},
   "outputs": [
    {
     "name": "stderr",
     "output_type": "stream",
     "text": [
      "/gpfs/home/linjjiang/.local/lib/python3.11/site-packages/rsatoolbox/inference/result.py:222: RuntimeWarning: Mean of empty slice\n",
      "  perf = np.nanmean(perf, axis=-1)\n"
     ]
    }
   ],
   "source": [
    "data = []\n",
    "\n",
    "# session = 0\n",
    "# epoch = 'delay'\n",
    "# roi = 'v1'\n",
    "\n",
    "for roi in roi_all:\n",
    "    for epoch in epoch_all:\n",
    "        for session in session_all:\n",
    "            #print(roi,epoch,session)\n",
    "            df = df1[(df1['roi']==roi) & (df1['session']==session) & (df1['epoch']==epoch)]\n",
    "            results = df.iloc[0,0] \n",
    "\n",
    "            models = results.models\n",
    "            models_name = [m.name for m in models]\n",
    "\n",
    "            # Extract the test results #test_type='bootstrap', test_type='bootstrap', test_type='bootstrap'\n",
    "            pairwise_results = results.test_all()[0]\n",
    "            test_against_zero = results.test_all()[1]\n",
    "            test_against_noise_ceiling = results.test_all()[2]\n",
    "            \n",
    "#             pairwise_results = results.test_pairwise(test_type='bootstrap')\n",
    "#             test_against_zero = results.test_zero(test_type='bootstrap').mean(axis=(1, 2, 3))\n",
    "#             test_against_noise_ceiling = results.test_noise(test_type='t-test')\n",
    "            \n",
    "            eval_mean = results.get_means()\n",
    "            eval_sem = results.get_sem()\n",
    "            noise_ceil = results.get_noise_ceil()\n",
    "\n",
    "            # Store pairwise test results\n",
    "            for i, model1 in enumerate(models_name):\n",
    "                for j, model2 in enumerate(models_name):\n",
    "                    data.append({\n",
    "                        'model': f'{model1} vs {model2}',                \n",
    "                        'session': session,\n",
    "                        'epoch': epoch,\n",
    "                        'roi': roi,\n",
    "                        'comparison': 'pairwise',\n",
    "                        'mean': [eval_mean[i],eval_mean[j]],\n",
    "                        'mean_diff':eval_mean[i]-eval_mean[j],\n",
    "                        'p_value': pairwise_results[i, j],\n",
    "                        'sem': [eval_sem[i],eval_sem[j]],\n",
    "            #            'noise_ceil': noise_ceil\n",
    "                    })\n",
    "\n",
    "            # Store test against zero results\n",
    "            for i, model in enumerate(models_name):\n",
    "                data.append({\n",
    "                    'model': model,\n",
    "                    'session': session,\n",
    "                    'epoch': epoch,\n",
    "                    'roi': roi,            \n",
    "                    'comparison': 'against_zero',\n",
    "                        'mean': eval_mean[i],\n",
    "                    'p_value': test_against_zero[i],\n",
    "                        'sem': eval_sem[i],\n",
    "            #            'noise_ceil': noise_ceil\n",
    "                })\n",
    "\n",
    "            # Store test against noise ceiling results\n",
    "            for i, model in enumerate(models_name):\n",
    "                data.append({\n",
    "                    'model': model,\n",
    "                    'session': session,\n",
    "                    'epoch': epoch,\n",
    "                    'roi': roi,\n",
    "\n",
    "                    'comparison': 'against_noise_ceiling',\n",
    "\n",
    "                        'mean': eval_mean[i],\n",
    "                    'p_value': test_against_noise_ceiling[i],\n",
    "                        'sem': eval_sem[i],\n",
    "            #            'noise_ceil': noise_ceil\n",
    "                })"
   ]
  },
  {
   "cell_type": "code",
   "execution_count": 6,
   "id": "3af14fef",
   "metadata": {},
   "outputs": [],
   "source": [
    "# Convert the list of dictionaries to a DataFrame\n",
    "df_results = pd.DataFrame(data)"
   ]
  },
  {
   "cell_type": "code",
   "execution_count": 7,
   "id": "08ee43b6",
   "metadata": {},
   "outputs": [],
   "source": [
    "roi_labels = {'area4': 'M1', 'v1': 'V1', 'v2': 'V2', \n",
    "              \n",
    "              'ips0': 'IPS0', 'ips1': 'IPS1', 'ips2': 'IPS2', \n",
    "              'ips3': 'IPS3', 'ips4': 'IPS4', 'ips5': 'IPS5', 'spl1': 'SPL1',\n",
    "              \n",
    "          'ips': 'IPS', 'fef': 'FEF', 'sfg': 'SFG', \n",
    "          'mfg': 'MFG', 'ifg': 'IFG'}"
   ]
  },
  {
   "cell_type": "code",
   "execution_count": 8,
   "id": "8256de81",
   "metadata": {},
   "outputs": [],
   "source": [
    "df_results['roi'] = df_results['roi'].map(roi_labels)"
   ]
  },
  {
   "cell_type": "code",
   "execution_count": 9,
   "id": "65b9b694",
   "metadata": {},
   "outputs": [],
   "source": [
    "df1['roi'] = df1['roi'].map(roi_labels)"
   ]
  },
  {
   "cell_type": "code",
   "execution_count": 10,
   "id": "508e9a02",
   "metadata": {},
   "outputs": [],
   "source": [
    "import warnings\n",
    "def multi_corr(result_df):\n",
    "    warnings.filterwarnings('ignore')\n",
    "    # Correct for multiple comparisons\n",
    "    p_values = result_df['p_value'].values.flatten()\n",
    "    corrected_p_values = multipletests(p_values, method='fdr_bh')[1]\n",
    "    result_df['p_value_corr'] = corrected_p_values.reshape(-1, 1)\n",
    "    \n",
    "    return result_df"
   ]
  },
  {
   "cell_type": "code",
   "execution_count": 11,
   "id": "e48e36f3",
   "metadata": {},
   "outputs": [
    {
     "name": "stdout",
     "output_type": "stream",
     "text": [
      "             model  session     epoch   roi             comparison  \\\n",
      "0         LR vs LR        0  stimulus    M1               pairwise   \n",
      "1         LR vs WT        0  stimulus    M1               pairwise   \n",
      "2        LR vs Ecc        0  stimulus    M1               pairwise   \n",
      "3      LR vs LR-WT        0  stimulus    M1               pairwise   \n",
      "4     LR vs Ecc-LR        0  stimulus    M1               pairwise   \n",
      "...            ...      ...       ...   ...                    ...   \n",
      "3775           Ecc        1     delay  SPL1  against_noise_ceiling   \n",
      "3776         LR-WT        1     delay  SPL1  against_noise_ceiling   \n",
      "3777        Ecc-LR        1     delay  SPL1  against_noise_ceiling   \n",
      "3778        Ecc-WT        1     delay  SPL1  against_noise_ceiling   \n",
      "3779           All        1     delay  SPL1  against_noise_ceiling   \n",
      "\n",
      "                                                mean  mean_diff   p_value  \\\n",
      "0     [-0.007764248858685116, -0.007764248858685116]   0.000000  1.000000   \n",
      "1     [-0.007764248858685116, -0.011582634815258543]   0.003818  0.933693   \n",
      "2      [-0.007764248858685116, 0.022696836753836023]  -0.030461  0.710128   \n",
      "3       [-0.007764248858685116, 0.02792863987518937]  -0.035693  0.716458   \n",
      "4       [-0.007764248858685116, 0.02700942527826316]  -0.034774  0.627245   \n",
      "...                                              ...        ...       ...   \n",
      "3775                                        0.157545        NaN  0.388925   \n",
      "3776                                        0.106844        NaN  0.323683   \n",
      "3777                                        0.071431        NaN  0.156513   \n",
      "3778                                        0.239361        NaN  0.754815   \n",
      "3779                                        0.205621        NaN  0.640376   \n",
      "\n",
      "                                             sem  \n",
      "0     [0.04509297229935835, 0.04509297229935835]  \n",
      "1     [0.04509297229935835, 0.06044944512013669]  \n",
      "2     [0.04509297229935835, 0.07457804757183534]  \n",
      "3     [0.04509297229935835, 0.06592625949263829]  \n",
      "4     [0.04509297229935835, 0.06309864729265312]  \n",
      "...                                          ...  \n",
      "3775                                    0.068299  \n",
      "3776                                     0.03838  \n",
      "3777                                    0.072598  \n",
      "3778                                    0.052688  \n",
      "3779                                    0.055673  \n",
      "\n",
      "[3780 rows x 9 columns]\n"
     ]
    }
   ],
   "source": [
    "print(df_results)"
   ]
  },
  {
   "cell_type": "code",
   "execution_count": 12,
   "id": "f022ea87",
   "metadata": {},
   "outputs": [
    {
     "name": "stdout",
     "output_type": "stream",
     "text": [
      "0       1.000000\n",
      "1       0.933693\n",
      "2       0.710128\n",
      "3       0.716458\n",
      "4       0.627245\n",
      "          ...   \n",
      "3761    0.503370\n",
      "3762    0.250709\n",
      "3763    0.174926\n",
      "3764    0.657917\n",
      "3765    1.000000\n",
      "Name: p_value, Length: 2940, dtype: float64\n"
     ]
    }
   ],
   "source": [
    "print(df_results[df_results['comparison']=='pairwise']['p_value'])"
   ]
  },
  {
   "cell_type": "code",
   "execution_count": 13,
   "id": "91068890",
   "metadata": {},
   "outputs": [
    {
     "name": "stdout",
     "output_type": "stream",
     "text": [
      "49      0.564977\n",
      "50      0.572206\n",
      "51      0.386565\n",
      "52      0.344719\n",
      "53      0.343213\n",
      "          ...   \n",
      "3768    0.041166\n",
      "3769    0.024812\n",
      "3770    0.190430\n",
      "3771    0.005236\n",
      "3772    0.010478\n",
      "Name: p_value, Length: 420, dtype: float64\n"
     ]
    }
   ],
   "source": [
    "print(df_results[df_results['comparison']=='against_zero']['p_value'])"
   ]
  },
  {
   "cell_type": "code",
   "execution_count": 14,
   "id": "58710cd1",
   "metadata": {},
   "outputs": [
    {
     "name": "stdout",
     "output_type": "stream",
     "text": [
      "(7, 4, 2, 3)\n"
     ]
    }
   ],
   "source": [
    "test_against_zero = results.test_zero(test_type='bootstrap')\n",
    "print(test_against_zero.shape)"
   ]
  },
  {
   "cell_type": "markdown",
   "id": "f262bf06",
   "metadata": {},
   "source": [
    "# Against zero"
   ]
  },
  {
   "cell_type": "code",
   "execution_count": 164,
   "id": "fa8582aa",
   "metadata": {},
   "outputs": [],
   "source": [
    "df_temp = pd.DataFrame()"
   ]
  },
  {
   "cell_type": "code",
   "execution_count": 165,
   "id": "5d9b35c6",
   "metadata": {},
   "outputs": [
    {
     "name": "stdout",
     "output_type": "stream",
     "text": [
      "    model  session     epoch roi    comparison      mean  mean_diff   p_value  \\\n",
      "301    LR        0  stimulus  V1  against_zero  0.016844        NaN  0.338135   \n",
      "364    LR        1  stimulus  V1  against_zero  0.079157        NaN  0.052310   \n",
      "427    LR        0     delay  V1  against_zero -0.001971        NaN  0.508348   \n",
      "490    LR        1     delay  V1  against_zero -0.058307        NaN  0.726613   \n",
      "553    LR        0  stimulus  V2  against_zero  0.019642        NaN  0.283514   \n",
      "616    LR        1  stimulus  V2  against_zero   0.07166        NaN  0.021404   \n",
      "679    LR        0     delay  V2  against_zero  0.006523        NaN  0.472347   \n",
      "742    LR        1     delay  V2  against_zero  0.050776        NaN  0.268313   \n",
      "\n",
      "          sem  p_value_corr  \n",
      "301  0.038023      0.541016  \n",
      "364  0.037842      0.209241  \n",
      "427    0.0896      0.580969  \n",
      "490  0.088681      0.726613  \n",
      "553  0.032072      0.541016  \n",
      "616  0.024456      0.171230  \n",
      "679  0.089449      0.580969  \n",
      "742  0.075212      0.541016  \n"
     ]
    }
   ],
   "source": [
    "roi_order = ['V1', 'V2']\n",
    "df = df_results[(df_results['comparison'].isin(['against_zero']))\n",
    "          & (df_results['roi'].isin(roi_order))\n",
    "                & (df_results['model'].isin(['LR']))] #            & (df_results['p_value']<=0.05)\n",
    "df = multi_corr(df)\n",
    "print(df)\n",
    "\n",
    "df_temp = pd.concat((df_temp,df),axis=0)"
   ]
  },
  {
   "cell_type": "code",
   "execution_count": 166,
   "id": "ea766ca1",
   "metadata": {},
   "outputs": [
    {
     "name": "stdout",
     "output_type": "stream",
     "text": [
      "    model  session     epoch roi    comparison      mean  mean_diff   p_value  \\\n",
      "302    WT        0  stimulus  V1  against_zero  0.178516        NaN  0.004071   \n",
      "365    WT        1  stimulus  V1  against_zero  0.230689        NaN  0.003632   \n",
      "428    WT        0     delay  V1  against_zero  0.096234        NaN  0.124460   \n",
      "491    WT        1     delay  V1  against_zero  0.038062        NaN  0.283504   \n",
      "554    WT        0  stimulus  V2  against_zero  0.165382        NaN  0.006333   \n",
      "617    WT        1  stimulus  V2  against_zero  0.223397        NaN  0.001500   \n",
      "680    WT        0     delay  V2  against_zero  0.044339        NaN  0.268054   \n",
      "743    WT        1     delay  V2  against_zero  0.106963        NaN  0.095782   \n",
      "\n",
      "          sem  p_value_corr  \n",
      "302  0.042069      0.010857  \n",
      "365  0.045739      0.010857  \n",
      "428  0.073778      0.165947  \n",
      "491  0.061088      0.283504  \n",
      "554  0.043555      0.012667  \n",
      "617  0.034715      0.010857  \n",
      "680   0.06678      0.283504  \n",
      "743  0.068141      0.153251  \n"
     ]
    }
   ],
   "source": [
    "df = df_results[(df_results['comparison'].isin(['against_zero']))\n",
    "          & (df_results['roi'].isin(roi_order))\n",
    "                & (df_results['model'].isin(['WT']))] #            & (df_results['p_value']<=0.05)\n",
    "df = multi_corr(df)\n",
    "print(df)\n",
    "\n",
    "df_temp = pd.concat((df_temp,df),axis=0)"
   ]
  },
  {
   "cell_type": "code",
   "execution_count": 167,
   "id": "3fef4a00",
   "metadata": {},
   "outputs": [
    {
     "name": "stdout",
     "output_type": "stream",
     "text": [
      "    model  session     epoch roi    comparison      mean  mean_diff   p_value  \\\n",
      "303   Ecc        0  stimulus  V1  against_zero  0.204376        NaN  0.002473   \n",
      "366   Ecc        1  stimulus  V1  against_zero  0.217463        NaN  0.003609   \n",
      "429   Ecc        0     delay  V1  against_zero -0.019025        NaN  0.615660   \n",
      "492   Ecc        1     delay  V1  against_zero -0.005997        NaN  0.528913   \n",
      "555   Ecc        0  stimulus  V2  against_zero  0.233801        NaN  0.000496   \n",
      "618   Ecc        1  stimulus  V2  against_zero  0.246806        NaN  0.003839   \n",
      "681   Ecc        0     delay  V2  against_zero -0.084086        NaN  0.847690   \n",
      "744   Ecc        1     delay  V2  against_zero  0.025533        NaN  0.374320   \n",
      "\n",
      "          sem  p_value_corr  \n",
      "303  0.042707      0.007679  \n",
      "366  0.043039      0.007679  \n",
      "429  0.061264      0.703612  \n",
      "492  0.077685      0.703612  \n",
      "555  0.033975      0.003966  \n",
      "618  0.049709      0.007679  \n",
      "681  0.073536      0.847690  \n",
      "744   0.07437      0.598912  \n"
     ]
    }
   ],
   "source": [
    "df = df_results[(df_results['comparison'].isin(['against_zero']))\n",
    "          & (df_results['roi'].isin(roi_order))\n",
    "                & (df_results['model'].isin(['Ecc']))] #            & (df_results['p_value']<=0.05)\n",
    "df = multi_corr(df)\n",
    "print(df)\n",
    "\n",
    "df_temp = pd.concat((df_temp,df),axis=0)"
   ]
  },
  {
   "cell_type": "code",
   "execution_count": 168,
   "id": "9dbca9af",
   "metadata": {},
   "outputs": [
    {
     "name": "stdout",
     "output_type": "stream",
     "text": [
      "     model  session     epoch   roi    comparison      mean  mean_diff  \\\n",
      "2065    LR        0  stimulus  IPS0  against_zero   0.00713        NaN   \n",
      "2128    LR        1  stimulus  IPS0  against_zero  0.057072        NaN   \n",
      "2191    LR        0     delay  IPS0  against_zero -0.004372        NaN   \n",
      "2254    LR        1     delay  IPS0  against_zero -0.023772        NaN   \n",
      "2317    LR        0  stimulus  IPS1  against_zero  0.008019        NaN   \n",
      "2380    LR        1  stimulus  IPS1  against_zero -0.001236        NaN   \n",
      "2443    LR        0     delay  IPS1  against_zero -0.048156        NaN   \n",
      "2506    LR        1     delay  IPS1  against_zero  0.001384        NaN   \n",
      "2569    LR        0  stimulus  IPS2  against_zero -0.070683        NaN   \n",
      "2632    LR        1  stimulus  IPS2  against_zero -0.036883        NaN   \n",
      "2695    LR        0     delay  IPS2  against_zero  0.024605        NaN   \n",
      "2758    LR        1     delay  IPS2  against_zero -0.003847        NaN   \n",
      "3577    LR        0  stimulus  SPL1  against_zero -0.085148        NaN   \n",
      "3640    LR        1  stimulus  SPL1  against_zero  0.045959        NaN   \n",
      "3703    LR        0     delay  SPL1  against_zero -0.020734        NaN   \n",
      "3766    LR        1     delay  SPL1  against_zero -0.000782        NaN   \n",
      "\n",
      "       p_value       sem  p_value_corr  \n",
      "2065  0.439421  0.044451      0.866071  \n",
      "2128  0.265953  0.083516      0.866071  \n",
      "2191  0.541294  0.040097      0.866071  \n",
      "2254  0.654210  0.055716      0.872279  \n",
      "2317  0.429125  0.042648      0.866071  \n",
      "2380  0.506284  0.073733      0.866071  \n",
      "2443  0.778837  0.057747      0.890099  \n",
      "2506  0.480648  0.026797      0.866071  \n",
      "2569  0.920733  0.042671      0.920733  \n",
      "2632  0.713030   0.06032      0.877576  \n",
      "2695  0.313386  0.047532      0.866071  \n",
      "2758  0.536118  0.039868      0.866071  \n",
      "3577  0.886368  0.061882      0.920733  \n",
      "3640  0.316987  0.089314      0.866071  \n",
      "3703  0.634958  0.056815      0.872279  \n",
      "3766  0.504366  0.067168      0.866071  \n"
     ]
    }
   ],
   "source": [
    "roi_order = ['IPS0', 'IPS1', 'IPS2', 'SPL1']\n",
    "df = df_results[(df_results['comparison'].isin(['against_zero']))\n",
    "          & (df_results['roi'].isin(roi_order))\n",
    "                & (df_results['model'].isin(['LR']))] #            & (df_results['p_value']<=0.05)\n",
    "df = multi_corr(df)\n",
    "print(df)\n",
    "\n",
    "df_temp = pd.concat((df_temp,df),axis=0)"
   ]
  },
  {
   "cell_type": "code",
   "execution_count": 169,
   "id": "b0b756b4",
   "metadata": {},
   "outputs": [
    {
     "name": "stdout",
     "output_type": "stream",
     "text": [
      "     model  session     epoch   roi    comparison      mean  mean_diff  \\\n",
      "2066    WT        0  stimulus  IPS0  against_zero  0.022315        NaN   \n",
      "2129    WT        1  stimulus  IPS0  against_zero  0.090254        NaN   \n",
      "2192    WT        0     delay  IPS0  against_zero  0.128713        NaN   \n",
      "2255    WT        1     delay  IPS0  against_zero  0.115978        NaN   \n",
      "2318    WT        0  stimulus  IPS1  against_zero  0.028637        NaN   \n",
      "2381    WT        1  stimulus  IPS1  against_zero -0.026878        NaN   \n",
      "2444    WT        0     delay  IPS1  against_zero  0.089264        NaN   \n",
      "2507    WT        1     delay  IPS1  against_zero  0.119114        NaN   \n",
      "2570    WT        0  stimulus  IPS2  against_zero  0.008222        NaN   \n",
      "2633    WT        1  stimulus  IPS2  against_zero  -0.03729        NaN   \n",
      "2696    WT        0     delay  IPS2  against_zero  0.101306        NaN   \n",
      "2759    WT        1     delay  IPS2  against_zero  0.109638        NaN   \n",
      "3578    WT        0  stimulus  SPL1  against_zero -0.053202        NaN   \n",
      "3641    WT        1  stimulus  SPL1  against_zero  0.051916        NaN   \n",
      "3704    WT        0     delay  SPL1  against_zero  0.038891        NaN   \n",
      "3767    WT        1     delay  SPL1  against_zero  0.141067        NaN   \n",
      "\n",
      "       p_value       sem  p_value_corr  \n",
      "2066  0.370579  0.063902      0.494106  \n",
      "2129  0.103394  0.059972      0.269016  \n",
      "2192  0.083838    0.0798      0.268281  \n",
      "2255  0.021340   0.03954      0.208042  \n",
      "2318  0.328448  0.060689      0.477742  \n",
      "2381  0.629890  0.075622      0.719874  \n",
      "2444  0.136328  0.072443      0.272656  \n",
      "2507  0.052010  0.056806      0.208042  \n",
      "2570  0.442377  0.053916      0.544464  \n",
      "2633  0.719697   0.05883      0.767677  \n",
      "2696  0.041355  0.046802      0.208042  \n",
      "2759  0.117694  0.078573      0.269016  \n",
      "3578  0.774089  0.065231      0.774089  \n",
      "3641  0.250213  0.070165      0.400340  \n",
      "3704  0.242622  0.051632      0.400340  \n",
      "3767  0.028130  0.052988      0.208042  \n"
     ]
    }
   ],
   "source": [
    "df = df_results[(df_results['comparison'].isin(['against_zero']))\n",
    "          & (df_results['roi'].isin(roi_order))\n",
    "                & (df_results['model'].isin(['WT']))] #            & (df_results['p_value']<=0.05)\n",
    "df = multi_corr(df)\n",
    "print(df)\n",
    "\n",
    "df_temp = pd.concat((df_temp,df),axis=0)"
   ]
  },
  {
   "cell_type": "code",
   "execution_count": 170,
   "id": "c01fccc5",
   "metadata": {},
   "outputs": [
    {
     "name": "stdout",
     "output_type": "stream",
     "text": [
      "     model  session     epoch   roi    comparison      mean  mean_diff  \\\n",
      "2067   Ecc        0  stimulus  IPS0  against_zero  0.136649        NaN   \n",
      "2130   Ecc        1  stimulus  IPS0  against_zero  0.115812        NaN   \n",
      "2193   Ecc        0     delay  IPS0  against_zero  0.050241        NaN   \n",
      "2256   Ecc        1     delay  IPS0  against_zero  0.142386        NaN   \n",
      "2319   Ecc        0  stimulus  IPS1  against_zero  0.085936        NaN   \n",
      "2382   Ecc        1  stimulus  IPS1  against_zero -0.009342        NaN   \n",
      "2445   Ecc        0     delay  IPS1  against_zero  0.012808        NaN   \n",
      "2508   Ecc        1     delay  IPS1  against_zero  0.108449        NaN   \n",
      "2571   Ecc        0  stimulus  IPS2  against_zero -0.036932        NaN   \n",
      "2634   Ecc        1  stimulus  IPS2  against_zero -0.005898        NaN   \n",
      "2697   Ecc        0     delay  IPS2  against_zero  0.058828        NaN   \n",
      "2760   Ecc        1     delay  IPS2  against_zero   0.12216        NaN   \n",
      "3579   Ecc        0  stimulus  SPL1  against_zero -0.018548        NaN   \n",
      "3642   Ecc        1  stimulus  SPL1  against_zero  0.004675        NaN   \n",
      "3705   Ecc        0     delay  SPL1  against_zero  0.088198        NaN   \n",
      "3768   Ecc        1     delay  SPL1  against_zero  0.157545        NaN   \n",
      "\n",
      "       p_value       sem  p_value_corr  \n",
      "2067  0.021840  0.050938      0.219553  \n",
      "2130  0.065491  0.061112      0.232960  \n",
      "2193  0.190208  0.052248      0.304332  \n",
      "2256  0.035178  0.058089      0.219553  \n",
      "2319  0.143626  0.072179      0.284040  \n",
      "2382  0.540160  0.087019      0.617325  \n",
      "2445  0.423084  0.062688      0.615395  \n",
      "2508  0.098558   0.07017      0.262820  \n",
      "2571  0.676707  0.075771      0.676707  \n",
      "2634  0.524269  0.091056      0.617325  \n",
      "2697  0.153749  0.051791      0.284040  \n",
      "2760  0.072800  0.067725      0.232960  \n",
      "3579  0.675673  0.038301      0.676707  \n",
      "3642  0.474916  0.069827      0.617325  \n",
      "3705  0.159772   0.07983      0.284040  \n",
      "3768  0.041166  0.068299      0.219553  \n"
     ]
    }
   ],
   "source": [
    "df = df_results[(df_results['comparison'].isin(['against_zero']))\n",
    "          & (df_results['roi'].isin(roi_order))\n",
    "                & (df_results['model'].isin(['Ecc']))] #            & (df_results['p_value']<=0.05)\n",
    "df = multi_corr(df)\n",
    "print(df)\n",
    "\n",
    "df_temp = pd.concat((df_temp,df),axis=0)"
   ]
  },
  {
   "cell_type": "code",
   "execution_count": 171,
   "id": "7b21d368",
   "metadata": {},
   "outputs": [
    {
     "name": "stdout",
     "output_type": "stream",
     "text": [
      "     model  session     epoch  roi    comparison      mean  mean_diff  \\\n",
      "1057    LR        0  stimulus  FEF  against_zero -0.046209        NaN   \n",
      "1120    LR        1  stimulus  FEF  against_zero  0.036424        NaN   \n",
      "1183    LR        0     delay  FEF  against_zero -0.026913        NaN   \n",
      "1246    LR        1     delay  FEF  against_zero  -0.03673        NaN   \n",
      "1309    LR        0  stimulus  SFG  against_zero  0.024377        NaN   \n",
      "1372    LR        1  stimulus  SFG  against_zero -0.030704        NaN   \n",
      "1435    LR        0     delay  SFG  against_zero -0.039715        NaN   \n",
      "1498    LR        1     delay  SFG  against_zero -0.054384        NaN   \n",
      "1561    LR        0  stimulus  MFG  against_zero -0.006489        NaN   \n",
      "1624    LR        1  stimulus  MFG  against_zero  0.009767        NaN   \n",
      "1687    LR        0     delay  MFG  against_zero -0.028471        NaN   \n",
      "1750    LR        1     delay  MFG  against_zero -0.030926        NaN   \n",
      "1813    LR        0  stimulus  IFG  against_zero -0.008772        NaN   \n",
      "1876    LR        1  stimulus  IFG  against_zero -0.077003        NaN   \n",
      "1939    LR        0     delay  IFG  against_zero  0.033507        NaN   \n",
      "2002    LR        1     delay  IFG  against_zero   0.00866        NaN   \n",
      "\n",
      "       p_value       sem  p_value_corr  \n",
      "1057  0.744406  0.065367      0.890819  \n",
      "1120  0.306746  0.066595      0.890819  \n",
      "1183  0.746782  0.037625      0.890819  \n",
      "1246  0.813963  0.036574      0.890819  \n",
      "1309  0.362470  0.065479      0.890819  \n",
      "1372  0.719148  0.048581      0.890819  \n",
      "1435  0.737320  0.058207      0.890819  \n",
      "1498  0.958563  0.023638      0.958563  \n",
      "1561  0.532055  0.076731      0.890819  \n",
      "1624  0.450085  0.073105      0.890819  \n",
      "1687  0.697702  0.051561      0.890819  \n",
      "1750  0.699025  0.054688      0.890819  \n",
      "1813  0.551102  0.064923      0.890819  \n",
      "1876  0.835143  0.069451      0.890819  \n",
      "1939  0.290284  0.056749      0.890819  \n",
      "2002  0.433774  0.048715      0.890819  \n"
     ]
    }
   ],
   "source": [
    "roi_order = ['FEF', 'SFG', 'MFG', 'IFG']\n",
    "df = df_results[(df_results['comparison'].isin(['against_zero']))\n",
    "          & (df_results['roi'].isin(roi_order))\n",
    "                & (df_results['model'].isin(['LR']))] #            & (df_results['p_value']<=0.05)\n",
    "df = multi_corr(df)\n",
    "print(df)\n",
    "\n",
    "df_temp = pd.concat((df_temp,df),axis=0)"
   ]
  },
  {
   "cell_type": "code",
   "execution_count": 172,
   "id": "0a64bfb0",
   "metadata": {},
   "outputs": [
    {
     "name": "stdout",
     "output_type": "stream",
     "text": [
      "     model  session     epoch  roi    comparison      mean  mean_diff  \\\n",
      "1058    WT        0  stimulus  FEF  against_zero -0.037983        NaN   \n",
      "1121    WT        1  stimulus  FEF  against_zero  0.039796        NaN   \n",
      "1184    WT        0     delay  FEF  against_zero  0.051181        NaN   \n",
      "1247    WT        1     delay  FEF  against_zero  0.073475        NaN   \n",
      "1310    WT        0  stimulus  SFG  against_zero -0.012036        NaN   \n",
      "1373    WT        1  stimulus  SFG  against_zero -0.034879        NaN   \n",
      "1436    WT        0     delay  SFG  against_zero -0.009186        NaN   \n",
      "1499    WT        1     delay  SFG  against_zero -0.005205        NaN   \n",
      "1562    WT        0  stimulus  MFG  against_zero  -0.03584        NaN   \n",
      "1625    WT        1  stimulus  MFG  against_zero -0.008131        NaN   \n",
      "1688    WT        0     delay  MFG  against_zero -0.051181        NaN   \n",
      "1751    WT        1     delay  MFG  against_zero  0.032961        NaN   \n",
      "1814    WT        0  stimulus  IFG  against_zero -0.007355        NaN   \n",
      "1877    WT        1  stimulus  IFG  against_zero -0.069251        NaN   \n",
      "1940    WT        0     delay  IFG  against_zero  -0.01642        NaN   \n",
      "2003    WT        1     delay  IFG  against_zero  0.023665        NaN   \n",
      "\n",
      "       p_value       sem  p_value_corr  \n",
      "1058  0.755120  0.050981      0.799507  \n",
      "1121  0.272565  0.060267      0.799507  \n",
      "1184  0.259987  0.074002      0.799507  \n",
      "1247  0.144864  0.060263      0.799507  \n",
      "1310  0.561879  0.073443      0.799507  \n",
      "1373  0.654007  0.081862      0.799507  \n",
      "1436  0.547698  0.072876      0.799507  \n",
      "1499  0.543386  0.044863      0.799507  \n",
      "1562  0.674531  0.074537      0.799507  \n",
      "1625  0.536768  0.082765      0.799507  \n",
      "1688  0.752620  0.069535      0.799507  \n",
      "1751  0.335750  0.072152      0.799507  \n",
      "1814  0.537170  0.074971      0.799507  \n",
      "1877  0.799507  0.073766      0.799507  \n",
      "1940  0.574970  0.082488      0.799507  \n",
      "2003  0.370268  0.066666      0.799507  \n"
     ]
    }
   ],
   "source": [
    "df = df_results[(df_results['comparison'].isin(['against_zero']))\n",
    "          & (df_results['roi'].isin(roi_order))\n",
    "                & (df_results['model'].isin(['WT']))] #            & (df_results['p_value']<=0.05)\n",
    "df = multi_corr(df)\n",
    "print(df)\n",
    "\n",
    "df_temp = pd.concat((df_temp,df),axis=0)"
   ]
  },
  {
   "cell_type": "code",
   "execution_count": 173,
   "id": "b8ad231c",
   "metadata": {},
   "outputs": [
    {
     "name": "stdout",
     "output_type": "stream",
     "text": [
      "     model  session     epoch  roi    comparison      mean  mean_diff  \\\n",
      "1059   Ecc        0  stimulus  FEF  against_zero  0.045026        NaN   \n",
      "1122   Ecc        1  stimulus  FEF  against_zero  0.035575        NaN   \n",
      "1185   Ecc        0     delay  FEF  against_zero  0.037126        NaN   \n",
      "1248   Ecc        1     delay  FEF  against_zero -0.019595        NaN   \n",
      "1311   Ecc        0  stimulus  SFG  against_zero -0.004231        NaN   \n",
      "1374   Ecc        1  stimulus  SFG  against_zero  0.004751        NaN   \n",
      "1437   Ecc        0     delay  SFG  against_zero -0.004854        NaN   \n",
      "1500   Ecc        1     delay  SFG  against_zero  0.036051        NaN   \n",
      "1563   Ecc        0  stimulus  MFG  against_zero  0.020192        NaN   \n",
      "1626   Ecc        1  stimulus  MFG  against_zero  0.076685        NaN   \n",
      "1689   Ecc        0     delay  MFG  against_zero -0.014132        NaN   \n",
      "1752   Ecc        1     delay  MFG  against_zero  0.058312        NaN   \n",
      "1815   Ecc        0  stimulus  IFG  against_zero  0.039467        NaN   \n",
      "1878   Ecc        1  stimulus  IFG  against_zero -0.006256        NaN   \n",
      "1941   Ecc        0     delay  IFG  against_zero  -0.03786        NaN   \n",
      "2004   Ecc        1     delay  IFG  against_zero  0.119973        NaN   \n",
      "\n",
      "       p_value       sem  p_value_corr  \n",
      "1059  0.300025  0.080497      0.624012  \n",
      "1122  0.351007   0.08652      0.624012  \n",
      "1185  0.304634  0.068141      0.624012  \n",
      "1248  0.652056  0.046625      0.693867  \n",
      "1311  0.542652  0.037559      0.667879  \n",
      "1374  0.479584   0.08722      0.667879  \n",
      "1437  0.530077  0.061187      0.667879  \n",
      "1500  0.306508  0.065821      0.624012  \n",
      "1563  0.348589  0.048971      0.624012  \n",
      "1626  0.157408  0.066776      0.624012  \n",
      "1689  0.587621  0.060567      0.671567  \n",
      "1752  0.142925   0.04738      0.624012  \n",
      "1815  0.247048  0.053533      0.624012  \n",
      "1878  0.527594  0.084925      0.667879  \n",
      "1941  0.693867   0.07009      0.693867  \n",
      "2004  0.066770  0.063872      0.624012  \n"
     ]
    }
   ],
   "source": [
    "df = df_results[(df_results['comparison'].isin(['against_zero']))\n",
    "          & (df_results['roi'].isin(roi_order))\n",
    "                & (df_results['model'].isin(['Ecc']))] #            & (df_results['p_value']<=0.05)\n",
    "df = multi_corr(df)\n",
    "print(df)\n",
    "\n",
    "df_temp = pd.concat((df_temp,df),axis=0)"
   ]
  },
  {
   "cell_type": "code",
   "execution_count": 174,
   "id": "7c39aa1a",
   "metadata": {},
   "outputs": [
    {
     "name": "stdout",
     "output_type": "stream",
     "text": [
      "     model  session     epoch  roi    comparison      mean  mean_diff  \\\n",
      "301     LR        0  stimulus   V1  against_zero  0.016844        NaN   \n",
      "364     LR        1  stimulus   V1  against_zero  0.079157        NaN   \n",
      "427     LR        0     delay   V1  against_zero -0.001971        NaN   \n",
      "490     LR        1     delay   V1  against_zero -0.058307        NaN   \n",
      "553     LR        0  stimulus   V2  against_zero  0.019642        NaN   \n",
      "...    ...      ...       ...  ...           ...       ...        ...   \n",
      "1752   Ecc        1     delay  MFG  against_zero  0.058312        NaN   \n",
      "1815   Ecc        0  stimulus  IFG  against_zero  0.039467        NaN   \n",
      "1878   Ecc        1  stimulus  IFG  against_zero -0.006256        NaN   \n",
      "1941   Ecc        0     delay  IFG  against_zero  -0.03786        NaN   \n",
      "2004   Ecc        1     delay  IFG  against_zero  0.119973        NaN   \n",
      "\n",
      "       p_value       sem  p_value_corr  \n",
      "301   0.338135  0.038023      0.541016  \n",
      "364   0.052310  0.037842      0.209241  \n",
      "427   0.508348    0.0896      0.580969  \n",
      "490   0.726613  0.088681      0.726613  \n",
      "553   0.283514  0.032072      0.541016  \n",
      "...        ...       ...           ...  \n",
      "1752  0.142925   0.04738      0.624012  \n",
      "1815  0.247048  0.053533      0.624012  \n",
      "1878  0.527594  0.084925      0.667879  \n",
      "1941  0.693867   0.07009      0.693867  \n",
      "2004  0.066770  0.063872      0.624012  \n",
      "\n",
      "[120 rows x 10 columns]\n"
     ]
    }
   ],
   "source": [
    "print(df_temp)"
   ]
  },
  {
   "cell_type": "code",
   "execution_count": 175,
   "id": "17f2535e",
   "metadata": {},
   "outputs": [
    {
     "name": "stdout",
     "output_type": "stream",
     "text": [
      "     model  session     epoch   roi    comparison      mean  mean_diff  \\\n",
      "616     LR        1  stimulus    V2  against_zero   0.07166        NaN   \n",
      "302     WT        0  stimulus    V1  against_zero  0.178516        NaN   \n",
      "365     WT        1  stimulus    V1  against_zero  0.230689        NaN   \n",
      "554     WT        0  stimulus    V2  against_zero  0.165382        NaN   \n",
      "617     WT        1  stimulus    V2  against_zero  0.223397        NaN   \n",
      "303    Ecc        0  stimulus    V1  against_zero  0.204376        NaN   \n",
      "366    Ecc        1  stimulus    V1  against_zero  0.217463        NaN   \n",
      "555    Ecc        0  stimulus    V2  against_zero  0.233801        NaN   \n",
      "618    Ecc        1  stimulus    V2  against_zero  0.246806        NaN   \n",
      "2255    WT        1     delay  IPS0  against_zero  0.115978        NaN   \n",
      "2696    WT        0     delay  IPS2  against_zero  0.101306        NaN   \n",
      "3767    WT        1     delay  SPL1  against_zero  0.141067        NaN   \n",
      "2067   Ecc        0  stimulus  IPS0  against_zero  0.136649        NaN   \n",
      "2256   Ecc        1     delay  IPS0  against_zero  0.142386        NaN   \n",
      "3768   Ecc        1     delay  SPL1  against_zero  0.157545        NaN   \n",
      "\n",
      "       p_value       sem  p_value_corr  \n",
      "616   0.021404  0.024456      0.171230  \n",
      "302   0.004071  0.042069      0.010857  \n",
      "365   0.003632  0.045739      0.010857  \n",
      "554   0.006333  0.043555      0.012667  \n",
      "617   0.001500  0.034715      0.010857  \n",
      "303   0.002473  0.042707      0.007679  \n",
      "366   0.003609  0.043039      0.007679  \n",
      "555   0.000496  0.033975      0.003966  \n",
      "618   0.003839  0.049709      0.007679  \n",
      "2255  0.021340   0.03954      0.208042  \n",
      "2696  0.041355  0.046802      0.208042  \n",
      "3767  0.028130  0.052988      0.208042  \n",
      "2067  0.021840  0.050938      0.219553  \n",
      "2256  0.035178  0.058089      0.219553  \n",
      "3768  0.041166  0.068299      0.219553  \n"
     ]
    }
   ],
   "source": [
    "df_test = df_temp[df_temp['p_value']<0.05]\n",
    "print(df_test)"
   ]
  },
  {
   "cell_type": "code",
   "execution_count": 42,
   "id": "63040d57",
   "metadata": {},
   "outputs": [],
   "source": [
    "df_test.to_csv('tbl_bootstrap_RDM_accuracy_against_zero.csv')"
   ]
  },
  {
   "cell_type": "markdown",
   "id": "3b6eb1fb",
   "metadata": {},
   "source": [
    "# pairwise across task epochs"
   ]
  },
  {
   "cell_type": "code",
   "execution_count": 15,
   "id": "3952ecfb",
   "metadata": {},
   "outputs": [],
   "source": [
    "from rsatoolbox.util.inference_util import extract_variances\n",
    "from scipy import stats\n",
    "def calc_model_var(evaluations,n_rdm,n_pattern):\n",
    "    eval_ok = (~np.isnan(evaluations[:, 0, 0, 0, 0]) & ~np.isnan(evaluations[:, 1, 0, 0, 0]))\n",
    "    \n",
    "    # we essentially project from the two points for 1 repetition and\n",
    "    # for n_cv repetitions to infinitely many cv repetitions\n",
    "    evals_nonan = np.mean(np.mean(evaluations[eval_ok], -2), -2)\n",
    "    evals_1 = np.mean(evaluations[eval_ok], -3)\n",
    "    \n",
    "    #if use_correction and n_cv > 1:\n",
    "    matrix = evals_nonan\n",
    "    matrix -= np.mean(matrix, 0, keepdims=True)    \n",
    "    var_mean = np.einsum('ijk,ilk->kjl', matrix, matrix) \\\n",
    "        / (matrix.shape[0] - 1)    \n",
    "    \n",
    "    matrix_1 = evals_1\n",
    "    matrix_1 -= np.mean(matrix_1, 0, keepdims=True)\n",
    "    var_1 = np.einsum('ijmk,ilmk->kjl', matrix_1, matrix_1) \\\n",
    "        / (matrix_1.shape[0] - 1) / matrix_1.shape[2]    \n",
    "    \n",
    "    # this is the main formula for the correction:\n",
    "    variances = (n_cv * var_mean - var_1) / (n_cv - 1)    \n",
    "    \n",
    "    # calcualte model variance and differential variance\n",
    "    nc_included = False\n",
    "    model_var, diff_var, noise_ceil_var = \\\n",
    "        extract_variances(variances, nc_included, n_rdm, n_pattern)\n",
    "    \n",
    "    return model_var, diff_var, variances, eval_ok"
   ]
  },
  {
   "cell_type": "code",
   "execution_count": 16,
   "id": "1a44c429",
   "metadata": {},
   "outputs": [],
   "source": [
    "from rsatoolbox.util.matrix import pairwise_contrast\n",
    "from rsatoolbox.util.rdm_utils import batch_to_matrices\n",
    "\n",
    "def pairwise(evaluations, variances, dof):\n",
    "    n_model = evaluations.shape[1]\n",
    "    evaluations = np.nanmean(evaluations, 0)\n",
    "    while evaluations.ndim > 1:\n",
    "        evaluations = np.nanmean(evaluations, axis=-1)\n",
    "    C = pairwise_contrast(np.arange(n_model))\n",
    "    diffs = C @ evaluations\n",
    "    t = diffs / np.sqrt(np.maximum(variances, np.finfo(float).eps))\n",
    "    t = batch_to_matrices(np.array([t]))[0][0]\n",
    "    p = 2 * (1 - stats.t.cdf(np.abs(t), dof))\n",
    "    \n",
    "    return diffs, t, p, evaluations\n"
   ]
  },
  {
   "cell_type": "code",
   "execution_count": 17,
   "id": "3d78206e",
   "metadata": {},
   "outputs": [],
   "source": [
    "def bootstrap_pairwise(results):\n",
    "    models = results[0].models\n",
    "    n_model = results[0].n_model\n",
    "    method = results[0].method\n",
    "    cv_method = results[0].cv_method\n",
    "    n_cv = 2\n",
    "    fitter= results[0].fitter\n",
    "    n_bootstraps=results[0].n_bootstraps\n",
    "\n",
    "    evaluations = []\n",
    "    variances = []\n",
    "    dof = []\n",
    "    n_rdm  = []\n",
    "    n_pattern = []\n",
    "    noise_ceil = []\n",
    "\n",
    "    for result in results: # session 0 and session 1\n",
    "        evaluations.append(result.evaluations)\n",
    "        variances.append(result.variances)\n",
    "        dof.append(result.dof)\n",
    "        n_rdm.append(result.n_rdm)\n",
    "        n_pattern.append(result.n_pattern)\n",
    "        noise_ceil.append(result.noise_ceiling)\n",
    "\n",
    "\n",
    "    eval_new = []\n",
    "    #noise_ceil_new = []\n",
    "    for i in range(n_model):\n",
    "        temp = np.concatenate((evaluations[0][:,i:i+1,:,:],evaluations[1][:,i:i+1,:,:]),axis=1)\n",
    "        #temp1 = np.concatenate((noise_ceil[0][:,i:i+1,:,:],evaluations[1][:,i:i+1,:,:]),axis=1)\n",
    "        eval_new.append(temp)\n",
    "        #noise_ceil.append()\n",
    "\n",
    "    each_variance = []\n",
    "    diff_variance = []\n",
    "    nonan_iter = []\n",
    "\n",
    "    for eval in eval_new:\n",
    "        model_var, diff_var,variances, eval_ok = calc_model_var(eval,min(n_rdm),min(n_pattern))\n",
    "        each_variance.append(model_var)\n",
    "        diff_variance.append(diff_var)\n",
    "        nonan_iter.append(sum(eval_ok))\n",
    "\n",
    "    eval_diff = []\n",
    "    t_stat = []\n",
    "    p_val = []\n",
    "    evals = []\n",
    "    \n",
    "    for i in range(len(eval_new)):\n",
    "        diffs, t, p, eval = pairwise(eval_new[i], diff_variance[i], min(dof))\n",
    "        eval_diff.append(diffs)\n",
    "        t_stat.append(t)\n",
    "        p_val.append(p)\n",
    "        evals.append(eval)\n",
    "\n",
    "    return eval_diff,t_stat,p_val,evals"
   ]
  },
  {
   "cell_type": "code",
   "execution_count": 189,
   "id": "3253a847",
   "metadata": {},
   "outputs": [],
   "source": [
    "all_tuples = (('V1', 'WT', 1),('V2', 'WT', 1), ('IPS0', 'WT', 1), ('SPL1', 'WT', 1),\n",
    "              ('V1', 'Ecc', 1),('V2', 'Ecc', 1),('IPS0', 'Ecc', 1),('SPL1', 'Ecc', 1))"
   ]
  },
  {
   "cell_type": "code",
   "execution_count": 190,
   "id": "1e6c09fc",
   "metadata": {},
   "outputs": [
    {
     "name": "stdout",
     "output_type": "stream",
     "text": [
      "                                              results   roi  session     epoch\n",
      "0   Results for running dual_bootstrap evaluation ...    M1        0     delay\n",
      "0   Results for running dual_bootstrap evaluation ...    M1        1     delay\n",
      "0   Results for running dual_bootstrap evaluation ...    V1        0     delay\n",
      "0   Results for running dual_bootstrap evaluation ...    V1        1     delay\n",
      "0   Results for running dual_bootstrap evaluation ...    V2        0     delay\n",
      "..                                                ...   ...      ...       ...\n",
      "0   Results for running dual_bootstrap evaluation ...  IPS4        1  stimulus\n",
      "0   Results for running dual_bootstrap evaluation ...  IPS5        0  stimulus\n",
      "0   Results for running dual_bootstrap evaluation ...  IPS5        1  stimulus\n",
      "0   Results for running dual_bootstrap evaluation ...  SPL1        0  stimulus\n",
      "0   Results for running dual_bootstrap evaluation ...  SPL1        1  stimulus\n",
      "\n",
      "[90 rows x 4 columns]\n"
     ]
    }
   ],
   "source": [
    "print(df1)"
   ]
  },
  {
   "cell_type": "code",
   "execution_count": 191,
   "id": "b14bf88f",
   "metadata": {},
   "outputs": [],
   "source": [
    "data = []\n",
    "model_names = [m.name for m in df1.iloc[0,0].models]\n",
    "n_cv = 2\n",
    "\n",
    "for one_tuple in all_tuples:\n",
    "    roi = one_tuple[0]\n",
    "    model = one_tuple[1]\n",
    "    session = one_tuple[2]\n",
    "    epochs = ['stimulus','delay']\n",
    "    \n",
    "    results = []\n",
    "    for epoch in epochs:\n",
    "        df = df1[(df1['roi']==roi) & (df1['session']==session) & (df1['epoch']==epoch)]\n",
    "        #print(df)\n",
    "        results.append(df.iloc[0,0])\n",
    "\n",
    "    eval_diff,t_stat,p_val,evals = bootstrap_pairwise(results)\n",
    "\n",
    "    idx = model_names.index(model)\n",
    "    #df_epoch = pd eval_diff[idx][0],t_stat[idx][0,1],p_val[idx][0,1],evals[idx])\n",
    "    data.append({\n",
    "            'model': model,                \n",
    "            'session': session,\n",
    "            'roi': roi,\n",
    "            'comparison': 'pairwise',\n",
    "            'mean_stimulus': evals[idx][0],\n",
    "            'mean_delay': evals[idx][1],\n",
    "            'mean_diff':eval_diff[idx][0],\n",
    "            't_stat': t_stat[idx][0,1],\n",
    "            'p_value': p_val[idx][0,1],\n",
    "        })\n"
   ]
  },
  {
   "cell_type": "code",
   "execution_count": 192,
   "id": "0b63827e",
   "metadata": {},
   "outputs": [],
   "source": [
    "df_temp = pd.DataFrame(data)"
   ]
  },
  {
   "cell_type": "code",
   "execution_count": 193,
   "id": "221211d9",
   "metadata": {},
   "outputs": [
    {
     "name": "stdout",
     "output_type": "stream",
     "text": [
      "  model  session   roi comparison  mean_stimulus  mean_delay  mean_diff  \\\n",
      "0    WT        1    V1   pairwise       0.230689    0.038062   0.192628   \n",
      "1    WT        1    V2   pairwise       0.223397    0.106963   0.116435   \n",
      "2    WT        1  IPS0   pairwise       0.090254    0.115978  -0.025724   \n",
      "3    WT        1  SPL1   pairwise       0.051916    0.141067  -0.089150   \n",
      "4   Ecc        1    V1   pairwise       0.217463   -0.005997   0.223460   \n",
      "5   Ecc        1    V2   pairwise       0.246806    0.025533   0.221273   \n",
      "6   Ecc        1  IPS0   pairwise       0.115812    0.142386  -0.026574   \n",
      "7   Ecc        1  SPL1   pairwise       0.004675    0.157545  -0.152870   \n",
      "\n",
      "     t_stat   p_value  \n",
      "0  3.935278  0.017027  \n",
      "1  1.626054  0.179265  \n",
      "2 -0.286445  0.788761  \n",
      "3 -1.009616  0.369792  \n",
      "4  2.534619  0.064348  \n",
      "5  2.788844  0.049370  \n",
      "6 -0.717428  0.512775  \n",
      "7 -1.358002  0.246014  \n"
     ]
    }
   ],
   "source": [
    "print(df_temp)"
   ]
  },
  {
   "cell_type": "code",
   "execution_count": 194,
   "id": "07c003b3",
   "metadata": {},
   "outputs": [
    {
     "name": "stdout",
     "output_type": "stream",
     "text": [
      "  model  session   roi comparison  mean_stimulus  mean_delay  mean_diff  \\\n",
      "0    WT        1    V1   pairwise       0.230689    0.038062   0.192628   \n",
      "1    WT        1    V2   pairwise       0.223397    0.106963   0.116435   \n",
      "2    WT        1  IPS0   pairwise       0.090254    0.115978  -0.025724   \n",
      "3    WT        1  SPL1   pairwise       0.051916    0.141067  -0.089150   \n",
      "4   Ecc        1    V1   pairwise       0.217463   -0.005997   0.223460   \n",
      "5   Ecc        1    V2   pairwise       0.246806    0.025533   0.221273   \n",
      "6   Ecc        1  IPS0   pairwise       0.115812    0.142386  -0.026574   \n",
      "7   Ecc        1  SPL1   pairwise       0.004675    0.157545  -0.152870   \n",
      "\n",
      "     t_stat   p_value  p_value_corr  \n",
      "0  3.935278  0.017027      0.068109  \n",
      "1  1.626054  0.179265      0.358531  \n",
      "2 -0.286445  0.788761      0.788761  \n",
      "3 -1.009616  0.369792      0.493057  \n",
      "4  2.534619  0.064348      0.128696  \n",
      "5  2.788844  0.049370      0.128696  \n",
      "6 -0.717428  0.512775      0.512775  \n",
      "7 -1.358002  0.246014      0.328019  \n"
     ]
    }
   ],
   "source": [
    "df_temp1 = df_temp[df_temp['model']=='WT']\n",
    "df_temp2 = df_temp[df_temp['model']=='Ecc']\n",
    "df_temp1 = multi_corr(df_temp1)\n",
    "df_temp2 = multi_corr(df_temp2)\n",
    "\n",
    "df_temp_new = pd.concat((df_temp1,df_temp2),axis=0)\n",
    "print(df_temp_new)"
   ]
  },
  {
   "cell_type": "code",
   "execution_count": 195,
   "id": "85694710",
   "metadata": {},
   "outputs": [
    {
     "name": "stdout",
     "output_type": "stream",
     "text": [
      "  model  session   roi comparison  mean_stimulus  mean_delay  mean_diff  \\\n",
      "0    WT        1    V1   pairwise       0.230689    0.038062   0.192628   \n",
      "1    WT        1    V2   pairwise       0.223397    0.106963   0.116435   \n",
      "2    WT        1  IPS0   pairwise       0.090254    0.115978  -0.025724   \n",
      "3    WT        1  SPL1   pairwise       0.051916    0.141067  -0.089150   \n",
      "4   Ecc        1    V1   pairwise       0.217463   -0.005997   0.223460   \n",
      "5   Ecc        1    V2   pairwise       0.246806    0.025533   0.221273   \n",
      "6   Ecc        1  IPS0   pairwise       0.115812    0.142386  -0.026574   \n",
      "7   Ecc        1  SPL1   pairwise       0.004675    0.157545  -0.152870   \n",
      "\n",
      "     t_stat   p_value  p_value_corr  \n",
      "0  3.935278  0.017027      0.136218  \n",
      "1  1.626054  0.179265      0.358531  \n",
      "2 -0.286445  0.788761      0.788761  \n",
      "3 -1.009616  0.369792      0.493057  \n",
      "4  2.534619  0.064348      0.171594  \n",
      "5  2.788844  0.049370      0.171594  \n",
      "6 -0.717428  0.512775      0.586029  \n",
      "7 -1.358002  0.246014      0.393623  \n"
     ]
    }
   ],
   "source": [
    "\n",
    "# multiple correction across all\n",
    "df_temp = multi_corr(df_temp)\n",
    "print(df_temp)\n"
   ]
  },
  {
   "cell_type": "code",
   "execution_count": 196,
   "id": "4e24ffb0",
   "metadata": {},
   "outputs": [],
   "source": [
    "df_temp.to_csv('tbl_bootstrap_RDM_accuracy_pairwise_sp_ecc_sess2.csv')"
   ]
  },
  {
   "cell_type": "code",
   "execution_count": 197,
   "id": "9ed2f0c3",
   "metadata": {},
   "outputs": [],
   "source": [
    "df_temp_sess2 = df_temp"
   ]
  },
  {
   "cell_type": "code",
   "execution_count": 198,
   "id": "405046b6",
   "metadata": {},
   "outputs": [
    {
     "name": "stdout",
     "output_type": "stream",
     "text": [
      "  model  session   roi comparison  mean_stimulus  mean_delay  mean_diff  \\\n",
      "0    WT        0    V1   pairwise       0.178516    0.096234   0.082282   \n",
      "1    WT        0    V2   pairwise       0.165382    0.044339   0.121043   \n",
      "2    WT        0  IPS0   pairwise       0.022315    0.128713  -0.106397   \n",
      "3    WT        0  SPL1   pairwise      -0.053202    0.038891  -0.092093   \n",
      "4   Ecc        0    V1   pairwise       0.204376   -0.019025   0.223401   \n",
      "5   Ecc        0    V2   pairwise       0.233801   -0.084086   0.317887   \n",
      "6   Ecc        0  IPS0   pairwise       0.136649    0.050241   0.086408   \n",
      "7   Ecc        0  SPL1   pairwise      -0.018548    0.088198  -0.106746   \n",
      "\n",
      "     t_stat   p_value  p_value_corr  \n",
      "0  1.418403  0.215281      0.328132  \n",
      "1  2.268063  0.072615      0.193639  \n",
      "2 -1.683535  0.153092      0.306184  \n",
      "3 -1.083288  0.328132      0.328132  \n",
      "4  3.312090  0.021192      0.084767  \n",
      "5  3.761569  0.013136      0.084767  \n",
      "6  1.188780  0.287903      0.328132  \n",
      "7 -1.224467  0.275316      0.328132  \n"
     ]
    }
   ],
   "source": [
    "all_tuples = (('V1', 'WT', 0),('V2', 'WT', 0), ('IPS0', 'WT', 0), ('SPL1', 'WT', 0),\n",
    "              ('V1', 'Ecc', 0),('V2', 'Ecc', 0),('IPS0', 'Ecc', 0),('SPL1', 'Ecc', 0))\n",
    "\n",
    "data = []\n",
    "model_names = [m.name for m in df1.iloc[0,0].models]\n",
    "n_cv = 2\n",
    "\n",
    "for one_tuple in all_tuples:\n",
    "    roi = one_tuple[0]\n",
    "    model = one_tuple[1]\n",
    "    session = one_tuple[2]\n",
    "    epochs = ['stimulus','delay']\n",
    "    \n",
    "    results = []\n",
    "    for epoch in epochs:\n",
    "        df = df1[(df1['roi']==roi) & (df1['session']==session) & (df1['epoch']==epoch)]\n",
    "        #print(df)\n",
    "        results.append(df.iloc[0,0])\n",
    "\n",
    "    eval_diff,t_stat,p_val,evals = bootstrap_pairwise(results)\n",
    "\n",
    "    idx = model_names.index(model)\n",
    "    #df_epoch = pd eval_diff[idx][0],t_stat[idx][0,1],p_val[idx][0,1],evals[idx])\n",
    "    data.append({\n",
    "            'model': model,                \n",
    "            'session': session,\n",
    "            'roi': roi,\n",
    "            'comparison': 'pairwise',\n",
    "            'mean_stimulus': evals[idx][0],\n",
    "            'mean_delay': evals[idx][1],\n",
    "            'mean_diff':eval_diff[idx][0],\n",
    "            't_stat': t_stat[idx][0,1],\n",
    "            'p_value': p_val[idx][0,1],\n",
    "        })\n",
    "    \n",
    "df_temp = pd.DataFrame(data)\n",
    "\n",
    "# multiple correction across all\n",
    "df_temp = multi_corr(df_temp)\n",
    "\n",
    "print(df_temp)\n"
   ]
  },
  {
   "cell_type": "code",
   "execution_count": 188,
   "id": "b34a36f3",
   "metadata": {},
   "outputs": [],
   "source": [
    "df_temp.to_csv('tbl_bootstrap_RDM_accuracy_pairwise_sp_ecc_sess1.csv')"
   ]
  },
  {
   "cell_type": "code",
   "execution_count": 199,
   "id": "02d9e4a8",
   "metadata": {},
   "outputs": [],
   "source": [
    "df_temp_sess1 = df_temp"
   ]
  },
  {
   "cell_type": "code",
   "execution_count": 201,
   "id": "f72eea35",
   "metadata": {},
   "outputs": [],
   "source": [
    "df_temp_sess_all = pd.concat((df_temp_sess1,df_temp_sess2),axis=0)"
   ]
  },
  {
   "cell_type": "code",
   "execution_count": 202,
   "id": "90630466",
   "metadata": {},
   "outputs": [],
   "source": [
    "# multiple correction across all\n",
    "df_temp_sess_all = multi_corr(df_temp_sess_all)"
   ]
  },
  {
   "cell_type": "code",
   "execution_count": 203,
   "id": "39963488",
   "metadata": {},
   "outputs": [],
   "source": [
    "df_temp_sess_all.to_csv('tbl_bootstrap_RDM_accuracy_pairwise_sp_ecc_sess_all.csv')"
   ]
  },
  {
   "cell_type": "markdown",
   "id": "ba042681",
   "metadata": {},
   "source": [
    "# pairwise across models"
   ]
  },
  {
   "cell_type": "code",
   "execution_count": 204,
   "id": "d097a2a7",
   "metadata": {},
   "outputs": [],
   "source": [
    "# combinations\n",
    "visual_comb1 = (('V1',0,'stimulus',['WT','Ecc','Ecc-WT'],['WT vs Ecc-WT','WT vs Ecc','Ecc vs Ecc-WT']),\n",
    "               ('V1',0,'stimulus',['LR','WT','LR-WT'],['LR vs LR-WT','LR vs WT','WT vs LR-WT']),\n",
    "               ('V1',0,'stimulus',['LR','Ecc','Ecc-LR'],['LR vs Ecc-LR','LR vs Ecc','Ecc vs Ecc-LR']),\n",
    "               ('V2',0,'stimulus',['WT','Ecc','Ecc-WT'],['WT vs Ecc-WT','WT vs Ecc','Ecc vs Ecc-WT']),\n",
    "               ('V2',0,'stimulus',['LR','WT','LR-WT'],['LR vs LR-WT','LR vs WT','WT vs LR-WT']),\n",
    "               ('V2',0,'stimulus',['LR','Ecc','Ecc-LR'],['LR vs Ecc-LR','LR vs Ecc','Ecc vs Ecc-LR']))\n",
    "\n",
    "visual_comb2 = (('V1',1,'stimulus',['WT','Ecc','Ecc-WT'],['WT vs Ecc-WT','WT vs Ecc','Ecc vs Ecc-WT']),\n",
    "               ('V1',1,'stimulus',['LR','WT','LR-WT'],['LR vs LR-WT','LR vs WT','WT vs LR-WT']),\n",
    "               ('V1',1,'stimulus',['LR','Ecc','Ecc-LR'],['LR vs Ecc-LR','LR vs Ecc','Ecc vs Ecc-LR']),\n",
    "               ('V2',1,'stimulus',['WT','Ecc','Ecc-WT'],['WT vs Ecc-WT','WT vs Ecc','Ecc vs Ecc-WT']),\n",
    "               ('V2',1,'stimulus',['LR','WT','LR-WT'],['LR vs LR-WT','LR vs WT','WT vs LR-WT']),\n",
    "               ('V2',1,'stimulus',['LR','Ecc','Ecc-LR'],['LR vs Ecc-LR','LR vs Ecc','Ecc vs Ecc-LR']))\n",
    "\n",
    "parietal_comb1 = (('IPS2',0,'delay',['WT','Ecc','Ecc-WT'],['WT vs Ecc-WT','WT vs Ecc','Ecc vs Ecc-WT']),\n",
    "               ('IPS2',0,'delay',['LR','WT','LR-WT'],['LR vs LR-WT','LR vs WT','WT vs LR-WT']))\n",
    "\n",
    "parietal_comb2 = (('IPS0',1,'delay',['WT','Ecc','Ecc-WT'],['WT vs Ecc-WT','WT vs Ecc','Ecc vs Ecc-WT']),\n",
    "               ('IPS1',1,'delay',['LR','WT','LR-WT'],['LR vs LR-WT','LR vs WT','WT vs LR-WT']),\n",
    "               ('SPL1',1,'delay',['WT','Ecc','Ecc-WT'],['WT vs Ecc-WT','WT vs Ecc','Ecc vs Ecc-WT']),\n",
    "               ('SPL1',1,'delay',['LR','WT','LR-WT'],['LR vs LR-WT','LR vs WT','WT vs LR-WT']))"
   ]
  },
  {
   "cell_type": "code",
   "execution_count": 219,
   "id": "218fbee9",
   "metadata": {},
   "outputs": [
    {
     "name": "stdout",
     "output_type": "stream",
     "text": [
      "(('V1', 0, 'stimulus', ['WT', 'Ecc', 'Ecc-WT'], ['WT vs Ecc-WT', 'WT vs Ecc', 'Ecc vs Ecc-WT']), ('V1', 0, 'stimulus', ['LR', 'WT', 'LR-WT'], ['LR vs LR-WT', 'LR vs WT', 'WT vs LR-WT']), ('V1', 0, 'stimulus', ['LR', 'Ecc', 'Ecc-LR'], ['LR vs Ecc-LR', 'LR vs Ecc', 'Ecc vs Ecc-LR']), ('V2', 0, 'stimulus', ['WT', 'Ecc', 'Ecc-WT'], ['WT vs Ecc-WT', 'WT vs Ecc', 'Ecc vs Ecc-WT']), ('V2', 0, 'stimulus', ['LR', 'WT', 'LR-WT'], ['LR vs LR-WT', 'LR vs WT', 'WT vs LR-WT']), ('V2', 0, 'stimulus', ['LR', 'Ecc', 'Ecc-LR'], ['LR vs Ecc-LR', 'LR vs Ecc', 'Ecc vs Ecc-LR']), ('V1', 1, 'stimulus', ['WT', 'Ecc', 'Ecc-WT'], ['WT vs Ecc-WT', 'WT vs Ecc', 'Ecc vs Ecc-WT']), ('V1', 1, 'stimulus', ['LR', 'WT', 'LR-WT'], ['LR vs LR-WT', 'LR vs WT', 'WT vs LR-WT']), ('V1', 1, 'stimulus', ['LR', 'Ecc', 'Ecc-LR'], ['LR vs Ecc-LR', 'LR vs Ecc', 'Ecc vs Ecc-LR']), ('V2', 1, 'stimulus', ['WT', 'Ecc', 'Ecc-WT'], ['WT vs Ecc-WT', 'WT vs Ecc', 'Ecc vs Ecc-WT']), ('V2', 1, 'stimulus', ['LR', 'WT', 'LR-WT'], ['LR vs LR-WT', 'LR vs WT', 'WT vs LR-WT']), ('V2', 1, 'stimulus', ['LR', 'Ecc', 'Ecc-LR'], ['LR vs Ecc-LR', 'LR vs Ecc', 'Ecc vs Ecc-LR']), ('IPS2', 0, 'delay', ['WT', 'Ecc', 'Ecc-WT'], ['WT vs Ecc-WT', 'WT vs Ecc', 'Ecc vs Ecc-WT']), ('IPS2', 0, 'delay', ['LR', 'WT', 'LR-WT'], ['LR vs LR-WT', 'LR vs WT', 'WT vs LR-WT']), ('IPS0', 1, 'delay', ['WT', 'Ecc', 'Ecc-WT'], ['WT vs Ecc-WT', 'WT vs Ecc', 'Ecc vs Ecc-WT']), ('IPS1', 1, 'delay', ['LR', 'WT', 'LR-WT'], ['LR vs LR-WT', 'LR vs WT', 'WT vs LR-WT']), ('SPL1', 1, 'delay', ['WT', 'Ecc', 'Ecc-WT'], ['WT vs Ecc-WT', 'WT vs Ecc', 'Ecc vs Ecc-WT']), ('SPL1', 1, 'delay', ['LR', 'WT', 'LR-WT'], ['LR vs LR-WT', 'LR vs WT', 'WT vs LR-WT']))\n"
     ]
    }
   ],
   "source": [
    "all_comb = visual_comb1+visual_comb2+parietal_comb1+parietal_comb2\n",
    "print(all_comb)\n",
    "\n",
    "df_comb = pd.DataFrame()\n",
    "\n",
    "for comb in all_comb:\n",
    "    df = df_results[(df_results['roi'].isin([comb[0]])) \n",
    "                    & (df_results['session'].isin([comb[1]])) \n",
    "                    & (df_results['epoch'].isin([comb[2]]))\n",
    "                    & (df_results['comparison'].isin(['pairwise']))\n",
    "                    & (df_results['model'].isin(comb[4]))]\n",
    "    \n",
    "    df = multi_corr(df)\n",
    "    \n",
    "    df_comb = pd.concat((df_comb,df),axis=0)\n",
    "    "
   ]
  },
  {
   "cell_type": "code",
   "execution_count": 220,
   "id": "c39ca963",
   "metadata": {},
   "outputs": [],
   "source": [
    "#df_comb = multi_corr(df_comb)"
   ]
  },
  {
   "cell_type": "code",
   "execution_count": 221,
   "id": "91800f36",
   "metadata": {},
   "outputs": [],
   "source": [
    "df_comb['mean1'] = df_comb['mean'].apply(lambda x: x[0])\n",
    "df_comb['mean2'] = df_comb['mean'].apply(lambda x: x[1])"
   ]
  },
  {
   "cell_type": "code",
   "execution_count": 222,
   "id": "cef35711",
   "metadata": {},
   "outputs": [],
   "source": [
    "df_temp = df_comb[df_comb['p_value']<0.05]"
   ]
  },
  {
   "cell_type": "code",
   "execution_count": 223,
   "id": "0064775b",
   "metadata": {},
   "outputs": [
    {
     "name": "stdout",
     "output_type": "stream",
     "text": [
      "             model  session     epoch   roi comparison  \\\n",
      "253       LR vs WT        0  stimulus    V1   pairwise   \n",
      "254      LR vs Ecc        0  stimulus    V1   pairwise   \n",
      "256   LR vs Ecc-LR        0  stimulus    V1   pairwise   \n",
      "516   WT vs Ecc-WT        0  stimulus    V2   pairwise   \n",
      "505       LR vs WT        0  stimulus    V2   pairwise   \n",
      "507    LR vs LR-WT        0  stimulus    V2   pairwise   \n",
      "506      LR vs Ecc        0  stimulus    V2   pairwise   \n",
      "508   LR vs Ecc-LR        0  stimulus    V2   pairwise   \n",
      "316       LR vs WT        1  stimulus    V1   pairwise   \n",
      "318    LR vs LR-WT        1  stimulus    V1   pairwise   \n",
      "319   LR vs Ecc-LR        1  stimulus    V1   pairwise   \n",
      "568       LR vs WT        1  stimulus    V2   pairwise   \n",
      "570    LR vs LR-WT        1  stimulus    V2   pairwise   \n",
      "569      LR vs Ecc        1  stimulus    V2   pairwise   \n",
      "571   LR vs Ecc-LR        1  stimulus    V2   pairwise   \n",
      "2460   LR vs LR-WT        1     delay  IPS1   pairwise   \n",
      "\n",
      "                                              mean  mean_diff   p_value  \\\n",
      "253    [0.016844436127424384, 0.17851616451881902]  -0.161672  0.031359   \n",
      "254    [0.016844436127424384, 0.20437643893198662]  -0.187532  0.022723   \n",
      "256    [0.016844436127424384, 0.21249603915756113]  -0.195652  0.022914   \n",
      "516      [0.16538195042954382, 0.3386216901924606]  -0.173240  0.033096   \n",
      "505    [0.019642204751041375, 0.16538195042954382]  -0.145740  0.038070   \n",
      "507     [0.019642204751041375, 0.2414041000563425]  -0.221762  0.010047   \n",
      "506     [0.019642204751041375, 0.2338013838275619]  -0.214159  0.009778   \n",
      "508    [0.019642204751041375, 0.25540067307326786]  -0.235758  0.008514   \n",
      "316     [0.07915680048325188, 0.23068922292254865]  -0.151532  0.047287   \n",
      "318     [0.07915680048325188, 0.25962351198358524]  -0.180467  0.023426   \n",
      "319      [0.07915680048325188, 0.2581810380024661]  -0.179024  0.044078   \n",
      "568     [0.07166033976143338, 0.22339749111579688]  -0.151737  0.015262   \n",
      "570      [0.07166033976143338, 0.2176708877178947]  -0.146011  0.024230   \n",
      "569     [0.07166033976143338, 0.24680631276874165]  -0.175146  0.039347   \n",
      "571     [0.07166033976143338, 0.27540856558577914]  -0.203748  0.021320   \n",
      "2460  [0.0013836589702241242, 0.15251561156199706]  -0.151132  0.047731   \n",
      "\n",
      "                                               sem  p_value_corr     mean1  \\\n",
      "253     [0.03802293802831155, 0.04206850038707275]      0.161093  0.016844   \n",
      "254     [0.03802293802831155, 0.04270724623516403]      0.145377  0.016844   \n",
      "256       [0.03802293802831155, 0.041603818813591]      0.145377  0.016844   \n",
      "516     [0.04355526773472316, 0.05096708087642648]      0.161093  0.165382   \n",
      "505    [0.032072177498292186, 0.04355526773472316]      0.161093  0.019642   \n",
      "507   [0.032072177498292186, 0.044378870666443304]      0.145377  0.019642   \n",
      "506    [0.032072177498292186, 0.03397538653221165]      0.145377  0.019642   \n",
      "508    [0.032072177498292186, 0.03390442771621075]      0.145377  0.019642   \n",
      "316    [0.03784187527060701, 0.045738519157474754]      0.161093  0.079157   \n",
      "318     [0.03784187527060701, 0.03722244222900246]      0.145377  0.079157   \n",
      "319     [0.03784187527060701, 0.04513913591927862]      0.161093  0.079157   \n",
      "568     [0.02445621070735727, 0.03471484673723749]      0.145377  0.071660   \n",
      "570     [0.02445621070735727, 0.03889577681682775]      0.145377  0.071660   \n",
      "569    [0.02445621070735727, 0.049709203269090986]      0.161093  0.071660   \n",
      "571     [0.02445621070735727, 0.04701723656927593]      0.145377  0.071660   \n",
      "2460   [0.026797467925314317, 0.05049475632584678]      0.161093  0.001384   \n",
      "\n",
      "         mean2  \n",
      "253   0.178516  \n",
      "254   0.204376  \n",
      "256   0.212496  \n",
      "516   0.338622  \n",
      "505   0.165382  \n",
      "507   0.241404  \n",
      "506   0.233801  \n",
      "508   0.255401  \n",
      "316   0.230689  \n",
      "318   0.259624  \n",
      "319   0.258181  \n",
      "568   0.223397  \n",
      "570   0.217671  \n",
      "569   0.246806  \n",
      "571   0.275409  \n",
      "2460  0.152516  \n"
     ]
    }
   ],
   "source": [
    "print(df_temp)"
   ]
  },
  {
   "cell_type": "code",
   "execution_count": 218,
   "id": "db917322",
   "metadata": {},
   "outputs": [],
   "source": [
    "df_temp.to_csv('tbl_bootstrap_RDM_accuracy_pairwise_model.csv')"
   ]
  },
  {
   "cell_type": "code",
   "execution_count": null,
   "id": "20a218e2",
   "metadata": {},
   "outputs": [],
   "source": []
  },
  {
   "cell_type": "code",
   "execution_count": 236,
   "id": "1c3e32a0",
   "metadata": {},
   "outputs": [],
   "source": [
    "all_comb = (('V1',1,'stimulus',['LR','WT','Ecc','LR-WT','Ecc-LR','Ecc-WT'],\n",
    "             ['WT vs Ecc-WT','WT vs Ecc','Ecc vs Ecc-WT',\n",
    "              'LR vs LR-WT','LR vs WT','WT vs LR-WT',\n",
    "              'LR vs Ecc-LR','LR vs Ecc','Ecc vs Ecc-LR']),\n",
    "('V2',1,'stimulus',['LR','WT','Ecc','LR-WT','Ecc-LR','Ecc-WT'],\n",
    "             ['WT vs Ecc-WT','WT vs Ecc','Ecc vs Ecc-WT',\n",
    "              'LR vs LR-WT','LR vs WT','WT vs LR-WT',\n",
    "              'LR vs Ecc-LR','LR vs Ecc','Ecc vs Ecc-LR']),               \n",
    "('IPS0',1,'delay',['LR','WT','Ecc','LR-WT','Ecc-LR','Ecc-WT'],\n",
    "             ['WT vs Ecc-WT','WT vs Ecc','Ecc vs Ecc-WT',\n",
    "              'LR vs LR-WT','LR vs WT','WT vs LR-WT',\n",
    "              'LR vs Ecc-LR','LR vs Ecc','Ecc vs Ecc-LR']),              \n",
    "('SPL1',1,'delay',['LR','WT','Ecc','LR-WT','Ecc-LR','Ecc-WT'],\n",
    "             ['WT vs Ecc-WT','WT vs Ecc','Ecc vs Ecc-WT',\n",
    "              'LR vs LR-WT','LR vs WT','WT vs LR-WT',\n",
    "              'LR vs Ecc-LR','LR vs Ecc','Ecc vs Ecc-LR']))\n"
   ]
  },
  {
   "cell_type": "code",
   "execution_count": 237,
   "id": "08b36030",
   "metadata": {},
   "outputs": [],
   "source": [
    "\n",
    "df_comb = pd.DataFrame()\n",
    "\n",
    "for comb in all_comb:\n",
    "\n",
    "    df = df_results[(df_results['roi'].isin([comb[0]])) \n",
    "                 #   & (df_results['session'].isin([comb[1]])) \n",
    "                    & (df_results['epoch'].isin([comb[2]]))\n",
    "                    & (df_results['comparison'].isin(['pairwise']))\n",
    "                    & (df_results['model'].isin(comb[4]))]\n",
    "    \n",
    "    df = multi_corr(df)\n",
    "    \n",
    "    df_comb = pd.concat((df_comb,df),axis=0)"
   ]
  },
  {
   "cell_type": "code",
   "execution_count": 238,
   "id": "16417a2b",
   "metadata": {},
   "outputs": [],
   "source": [
    "df_comb['mean1'] = df_comb['mean'].apply(lambda x: x[0])\n",
    "df_comb['mean2'] = df_comb['mean'].apply(lambda x: x[1])"
   ]
  },
  {
   "cell_type": "code",
   "execution_count": 239,
   "id": "a121038b",
   "metadata": {},
   "outputs": [
    {
     "name": "stdout",
     "output_type": "stream",
     "text": [
      "            model  session     epoch roi comparison  \\\n",
      "253      LR vs WT        0  stimulus  V1   pairwise   \n",
      "254     LR vs Ecc        0  stimulus  V1   pairwise   \n",
      "256  LR vs Ecc-LR        0  stimulus  V1   pairwise   \n",
      "316      LR vs WT        1  stimulus  V1   pairwise   \n",
      "318   LR vs LR-WT        1  stimulus  V1   pairwise   \n",
      "319  LR vs Ecc-LR        1  stimulus  V1   pairwise   \n",
      "505      LR vs WT        0  stimulus  V2   pairwise   \n",
      "506     LR vs Ecc        0  stimulus  V2   pairwise   \n",
      "507   LR vs LR-WT        0  stimulus  V2   pairwise   \n",
      "508  LR vs Ecc-LR        0  stimulus  V2   pairwise   \n",
      "516  WT vs Ecc-WT        0  stimulus  V2   pairwise   \n",
      "568      LR vs WT        1  stimulus  V2   pairwise   \n",
      "569     LR vs Ecc        1  stimulus  V2   pairwise   \n",
      "570   LR vs LR-WT        1  stimulus  V2   pairwise   \n",
      "571  LR vs Ecc-LR        1  stimulus  V2   pairwise   \n",
      "\n",
      "                                            mean  mean_diff   p_value  \\\n",
      "253  [0.016844436127424384, 0.17851616451881902]  -0.161672  0.031359   \n",
      "254  [0.016844436127424384, 0.20437643893198662]  -0.187532  0.022723   \n",
      "256  [0.016844436127424384, 0.21249603915756113]  -0.195652  0.022914   \n",
      "316   [0.07915680048325188, 0.23068922292254865]  -0.151532  0.047287   \n",
      "318   [0.07915680048325188, 0.25962351198358524]  -0.180467  0.023426   \n",
      "319    [0.07915680048325188, 0.2581810380024661]  -0.179024  0.044078   \n",
      "505  [0.019642204751041375, 0.16538195042954382]  -0.145740  0.038070   \n",
      "506   [0.019642204751041375, 0.2338013838275619]  -0.214159  0.009778   \n",
      "507   [0.019642204751041375, 0.2414041000563425]  -0.221762  0.010047   \n",
      "508  [0.019642204751041375, 0.25540067307326786]  -0.235758  0.008514   \n",
      "516    [0.16538195042954382, 0.3386216901924606]  -0.173240  0.033096   \n",
      "568   [0.07166033976143338, 0.22339749111579688]  -0.151737  0.015262   \n",
      "569   [0.07166033976143338, 0.24680631276874165]  -0.175146  0.039347   \n",
      "570    [0.07166033976143338, 0.2176708877178947]  -0.146011  0.024230   \n",
      "571   [0.07166033976143338, 0.27540856558577914]  -0.203748  0.021320   \n",
      "\n",
      "                                              sem  p_value_corr     mean1  \\\n",
      "253    [0.03802293802831155, 0.04206850038707275]      0.140716  0.016844   \n",
      "254    [0.03802293802831155, 0.04270724623516403]      0.140554  0.016844   \n",
      "256      [0.03802293802831155, 0.041603818813591]      0.140554  0.016844   \n",
      "316   [0.03784187527060701, 0.045738519157474754]      0.140716  0.079157   \n",
      "318    [0.03784187527060701, 0.03722244222900246]      0.140554  0.079157   \n",
      "319    [0.03784187527060701, 0.04513913591927862]      0.140716  0.079157   \n",
      "505   [0.032072177498292186, 0.04355526773472316]      0.078694  0.019642   \n",
      "506   [0.032072177498292186, 0.03397538653221165]      0.060283  0.019642   \n",
      "507  [0.032072177498292186, 0.044378870666443304]      0.060283  0.019642   \n",
      "508   [0.032072177498292186, 0.03390442771621075]      0.060283  0.019642   \n",
      "516    [0.04355526773472316, 0.05096708087642648]      0.078694  0.165382   \n",
      "568    [0.02445621070735727, 0.03471484673723749]      0.068681  0.071660   \n",
      "569   [0.02445621070735727, 0.049709203269090986]      0.078694  0.071660   \n",
      "570    [0.02445621070735727, 0.03889577681682775]      0.072689  0.071660   \n",
      "571    [0.02445621070735727, 0.04701723656927593]      0.072689  0.071660   \n",
      "\n",
      "        mean2  \n",
      "253  0.178516  \n",
      "254  0.204376  \n",
      "256  0.212496  \n",
      "316  0.230689  \n",
      "318  0.259624  \n",
      "319  0.258181  \n",
      "505  0.165382  \n",
      "506  0.233801  \n",
      "507  0.241404  \n",
      "508  0.255401  \n",
      "516  0.338622  \n",
      "568  0.223397  \n",
      "569  0.246806  \n",
      "570  0.217671  \n",
      "571  0.275409  \n"
     ]
    }
   ],
   "source": [
    "df_temp = df_comb[df_comb['p_value']<0.05]\n",
    "print(df_temp)"
   ]
  },
  {
   "cell_type": "code",
   "execution_count": 240,
   "id": "4b624dbe",
   "metadata": {},
   "outputs": [],
   "source": [
    "df_temp.to_csv('tbl_bootstrap_RDM_accuracy_pairwise_model_seven.csv')"
   ]
  },
  {
   "cell_type": "markdown",
   "id": "0ec0be4e",
   "metadata": {},
   "source": [
    "# pairwise across scanning sessions"
   ]
  },
  {
   "cell_type": "code",
   "execution_count": 18,
   "id": "2ae164e0",
   "metadata": {},
   "outputs": [
    {
     "name": "stdout",
     "output_type": "stream",
     "text": [
      "      model  session     epoch roi    comparison      mean  mean_diff  \\\n",
      "302      WT        0  stimulus  V1  against_zero  0.178516        NaN   \n",
      "303     Ecc        0  stimulus  V1  against_zero  0.204376        NaN   \n",
      "304   LR-WT        0  stimulus  V1  against_zero  0.187566        NaN   \n",
      "305  Ecc-LR        0  stimulus  V1  against_zero  0.212496        NaN   \n",
      "306  Ecc-WT        0  stimulus  V1  against_zero  0.243389        NaN   \n",
      "365      WT        1  stimulus  V1  against_zero  0.230689        NaN   \n",
      "366     Ecc        1  stimulus  V1  against_zero  0.217463        NaN   \n",
      "367   LR-WT        1  stimulus  V1  against_zero  0.259624        NaN   \n",
      "368  Ecc-LR        1  stimulus  V1  against_zero  0.258181        NaN   \n",
      "369  Ecc-WT        1  stimulus  V1  against_zero  0.317809        NaN   \n",
      "554      WT        0  stimulus  V2  against_zero  0.165382        NaN   \n",
      "555     Ecc        0  stimulus  V2  against_zero  0.233801        NaN   \n",
      "556   LR-WT        0  stimulus  V2  against_zero  0.241404        NaN   \n",
      "557  Ecc-LR        0  stimulus  V2  against_zero  0.255401        NaN   \n",
      "558  Ecc-WT        0  stimulus  V2  against_zero  0.338622        NaN   \n",
      "616      LR        1  stimulus  V2  against_zero   0.07166        NaN   \n",
      "617      WT        1  stimulus  V2  against_zero  0.223397        NaN   \n",
      "618     Ecc        1  stimulus  V2  against_zero  0.246806        NaN   \n",
      "619   LR-WT        1  stimulus  V2  against_zero  0.217671        NaN   \n",
      "620  Ecc-LR        1  stimulus  V2  against_zero  0.275409        NaN   \n",
      "621  Ecc-WT        1  stimulus  V2  against_zero  0.336007        NaN   \n",
      "\n",
      "      p_value       sem  \n",
      "302  0.004071  0.042069  \n",
      "303  0.002473  0.042707  \n",
      "304  0.015512  0.063074  \n",
      "305  0.001873  0.041604  \n",
      "306  0.000800  0.039289  \n",
      "365  0.003632  0.045739  \n",
      "366  0.003609  0.043039  \n",
      "367  0.001111  0.037222  \n",
      "368  0.002312  0.045139  \n",
      "369  0.001644  0.050629  \n",
      "554  0.006333  0.043555  \n",
      "555  0.000496  0.033975  \n",
      "556  0.001425  0.044379  \n",
      "557  0.000326  0.033904  \n",
      "558  0.000582  0.050967  \n",
      "616  0.021404  0.024456  \n",
      "617  0.001500  0.034715  \n",
      "618  0.003839  0.049709  \n",
      "619  0.002502  0.038896  \n",
      "620  0.002120  0.047017  \n",
      "621  0.001074  0.047742  \n"
     ]
    }
   ],
   "source": [
    "df_temp = df_results[(df_results['comparison']=='against_zero') & \n",
    "          (df_results['roi'].isin(['V1','V2'])) &\n",
    "          (df_results['epoch']=='stimulus') & \n",
    "          (df_results['p_value']<=0.05) & \n",
    "          (df_results['model']!='All') #&\n",
    "          ] #(df_results['session']==0)\n",
    "print(df_temp)"
   ]
  },
  {
   "cell_type": "code",
   "execution_count": 19,
   "id": "38030c68",
   "metadata": {},
   "outputs": [
    {
     "name": "stdout",
     "output_type": "stream",
     "text": [
      "       model  session  epoch   roi    comparison      mean  mean_diff  \\\n",
      "2255      WT        1  delay  IPS0  against_zero  0.115978        NaN   \n",
      "2256     Ecc        1  delay  IPS0  against_zero  0.142386        NaN   \n",
      "2509   LR-WT        1  delay  IPS1  against_zero  0.152516        NaN   \n",
      "2696      WT        0  delay  IPS2  against_zero  0.101306        NaN   \n",
      "3767      WT        1  delay  SPL1  against_zero  0.141067        NaN   \n",
      "3768     Ecc        1  delay  SPL1  against_zero  0.157545        NaN   \n",
      "3769   LR-WT        1  delay  SPL1  against_zero  0.106844        NaN   \n",
      "3771  Ecc-WT        1  delay  SPL1  against_zero  0.239361        NaN   \n",
      "\n",
      "       p_value       sem  \n",
      "2255  0.021340   0.03954  \n",
      "2256  0.035178  0.058089  \n",
      "2509  0.019573  0.050495  \n",
      "2696  0.041355  0.046802  \n",
      "3767  0.028130  0.052988  \n",
      "3768  0.041166  0.068299  \n",
      "3769  0.024812   0.03838  \n",
      "3771  0.005236  0.052688  \n"
     ]
    }
   ],
   "source": [
    "df_temp = df_results[(df_results['comparison']=='against_zero') & \n",
    "          (df_results['roi'].isin(['IPS0','IPS1','IPS2','SPL1'])) &\n",
    "          (df_results['epoch']=='delay') & \n",
    "          (df_results['p_value']<=0.05) & \n",
    "          (df_results['model']!='All')] # &           (df_results['session']==0)\n",
    "print(df_temp)"
   ]
  },
  {
   "cell_type": "code",
   "execution_count": 20,
   "id": "1678194a",
   "metadata": {},
   "outputs": [],
   "source": [
    "# all_comb0 = (('v1','stimulus','WT'),('v1','stimulus','Ecc'),\n",
    "#             ('v1','stimulus','LR-WT'),('v1','stimulus','Ecc-LR'),('v1','stimulus','Ecc-WT'),\n",
    "#             ('v2','stimulus','LR'),('v2','stimulus','WT'),('v2','stimulus','Ecc'),\n",
    "#             ('v1','stimulus','LR-WT'),('v1','stimulus','Ecc-LR'),('v1','stimulus','Ecc-WT'),\n",
    "#             ('ips0','delay','WT'),('v1','delay','Ecc'),\n",
    "#             ('ips1','delay','LR-WT'),\n",
    "#             ('ips2','delay','WT'),\n",
    "#             ('spl1','delay','WT'),('spl1','delay','Ecc'),('spl1','delay','LR-WT'),('spl1','delay','Ecc-WT'))"
   ]
  },
  {
   "cell_type": "code",
   "execution_count": 23,
   "id": "ed2794db",
   "metadata": {},
   "outputs": [],
   "source": [
    "all_comb = (('V1','stimulus','WT'),('V1','stimulus','Ecc'),\n",
    "            ('V2','stimulus','WT'),('V2','stimulus','Ecc'),\n",
    "            ('IPS0','delay','WT'),('IPS0','delay','Ecc'),\n",
    "            ('SPL1','delay','WT'),('SPL1','delay','Ecc'))"
   ]
  },
  {
   "cell_type": "code",
   "execution_count": 30,
   "id": "eca05e93",
   "metadata": {},
   "outputs": [],
   "source": [
    "data = []\n",
    "model_names = [m.name for m in df1.iloc[0,0].models]\n",
    "\n",
    "for comb in all_comb:\n",
    "    sessions = [0,1]\n",
    "    epoch = comb[1]\n",
    "    roi = comb[0]\n",
    "    model = comb[2]\n",
    "    n_cv = 2\n",
    "    \n",
    "    results = []\n",
    "    for session in sessions:\n",
    "        df = df1[(df1['roi']==roi) & (df1['session']==session) & (df1['epoch']==epoch)]\n",
    "        results.append(df.iloc[0,0])\n",
    "\n",
    "    eval_diff,t_stat,p_val,evals = bootstrap_pairwise(results)\n",
    "\n",
    "    idx = model_names.index(model)\n",
    "    data.append({'roi': roi,\n",
    "                 'epoch': epoch,\n",
    "                 'model': model,\n",
    "                 'eval_sess1': evals[idx][0],\n",
    "                 'eval_sess2': evals[idx][1],\n",
    "                 'eval_diff': eval_diff[idx][0],\n",
    "                 't_stat': t_stat[idx][0,1],\n",
    "                 'p_value': p_val[idx][0,1]})"
   ]
  },
  {
   "cell_type": "code",
   "execution_count": 31,
   "id": "c0e29de6",
   "metadata": {},
   "outputs": [
    {
     "name": "stdout",
     "output_type": "stream",
     "text": [
      "    roi     epoch model  eval_sess1  eval_sess2  eval_diff    t_stat   p_value\n",
      "0    V1  stimulus    WT    0.178516    0.230689  -0.052173 -1.217248  0.290411\n",
      "1    V1  stimulus   Ecc    0.204376    0.217463  -0.013087 -0.224306  0.833511\n",
      "2    V2  stimulus    WT    0.165382    0.223397  -0.058016 -1.222549  0.288608\n",
      "3    V2  stimulus   Ecc    0.233801    0.246806  -0.013005 -0.217638  0.838363\n",
      "4  IPS0     delay    WT    0.128713    0.115978   0.012734  0.158102  0.882037\n",
      "5  IPS0     delay   Ecc    0.050241    0.142386  -0.092145 -1.619963  0.180555\n",
      "6  SPL1     delay    WT    0.038891    0.141067  -0.102175 -1.502372  0.207418\n",
      "7  SPL1     delay   Ecc    0.088198    0.157545  -0.069347 -0.606872  0.576696\n"
     ]
    }
   ],
   "source": [
    "df_temp = pd.DataFrame(data)\n",
    "print(df_temp)"
   ]
  },
  {
   "cell_type": "code",
   "execution_count": 32,
   "id": "fe97ca7a",
   "metadata": {},
   "outputs": [],
   "source": [
    "df_temp = multi_corr(df_temp)"
   ]
  },
  {
   "cell_type": "code",
   "execution_count": 33,
   "id": "4d68c3ec",
   "metadata": {},
   "outputs": [],
   "source": [
    "df_temp.to_csv('tbl_bootstrap_RDM_accuracy_pairwise_sess.csv')"
   ]
  },
  {
   "cell_type": "code",
   "execution_count": null,
   "id": "e009760d",
   "metadata": {},
   "outputs": [],
   "source": []
  }
 ],
 "metadata": {
  "kernelspec": {
   "display_name": "Python 3 (ipykernel)",
   "language": "python",
   "name": "python3"
  },
  "language_info": {
   "codemirror_mode": {
    "name": "ipython",
    "version": 3
   },
   "file_extension": ".py",
   "mimetype": "text/x-python",
   "name": "python",
   "nbconvert_exporter": "python",
   "pygments_lexer": "ipython3",
   "version": "3.11.0"
  }
 },
 "nbformat": 4,
 "nbformat_minor": 5
}
