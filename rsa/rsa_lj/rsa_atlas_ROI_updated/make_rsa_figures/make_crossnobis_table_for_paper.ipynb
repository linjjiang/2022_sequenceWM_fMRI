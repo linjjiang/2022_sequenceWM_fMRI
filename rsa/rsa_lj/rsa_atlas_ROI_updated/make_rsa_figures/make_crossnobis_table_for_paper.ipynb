{
 "cells": [
  {
   "cell_type": "code",
   "execution_count": 227,
   "id": "4356250d",
   "metadata": {},
   "outputs": [],
   "source": [
    "# relevant imports\n",
    "import numpy as np\n",
    "from scipy import io\n",
    "import matplotlib.pyplot as plt\n",
    "from matplotlib import rcParams\n",
    "import rsatoolbox\n",
    "import rsatoolbox.data as rsd # abbreviation to deal with dataset\n",
    "import rsatoolbox.rdm as rsr\n",
    "import os\n",
    "import seaborn as sns\n",
    "import sklearn as sk\n",
    "import math\n",
    "import pandas as pd\n",
    "import pickle\n",
    "import copy\n",
    "import nibabel as nib\n",
    "import re"
   ]
  },
  {
   "cell_type": "code",
   "execution_count": 228,
   "id": "c7236ef5",
   "metadata": {},
   "outputs": [],
   "source": [
    "# change the working directory to be the timecourse data\n",
    "#os.chdir('/mnt/Data1/linjdata1/vswmda/scan_data/rsa/full_GLM_mgs_0.05_50/')\n",
    "os.chdir('/gpfs/scratch/linjjiang/scan_data/rsa/full_GLM_mgs_topN/')\n",
    "#os.chdir('/gpfs/scratch/linjjiang/scan_data/rsa/full_GLM_atlas_roi/')"
   ]
  },
  {
   "cell_type": "code",
   "execution_count": 229,
   "id": "f4981aaa",
   "metadata": {},
   "outputs": [],
   "source": [
    "subjects = ['f09','f10','f11','f12','f15','f16','f17','f18','f19']\n",
    "epochs = ['delay','response','stimulus']\n",
    "exp1_subjects = ['f09','f10','f11','f12','f15','f16']\n",
    "exp2_subjects = ['f17','f18','f19']"
   ]
  },
  {
   "cell_type": "code",
   "execution_count": 230,
   "id": "58110736",
   "metadata": {},
   "outputs": [],
   "source": [
    "# get ROI name\n",
    "# # if full_GLM_atlas_roi\n",
    "# order = ['area4-ju50',        \n",
    "#           'v1-wang25','v2-wang25',\n",
    "#           'ips0-wang15','ips1-wang15','ips2-wang15','ips3-wang15',\n",
    "#           'ips4-wang15','ips5-wang15','spl1-wang15','ips-wang15',\n",
    "#          'fef-wang25','spcs-md','ipcs-md','pmfg-md','amfg-md','ifg-md'\n",
    "#           ] \n",
    "#          #'area8-hcp','area9-hcp','area9|46-hcp','area44|45|47l-hcp','fef-hcp',\n",
    "\n",
    "\n",
    "# # for atlas_roi:\n",
    "# order_full = ['area4-ju50',        \n",
    "#           'v1-wang25','v2-wang25',\n",
    "#           'ips0-wang15','ips1-wang15','ips2-wang15','ips3-wang15',\n",
    "#           'ips4-wang15','ips5-wang15','spl1-wang15','ips-wang15',\n",
    "#          'fef-wang25','spcs-md','ipcs-md','pmfg-md','amfg-md','ifg-md',\n",
    "#               'area8-hcp','area9-hcp','area9|46-hcp','area44|45|47l-hcp','fef-hcp'\n",
    "#           ] \n",
    "#          #'area8-hcp','area9-hcp','area9|46-hcp','area44|45|47l-hcp','fef-hcp',\n",
    "    \n",
    "    \n",
    "# if full_GLM_mgs_xxx\n",
    "order = ['area4', 'v1', 'v2', 'ips', 'fef', 'sfg', 'mfg', 'ifg',\n",
    "         'ips0', 'ips1', 'ips2', 'ips3', 'ips4', 'ips5', 'spl1']\n",
    "# for mgs roi:\n",
    "order_full = order"
   ]
  },
  {
   "cell_type": "code",
   "execution_count": 231,
   "id": "ba6b6f11",
   "metadata": {},
   "outputs": [],
   "source": [
    "# change the following as needed\n",
    "roi_labels = {'area4': 'M1', 'v1': 'V1', 'v2': 'V2', \n",
    "              \n",
    "              'ips0': 'IPS0', 'ips1': 'IPS1', 'ips2': 'IPS2', \n",
    "              'ips3': 'IPS3', 'ips4': 'IPS4', 'ips5': 'IPS5', 'spl1': 'SPL1',\n",
    "              \n",
    "          'ips': 'IPS', 'fef': 'FEF', 'sfg': 'SFG', \n",
    "          'mfg': 'MFG', 'ifg': 'IFG'}\n",
    "\n",
    "# roi_labels = {'area4-ju50': 'M1-Julich', 'v1-wang25': 'V1-Wang25', 'v2-wang25': 'V2-Wang25', \n",
    "              \n",
    "#               'ips0-wang15': 'IPS0-Wang15', 'ips1-wang15': 'IPS1-Wang15', 'ips2-wang15': 'IPS2-Wang15', \n",
    "#               'ips3-wang15': 'IPS3-Wang15', 'ips4-wang15': 'IPS4-Wang15', 'ips5-wang15': 'IPS5-Wang15', \n",
    "#               'spl1-wang15': 'SPL1-Wang15',\n",
    "              \n",
    "#           'ips-wang15': 'IPS-Wang15', 'fef-wang25': 'FEF-Wang25', 'spcs-md': 'sPCS-MD', \n",
    "#           'ipcs-md': 'iPCS-MD', 'amfg-md': 'aMFG-MD', 'pmfg-md': 'pMFG-MD','ifg-md': 'IFG-MD'}\n",
    "\n",
    "# roi_order = list(roi_labels.values())\n",
    "subj_labels = {index: subject for index, subject in enumerate(subjects, start=0)}\n",
    "epoch_labels = {0: 'stimulus', 1: 'delay', 2: 'response'}"
   ]
  },
  {
   "cell_type": "code",
   "execution_count": 232,
   "id": "65a44815",
   "metadata": {},
   "outputs": [],
   "source": [
    "with open('rdm_crossnobis_split_by_sess_all.pkg','rb') as f:\n",
    "    RDM = pickle.load(f)"
   ]
  },
  {
   "cell_type": "code",
   "execution_count": 233,
   "id": "13739030",
   "metadata": {},
   "outputs": [],
   "source": [
    "dis_val_all = pd.DataFrame()\n",
    "      \n",
    "for rdm in RDM:\n",
    "    subj = rdm.rdm_descriptors['subj']\n",
    "    roi = rdm.rdm_descriptors['roi']\n",
    "    session = rdm.rdm_descriptors['session']+1\n",
    "    epoch = rdm.rdm_descriptors['epoch']\n",
    "    conds = rdm.pattern_descriptors['conds']\n",
    "    #print(subj,roi,session,epoch)\n",
    "\n",
    "\n",
    "    a = rdm.get_matrices()[0]\n",
    "    val = np.nanmean(a[np.where(~np.eye(a.shape[0],dtype=bool))])\n",
    "\n",
    "#     # for L-R\n",
    "#     labels = [x[-1] for x in conds]\n",
    "#     rows_L = [i for i, label in enumerate(labels) if label == 'L']\n",
    "#     cols_R = [i for i, label in enumerate(labels) if label == 'R']\n",
    "#     val_LR = np.nanmean(a[np.ix_(rows_L, cols_R)])\n",
    "\n",
    "#     # for W-T\n",
    "#     labels = [x[-2] for x in conds]\n",
    "#     rows_W = [i for i, label in enumerate(labels) if label == 'W']\n",
    "#     cols_T = [i for i, label in enumerate(labels) if label == 'T']\n",
    "#     val_WT = np.nanmean(a[np.ix_(rows_W, cols_T)])\n",
    "\n",
    "#     # for ecc or CN\n",
    "#     labels = [x[0] for x in conds]\n",
    "#     rows_3_C = [i for i, label in enumerate(labels) if (label == '3') | (label == 'C')]\n",
    "#     cols_5_N = [i for i, label in enumerate(labels) if (label == '5') | (label == 'N')]\n",
    "#     val_ecc_or_CN = np.nanmean(a[np.ix_(rows_3_C, cols_5_N)])\n",
    "\n",
    "    indices = np.array([[0, 2], [1, 3], [4, 6], [5, 7]])\n",
    "    val_LR = np.nanmean([a[row, col] for row, col in indices])\n",
    "    \n",
    "    indices = np.array([[0, 1], [2, 3], [4, 5], [6, 7]])\n",
    "    val_WT = np.nanmean([a[row, col] for row, col in indices])\n",
    "    \n",
    "    indices = np.array([[0, 4], [1, 5], [2, 6], [3, 7]])\n",
    "    val_ecc = np.nanmean([a[row, col] for row, col in indices])\n",
    "    \n",
    "    indices = np.array([[0, 3], [1, 2], [4, 7], [5, 6]])\n",
    "    val_LRWT = np.nanmean([a[row, col] for row, col in indices])\n",
    "    \n",
    "    indices = np.array([[0, 5], [1, 4], [2, 7], [3, 6]])\n",
    "    val_eccWT = np.nanmean([a[row, col] for row, col in indices])\n",
    "    \n",
    "    indices = np.array([[0, 6], [1, 7], [2, 4], [3, 5]])\n",
    "    val_eccLR = np.nanmean([a[row, col] for row, col in indices])\n",
    "    \n",
    "    indices = np.array([[0, 7], [1, 6], [2, 5], [3, 4]])\n",
    "    val_all = np.nanmean([a[row, col] for row, col in indices]) \n",
    "    \n",
    "\n",
    "    if subj[0] in exp1_subjects:\n",
    "        df = pd.DataFrame({'rdm':[a],'data':[val],'data_LR':[val_LR],'data_WT':[val_WT],'data_ecc':[val_ecc],\n",
    "                           'data_LRWT':[val_LRWT],'data_eccWT':[val_eccWT],'data_eccLR':[val_eccLR],'data_eccLRWT':[val_all],\n",
    "                           'subj':subj,'roi':roi,'session':['Session '+str(session)],'epoch':[epoch]})\n",
    "    else:\n",
    "        df = pd.DataFrame({'rdm':[a],'data':[val],'data_LR':[val_LR],'data_WT':[val_WT],'data_CN':[val_ecc],\n",
    "                            'data_LRWT':[val_LRWT],'data_CNWT':[val_eccWT],'data_CNLR':[val_eccLR],'data_CNLRWT':[val_all],\n",
    "                           'subj':subj,'roi':roi,'session':['Session '+str(session)],'epoch':[epoch]})                \n",
    "    dis_val_all = pd.concat([dis_val_all,df],axis=0)\n"
   ]
  },
  {
   "cell_type": "code",
   "execution_count": 234,
   "id": "91dcffa3",
   "metadata": {},
   "outputs": [
    {
     "name": "stdout",
     "output_type": "stream",
     "text": [
      "                                                  rdm      data   data_LR  \\\n",
      "0   [[0.0, -0.7185203021843019, -0.051159177696733...  0.110024 -0.653435   \n",
      "0   [[0.0, 0.515404632403981, 0.4463503047624071, ...  0.104163 -0.810780   \n",
      "0   [[0.0, -1.7354505978536754, 1.0910847536610655... -0.359029 -1.036116   \n",
      "0   [[0.0, 0.7894162058016149, 0.42766543268280177...  0.652943  0.272647   \n",
      "0   [[0.0, 0.33821724657395613, 0.3018660694923435...  0.610283  0.215844   \n",
      "..                                                ...       ...       ...   \n",
      "0   [[0.0, 0.13163712188936721, -0.140315546387606...  0.103853  0.566828   \n",
      "0   [[0.0, 0.6202412702474316, -0.4446611510966108...  0.291066 -0.002447   \n",
      "0   [[0.0, 0.7585882834200403, 0.24350805510250426...  0.328333  0.931709   \n",
      "0   [[0.0, -0.4471013980631687, 0.7090406147347981...  0.528133  0.390604   \n",
      "0   [[0.0, 0.08690515480698868, -0.644264617480520... -0.039736  0.261492   \n",
      "\n",
      "     data_WT  data_ecc  data_LRWT  data_eccWT  data_eccLR  data_eccLRWT subj  \\\n",
      "0  -0.304380 -0.046126   0.303409    0.624861    0.544995      0.300844  f09   \n",
      "0  -0.136138 -0.679868   1.128390    0.997147   -0.086266      0.316658  f09   \n",
      "0  -0.776769 -0.919364   0.250079    0.272975   -0.384520      0.080513  f09   \n",
      "0   0.343862  0.531631   1.227637    0.979593    0.658983      0.556251  f09   \n",
      "0   0.251348  0.846043   0.408265    0.952691    0.798873      0.798916  f09   \n",
      "..       ...       ...        ...         ...         ...           ...  ...   \n",
      "0  -0.034864       NaN   0.106022         NaN         NaN           NaN  f19   \n",
      "0   0.860221       NaN   0.488765         NaN         NaN           NaN  f19   \n",
      "0   0.221854       NaN   0.205133         NaN         NaN           NaN  f19   \n",
      "0   0.810267       NaN   0.856087         NaN         NaN           NaN  f19   \n",
      "0  -0.228366       NaN  -0.226353         NaN         NaN           NaN  f19   \n",
      "\n",
      "      roi    session     epoch   data_CN  data_CNWT  data_CNLR  data_CNLRWT  \n",
      "0   area4  Session 1     delay       NaN        NaN        NaN          NaN  \n",
      "0      v1  Session 1     delay       NaN        NaN        NaN          NaN  \n",
      "0      v2  Session 1     delay       NaN        NaN        NaN          NaN  \n",
      "0     ips  Session 1     delay       NaN        NaN        NaN          NaN  \n",
      "0     fef  Session 1     delay       NaN        NaN        NaN          NaN  \n",
      "..    ...        ...       ...       ...        ...        ...          ...  \n",
      "0    ips4  Session 2  stimulus  0.127729   0.416255  -0.102360    -0.352638  \n",
      "0    ips5  Session 1  stimulus  0.395127  -0.124952   0.262461     0.158285  \n",
      "0    ips5  Session 2  stimulus  0.276196   0.778130   0.070178    -0.184871  \n",
      "0    spl1  Session 1  stimulus  0.769528   0.082584   0.787772     0.000093  \n",
      "0    spl1  Session 2  stimulus -0.100516   0.241330  -0.057657    -0.168085  \n",
      "\n",
      "[765 rows x 17 columns]\n"
     ]
    }
   ],
   "source": [
    "print(dis_val_all)"
   ]
  },
  {
   "cell_type": "code",
   "execution_count": 235,
   "id": "f707495b",
   "metadata": {},
   "outputs": [],
   "source": [
    "dis_val_all['roi'] = dis_val_all['roi'].map(roi_labels)\n",
    "dis_val_all.index = range(len(dis_val_all))"
   ]
  },
  {
   "cell_type": "code",
   "execution_count": 236,
   "id": "1fd9df07",
   "metadata": {},
   "outputs": [],
   "source": [
    "from scipy.stats import ttest_1samp\n",
    "from statsmodels.stats.multitest import multipletests\n",
    "import warnings\n",
    "\n",
    "def ttest_crossnobis(df,colname):\n",
    "    warnings.filterwarnings(\"ignore\")\n",
    "    # Assuming your dataframe is named dis_val_all\n",
    "\n",
    "    # Define the df, epochs, and ROIs you want to analyze\n",
    "    sessions = df['session'].unique()\n",
    "    epochs = ['stimulus','delay'] #dis_val_all['epoch'].unique()\n",
    "    rois = df['roi'].unique()\n",
    "\n",
    "    results = []\n",
    "\n",
    "    # Loop through each combination of session, epoch, and ROI\n",
    "    for session in sessions:\n",
    "        for epoch in epochs:\n",
    "            for roi in rois:\n",
    "                # Filter the dataframe\n",
    "                filtered_df = df[(df['session'] == session) &\n",
    "                                          (df['epoch'] == epoch) &\n",
    "                                          (df['roi'] == roi)]\n",
    "\n",
    "                # Extract the 'data' values\n",
    "                data_values = filtered_df[colname].dropna()\n",
    "\n",
    "                if len(data_values) > 0:\n",
    "                    # Perform a one-sample t-test\n",
    "                    t_stat, p_value = ttest_1samp(data_values, 0, alternative='greater')\n",
    "                    dof = len(data_values)-1\n",
    "                    \n",
    "                    # Store the result\n",
    "                    results.append({'session': session, 'epoch': epoch, 'roi': roi, 'mean': data_values.mean(), \n",
    "                                    't_stat': t_stat, 'p_value': p_value, 'dof': dof})\n",
    "\n",
    "    # Convert results to a dataframe\n",
    "    results_df = pd.DataFrame(results)\n",
    "    \n",
    "#     # Correct for multiple comparisons\n",
    "#     p_values = results_df['p_value'].values.flatten()\n",
    "#     corrected_p_values = multipletests(p_values, method='fdr_bh')[1]\n",
    "#     results_df['p_value'] = corrected_p_values.reshape(-1, 1)\n",
    "    \n",
    "    # Filter the results to only include rows with p_value less than 0.05\n",
    "    significant_results_df = results_df[results_df['p_value'] < 0.05]\n",
    "\n",
    "    # Define custom order for epochs\n",
    "    epoch_order = ['stimulus', 'delay']\n",
    "\n",
    "    # Convert 'epoch' column to a categorical type with the custom order\n",
    "    significant_results_df['epoch'] = pd.Categorical(significant_results_df['epoch'], categories=epoch_order, ordered=True)\n",
    "\n",
    "    # Sort by the custom epoch order\n",
    "    significant_results_df = significant_results_df.sort_values(by=['session', 'epoch'])\n",
    "\n",
    "    # Print the significant results\n",
    "    return results_df,significant_results_df\n"
   ]
  },
  {
   "cell_type": "code",
   "execution_count": 237,
   "id": "f813d6b8",
   "metadata": {},
   "outputs": [],
   "source": [
    "from scipy.stats import ttest_rel\n",
    "import pandas as pd\n",
    "from statsmodels.stats.multitest import multipletests\n",
    "\n",
    "def ttest_paired_sessions(dis_val_all, colname, session1, session2):\n",
    "    warnings.filterwarnings(\"ignore\")\n",
    "    # Define the epochs and ROIs you want to analyze\n",
    "    epochs = ['stimulus','delay'] #dis_val_all['epoch'].unique()\n",
    "    rois = dis_val_all['roi'].unique()\n",
    "\n",
    "    results = []\n",
    "\n",
    "    # Loop through each combination of epoch and ROI\n",
    "    for epoch in epochs:\n",
    "        for roi in rois:\n",
    "            # Filter the dataframe for each session\n",
    "            df1 = dis_val_all[(dis_val_all['session'] == session1) &\n",
    "                                        (dis_val_all['epoch'] == epoch) &\n",
    "                                        (dis_val_all['roi'] == roi)]#[colname].dropna()\n",
    "\n",
    "            df2 = dis_val_all[(dis_val_all['session'] == session2) &\n",
    "                                        (dis_val_all['epoch'] == epoch) &\n",
    "                                        (dis_val_all['roi'] == roi)]#[colname].dropna()\n",
    "\n",
    "            \n",
    "            # Identify common subject IDs\n",
    "            common_subject_ids = set(df1['subj']).intersection(set(df2['subj']))\n",
    "\n",
    "            # Filter dataframes to include only common subject IDs\n",
    "            df1_filtered = df1[df1['subj'].isin(common_subject_ids)]\n",
    "            df2_filtered = df2[df2['subj'].isin(common_subject_ids)]\n",
    "\n",
    "            # Merge the filtered dataframes on 'subject_id'\n",
    "            merged_df = pd.merge(df1_filtered, df2_filtered, on='subj', suffixes=('_df1', '_df2'))\n",
    "\n",
    "            # Perform the paired t-test\n",
    "            t_stat, p_value = ttest_rel(merged_df[colname+'_df1'].dropna(), merged_df[colname+'_df2'].dropna())\n",
    "            dof = len(merged_df[colname+'_df1'])-1\n",
    "            \n",
    "#             # Ensure that data lengths match for paired test\n",
    "#             min_length = min(len(data_session1), len(data_session2))\n",
    "#             if min_length > 0:\n",
    "#                 # Perform a paired t-test\n",
    "#                 t_stat, p_value, df, cint = ttest_rel(data_session1[:min_length], data_session2[:min_length])\n",
    "\n",
    "            # Store the result\n",
    "            results.append({'epoch': epoch, 'roi': roi, 'model': colname,\n",
    "                            'session1-mean': merged_df[colname+'_df1'].mean(skipna=True),\n",
    "                            'session2-mean': merged_df[colname+'_df2'].mean(skipna=True),\n",
    "                             'Mean difference': merged_df[colname+'_df1'].mean(skipna=True)-merged_df[colname+'_df2'].mean(skipna=True),\n",
    "                            't_stat': t_stat, 'p_value': p_value,\n",
    "                            'dof': dof})\n",
    "\n",
    "    # Convert results to a dataframe\n",
    "    results_df = pd.DataFrame(results)\n",
    "\n",
    "#     # Correct for multiple comparisons\n",
    "#     p_values = results_df['p_value'].values.flatten()\n",
    "#     corrected_p_values = multipletests(p_values, method='fdr_bh')[1]\n",
    "#     results_df['p_value'] = corrected_p_values.reshape(-1, 1)\n",
    "    \n",
    "    # Filter the results to only include rows with p_value less than 0.05\n",
    "    significant_results_df = results_df[results_df['p_value'] < 0.05]\n",
    "\n",
    "    # Define custom order for epochs\n",
    "    epoch_order = ['stimulus', 'delay']#, 'response']\n",
    "\n",
    "    # Convert 'epoch' column to a categorical type with the custom order\n",
    "    significant_results_df['epoch'] = pd.Categorical(significant_results_df['epoch'], categories=epoch_order, ordered=True)\n",
    "\n",
    "    # Sort by the custom epoch order\n",
    "    significant_results_df = significant_results_df.sort_values(by='epoch')\n",
    "\n",
    "    # Print the significant results\n",
    "    return results_df,significant_results_df\n"
   ]
  },
  {
   "cell_type": "code",
   "execution_count": 238,
   "id": "a277a8ba",
   "metadata": {},
   "outputs": [],
   "source": [
    "import warnings\n",
    "def multi_corr(result_df):\n",
    "    warnings.filterwarnings('ignore')\n",
    "    # Correct for multiple comparisons\n",
    "    p_values = result_df['p_value'].values.flatten()\n",
    "    corrected_p_values = multipletests(p_values, method='fdr_bh')[1]\n",
    "    result_df['p_value_corr'] = corrected_p_values.reshape(-1, 1)\n",
    "    \n",
    "    return result_df"
   ]
  },
  {
   "cell_type": "code",
   "execution_count": 239,
   "id": "441f9301",
   "metadata": {},
   "outputs": [],
   "source": [
    "df_temp = pd.DataFrame()\n",
    "df_temp_sess = pd.DataFrame()"
   ]
  },
  {
   "cell_type": "code",
   "execution_count": 240,
   "id": "dbe32dab",
   "metadata": {},
   "outputs": [],
   "source": [
    "selected_rois = ['FEF','SFG','MFG','IFG']\n",
    "selected_rois_key = ['fef','sfg','mfg','ifg']\n",
    "selected_epochs = ['stimulus','delay']\n",
    "selected_epochs_key = [0,1]\n",
    "df = dis_val_all[(dis_val_all['roi'].isin(selected_rois)) \n",
    "                  & (dis_val_all['epoch'].isin(selected_epochs))]\n",
    "\n",
    "selected_roi_labels = {key: roi_labels[key] for key in selected_rois_key if key in roi_labels}\n",
    "selected_epoch_labels = {key: epoch_labels[key] for key in selected_epochs_key if key in epoch_labels}"
   ]
  },
  {
   "cell_type": "code",
   "execution_count": 241,
   "id": "34a6e743",
   "metadata": {},
   "outputs": [
    {
     "name": "stdout",
     "output_type": "stream",
     "text": [
      "                                                   rdm      data   data_LR  \\\n",
      "4    [[0.0, 0.33821724657395613, 0.3018660694923435...  0.610283  0.215844   \n",
      "5    [[0.0, 1.2308863240202832, 0.47414633178543286...  0.235184 -0.509989   \n",
      "6    [[0.0, 0.7672158532558693, 0.16881289559011936...  0.517063 -0.028731   \n",
      "7    [[0.0, 0.007909335520818572, 0.412265847597252...  0.206964 -0.347950   \n",
      "23   [[0.0, -0.14623296794335092, -0.46155595667054...  0.032027 -0.055442   \n",
      "..                                                 ...       ...       ...   \n",
      "746  [[0.0, 0.3435374562788888, 0.04297877721743861...  0.184197  0.314613   \n",
      "747  [[0.0, 0.28095945313034076, -0.122688203558198...  0.159931 -0.032291   \n",
      "748  [[0.0, 0.3478346273050898, -0.7453488073505579...  0.170336  0.196071   \n",
      "749  [[0.0, 0.3894990386427912, 0.01440588431735271...  0.195534  0.173342   \n",
      "750  [[0.0, 0.07144095221787151, -0.438381060404818...  0.100733  0.232983   \n",
      "\n",
      "      data_WT  data_ecc  data_LRWT  data_eccWT  data_eccLR  data_eccLRWT subj  \\\n",
      "4    0.251348  0.846043   0.408265    0.952691    0.798873      0.798916  f09   \n",
      "5    0.441170  0.020482   0.668626    0.453691    0.239760      0.332551  f09   \n",
      "6    0.198197  0.400917   0.861717    0.981621    0.599894      0.605823  f09   \n",
      "7    0.405262 -0.102993   0.362083    0.446401    0.407727      0.278215  f09   \n",
      "23   0.017591 -0.072483   0.400669    0.112112   -0.248005      0.069743  f10   \n",
      "..        ...       ...        ...         ...         ...           ...  ...   \n",
      "746  0.164821       NaN   0.118086         NaN         NaN           NaN  f19   \n",
      "747  0.341517       NaN   0.344894         NaN         NaN           NaN  f19   \n",
      "748 -0.064977       NaN   0.288171         NaN         NaN           NaN  f19   \n",
      "749  0.510872       NaN   0.171085         NaN         NaN           NaN  f19   \n",
      "750 -0.290177       NaN   0.208391         NaN         NaN           NaN  f19   \n",
      "\n",
      "     roi    session     epoch   data_CN  data_CNWT  data_CNLR  data_CNLRWT  \n",
      "4    FEF  Session 1     delay       NaN        NaN        NaN          NaN  \n",
      "5    SFG  Session 1     delay       NaN        NaN        NaN          NaN  \n",
      "6    MFG  Session 1     delay       NaN        NaN        NaN          NaN  \n",
      "7    IFG  Session 1     delay       NaN        NaN        NaN          NaN  \n",
      "23   FEF  Session 1     delay       NaN        NaN        NaN          NaN  \n",
      "..   ...        ...       ...       ...        ...        ...          ...  \n",
      "746  SFG  Session 2  stimulus  0.308934   0.249396   0.108725     0.024806  \n",
      "747  MFG  Session 1  stimulus  0.313572  -0.006002   0.110616     0.047212  \n",
      "748  MFG  Session 2  stimulus  0.080672   0.381381   0.193106     0.117928  \n",
      "749  IFG  Session 1  stimulus  0.077729   0.121020   0.366458    -0.051765  \n",
      "750  IFG  Session 2  stimulus  0.048516   0.371776   0.200354    -0.066715  \n",
      "\n",
      "[136 rows x 17 columns]\n"
     ]
    }
   ],
   "source": [
    "print(df)"
   ]
  },
  {
   "cell_type": "code",
   "execution_count": 242,
   "id": "62090d21",
   "metadata": {},
   "outputs": [
    {
     "name": "stdout",
     "output_type": "stream",
     "text": [
      "Empty DataFrame\n",
      "Columns: [session, epoch, roi, mean, t_stat, p_value, dof]\n",
      "Index: []\n",
      "Empty DataFrame\n",
      "Columns: [session, epoch, roi, mean, t_stat, p_value, dof, p_value_corr]\n",
      "Index: []\n"
     ]
    }
   ],
   "source": [
    "result_df, sig_df = ttest_crossnobis(df,'data_LR')\n",
    "print(sig_df)\n",
    "\n",
    "result_df = multi_corr(result_df)\n",
    "sig_df = result_df[result_df['p_value'] < 0.05]\n",
    "print(sig_df)\n",
    "\n",
    "df_temp = pd.concat((df_temp,result_df),axis=0)"
   ]
  },
  {
   "cell_type": "code",
   "execution_count": 243,
   "id": "39c7dbaf",
   "metadata": {},
   "outputs": [
    {
     "name": "stdout",
     "output_type": "stream",
     "text": [
      "Empty DataFrame\n",
      "Columns: [epoch, roi, model, session1-mean, session2-mean, Mean difference, t_stat, p_value, dof]\n",
      "Index: []\n"
     ]
    }
   ],
   "source": [
    "result_df1,sig_df1 = ttest_paired_sessions(df, 'data_LR', 'Session 1', 'Session 2')\n",
    "print(sig_df1)\n",
    "\n",
    "result_df1 = multi_corr(result_df1)\n",
    "df_temp_sess = pd.concat((df_temp_sess,result_df1),axis=0)\n",
    "#print(result_df1)"
   ]
  },
  {
   "cell_type": "code",
   "execution_count": 244,
   "id": "6c261262",
   "metadata": {},
   "outputs": [
    {
     "name": "stdout",
     "output_type": "stream",
     "text": [
      "     session     epoch  roi      mean    t_stat   p_value  dof\n",
      "3  Session 1  stimulus  IFG  0.215704  1.871583  0.049084    8\n",
      "     session     epoch  roi      mean    t_stat   p_value  dof  p_value_corr\n",
      "3  Session 1  stimulus  IFG  0.215704  1.871583  0.049084    8      0.441625\n"
     ]
    }
   ],
   "source": [
    "result_df, sig_df = ttest_crossnobis(df,'data_WT')\n",
    "print(sig_df)\n",
    "\n",
    "result_df = multi_corr(result_df)\n",
    "sig_df = result_df[result_df['p_value'] < 0.05]\n",
    "print(sig_df)\n",
    "df_temp = pd.concat((df_temp,result_df),axis=0)"
   ]
  },
  {
   "cell_type": "code",
   "execution_count": 245,
   "id": "0d82455a",
   "metadata": {},
   "outputs": [
    {
     "name": "stdout",
     "output_type": "stream",
     "text": [
      "      epoch  roi    model  session1-mean  session2-mean  Mean difference  \\\n",
      "3  stimulus  IFG  data_WT        0.28137      -0.202803         0.484173   \n",
      "\n",
      "     t_stat   p_value  dof  \n",
      "3  2.682135  0.031442    7  \n"
     ]
    }
   ],
   "source": [
    "result_df1,sig_df1 = ttest_paired_sessions(df, 'data_WT', 'Session 1', 'Session 2')\n",
    "print(sig_df1)\n",
    "\n",
    "result_df1 = multi_corr(result_df1)\n",
    "df_temp_sess = pd.concat((df_temp_sess,result_df1),axis=0)"
   ]
  },
  {
   "cell_type": "code",
   "execution_count": 246,
   "id": "e73670e5",
   "metadata": {},
   "outputs": [
    {
     "name": "stdout",
     "output_type": "stream",
     "text": [
      "      session  epoch  roi      mean    t_stat   p_value  dof\n",
      "15  Session 2  delay  IFG  0.437243  2.702899  0.026966    4\n",
      "      session  epoch  roi      mean    t_stat   p_value  dof  p_value_corr\n",
      "15  Session 2  delay  IFG  0.437243  2.702899  0.026966    4      0.431457\n"
     ]
    }
   ],
   "source": [
    "result_df, sig_df = ttest_crossnobis(df,'data_ecc')\n",
    "print(sig_df)\n",
    "\n",
    "result_df = multi_corr(result_df)\n",
    "sig_df = result_df[result_df['p_value'] < 0.05]\n",
    "print(sig_df)\n",
    "df_temp = pd.concat((df_temp,result_df),axis=0)"
   ]
  },
  {
   "cell_type": "code",
   "execution_count": 247,
   "id": "0c916273",
   "metadata": {},
   "outputs": [
    {
     "name": "stdout",
     "output_type": "stream",
     "text": [
      "   epoch  roi     model  session1-mean  session2-mean  Mean difference  \\\n",
      "7  delay  IFG  data_ecc       0.015007       0.437243        -0.422236   \n",
      "\n",
      "     t_stat   p_value  dof  \n",
      "7 -3.545318  0.023899    7  \n"
     ]
    }
   ],
   "source": [
    "result_df1,sig_df1 = ttest_paired_sessions(df, 'data_ecc', 'Session 1', 'Session 2')\n",
    "print(sig_df1)\n",
    "\n",
    "result_df1 = multi_corr(result_df1)\n",
    "df_temp_sess = pd.concat((df_temp_sess,result_df1),axis=0)"
   ]
  },
  {
   "cell_type": "code",
   "execution_count": 248,
   "id": "a6d1d6e5",
   "metadata": {},
   "outputs": [
    {
     "name": "stdout",
     "output_type": "stream",
     "text": [
      "     session     epoch  roi      mean     t_stat   p_value  dof\n",
      "2  Session 1  stimulus  MFG  0.284410  14.311811  0.002423    2\n",
      "8  Session 2  stimulus  FEF  0.107569   3.986022  0.028779    2\n",
      "9  Session 2  stimulus  SFG  0.204812   3.736029  0.032381    2\n",
      "     session     epoch  roi      mean     t_stat   p_value  dof  p_value_corr\n",
      "2  Session 1  stimulus  MFG  0.284410  14.311811  0.002423    2      0.038773\n",
      "8  Session 2  stimulus  FEF  0.107569   3.986022  0.028779    2      0.172698\n",
      "9  Session 2  stimulus  SFG  0.204812   3.736029  0.032381    2      0.172698\n"
     ]
    }
   ],
   "source": [
    "result_df, sig_df = ttest_crossnobis(df,'data_CN')\n",
    "print(sig_df)\n",
    "\n",
    "result_df = multi_corr(result_df)\n",
    "sig_df = result_df[result_df['p_value'] < 0.05]\n",
    "print(sig_df)\n",
    "df_temp = pd.concat((df_temp,result_df),axis=0)"
   ]
  },
  {
   "cell_type": "code",
   "execution_count": 249,
   "id": "34814eb6",
   "metadata": {},
   "outputs": [
    {
     "name": "stdout",
     "output_type": "stream",
     "text": [
      "      epoch  roi    model  session1-mean  session2-mean  Mean difference  \\\n",
      "0  stimulus  FEF  data_CN      -0.065068       0.107569        -0.172637   \n",
      "2  stimulus  MFG  data_CN       0.284410      -0.039902         0.324312   \n",
      "7     delay  IFG  data_CN       0.339114      -0.012521         0.351635   \n",
      "\n",
      "      t_stat   p_value  dof  \n",
      "0 -32.310156  0.000957    7  \n",
      "2   6.031203  0.026407    7  \n",
      "7   4.472212  0.046536    7  \n"
     ]
    }
   ],
   "source": [
    "result_df1,sig_df1 = ttest_paired_sessions(df, 'data_CN', 'Session 1', 'Session 2')\n",
    "print(sig_df1)\n",
    "\n",
    "result_df1 = multi_corr(result_df1)\n",
    "df_temp_sess = pd.concat((df_temp_sess,result_df1),axis=0)"
   ]
  },
  {
   "cell_type": "code",
   "execution_count": 250,
   "id": "7bad40a7",
   "metadata": {},
   "outputs": [],
   "source": [
    "selected_rois = ['IPS0','IPS1','IPS2','SPL1'] #'IPS3','IPS4','IPS5',\n",
    "selected_rois_key = ['ips0','ips1','ips2','spl1'] #'ips3','ips4','ips5',dpi=1200\n",
    "selected_epochs = ['stimulus','delay']\n",
    "selected_epochs_key = [0,1]\n",
    "df = dis_val_all[(dis_val_all['roi'].isin(selected_rois)) \n",
    "                  & (dis_val_all['epoch'].isin(selected_epochs))]\n",
    "\n",
    "selected_roi_labels = {key: roi_labels[key] for key in selected_rois_key if key in roi_labels}\n",
    "selected_epoch_labels = {key: epoch_labels[key] for key in selected_epochs_key if key in epoch_labels}"
   ]
  },
  {
   "cell_type": "code",
   "execution_count": 251,
   "id": "3d72685a",
   "metadata": {},
   "outputs": [
    {
     "name": "stdout",
     "output_type": "stream",
     "text": [
      "                                                   rdm      data   data_LR  \\\n",
      "8    [[0.0, 1.933391942440123, 0.7752352199817576, ...  0.592165  0.149298   \n",
      "9    [[0.0, 1.2393029025305085, -0.5708026373825937...  0.196745 -0.137203   \n",
      "10   [[0.0, 0.8422746085769184, 0.6507649215205681,...  1.151673  0.769467   \n",
      "14   [[0.0, -0.531496744710929, -0.4205932490351345...  0.109421 -0.143819   \n",
      "31   [[0.0, 0.44873949681896014, -0.647079307232857...  0.594924  0.115622   \n",
      "..                                                 ...       ...       ...   \n",
      "754  [[0.0, -0.20136493939048408, -0.67225812789134...  0.273156  0.682958   \n",
      "755  [[0.0, 0.20303410279739734, -0.635741411255692...  0.523121  0.575477   \n",
      "756  [[0.0, -0.1953592955010104, -0.797026035922329... -0.139339  0.203384   \n",
      "763  [[0.0, -0.4471013980631687, 0.7090406147347981...  0.528133  0.390604   \n",
      "764  [[0.0, 0.08690515480698868, -0.644264617480520... -0.039736  0.261492   \n",
      "\n",
      "      data_WT  data_ecc  data_LRWT  data_eccWT  data_eccLR  data_eccLRWT subj  \\\n",
      "8    0.886358  0.010015   1.644674    0.935248    0.111970      0.407588  f09   \n",
      "9    0.513420 -0.422801   0.814019    0.457396   -0.136601      0.288983  f09   \n",
      "10   0.462402  1.525842   1.488570    1.614946    0.959711      1.240770  f09   \n",
      "14  -0.132241  0.228498   0.536311    0.209398    0.124931     -0.057131  f09   \n",
      "31   0.960840  0.261149   1.115069    0.739210    0.037468      0.935113  f10   \n",
      "..        ...       ...        ...         ...         ...           ...  ...   \n",
      "754 -0.134546       NaN   0.450058         NaN         NaN           NaN  f19   \n",
      "755  1.171026       NaN   0.424179         NaN         NaN           NaN  f19   \n",
      "756 -0.387917       NaN  -0.161985         NaN         NaN           NaN  f19   \n",
      "763  0.810267       NaN   0.856087         NaN         NaN           NaN  f19   \n",
      "764 -0.228366       NaN  -0.226353         NaN         NaN           NaN  f19   \n",
      "\n",
      "      roi    session     epoch   data_CN  data_CNWT  data_CNLR  data_CNLRWT  \n",
      "8    IPS0  Session 1     delay       NaN        NaN        NaN          NaN  \n",
      "9    IPS1  Session 1     delay       NaN        NaN        NaN          NaN  \n",
      "10   IPS2  Session 1     delay       NaN        NaN        NaN          NaN  \n",
      "14   SPL1  Session 1     delay       NaN        NaN        NaN          NaN  \n",
      "31   IPS0  Session 1     delay       NaN        NaN        NaN          NaN  \n",
      "..    ...        ...       ...       ...        ...        ...          ...  \n",
      "754  IPS1  Session 2  stimulus  0.247395   0.816208   0.359136    -0.509117  \n",
      "755  IPS2  Session 1  stimulus  0.401040  -0.259230   1.044177     0.305180  \n",
      "756  IPS2  Session 2  stimulus -0.450858   0.265341   0.266297    -0.709633  \n",
      "763  SPL1  Session 1  stimulus  0.769528   0.082584   0.787772     0.000093  \n",
      "764  SPL1  Session 2  stimulus -0.100516   0.241330  -0.057657    -0.168085  \n",
      "\n",
      "[136 rows x 17 columns]\n"
     ]
    }
   ],
   "source": [
    "print(df)"
   ]
  },
  {
   "cell_type": "code",
   "execution_count": 252,
   "id": "466b5b17",
   "metadata": {},
   "outputs": [
    {
     "name": "stdout",
     "output_type": "stream",
     "text": [
      "     session     epoch   roi      mean    t_stat   p_value  dof\n",
      "8  Session 2  stimulus  IPS0  0.233931  2.269108  0.028777    7\n",
      "     session     epoch   roi      mean    t_stat   p_value  dof  p_value_corr\n",
      "8  Session 2  stimulus  IPS0  0.233931  2.269108  0.028777    7      0.304604\n"
     ]
    }
   ],
   "source": [
    "result_df, sig_df = ttest_crossnobis(df,'data_LR')\n",
    "print(sig_df)\n",
    "\n",
    "result_df = multi_corr(result_df)\n",
    "sig_df = result_df[result_df['p_value'] < 0.05]\n",
    "print(sig_df)\n",
    "\n",
    "df_temp = pd.concat((df_temp,result_df),axis=0)"
   ]
  },
  {
   "cell_type": "code",
   "execution_count": 253,
   "id": "61305586",
   "metadata": {},
   "outputs": [
    {
     "name": "stdout",
     "output_type": "stream",
     "text": [
      "Empty DataFrame\n",
      "Columns: [epoch, roi, model, session1-mean, session2-mean, Mean difference, t_stat, p_value, dof]\n",
      "Index: []\n"
     ]
    }
   ],
   "source": [
    "result_df1,sig_df1 = ttest_paired_sessions(df, 'data_LR', 'Session 1', 'Session 2')\n",
    "print(sig_df1)\n",
    "\n",
    "result_df1 = multi_corr(result_df1)\n",
    "df_temp_sess = pd.concat((df_temp_sess,result_df1),axis=0)"
   ]
  },
  {
   "cell_type": "code",
   "execution_count": 254,
   "id": "2094ae9e",
   "metadata": {},
   "outputs": [
    {
     "name": "stdout",
     "output_type": "stream",
     "text": [
      "      session     epoch   roi      mean    t_stat   p_value  dof\n",
      "2   Session 1  stimulus  IPS2  0.345728  2.265131  0.026647    8\n",
      "4   Session 1     delay  IPS0  0.485110  3.427808  0.004492    8\n",
      "7   Session 1     delay  SPL1  0.241622  1.865223  0.049566    8\n",
      "15  Session 2     delay  SPL1  0.405831  2.194512  0.032125    7\n",
      "      session     epoch   roi      mean    t_stat   p_value  dof  p_value_corr\n",
      "2   Session 1  stimulus  IPS2  0.345728  2.265131  0.026647    8      0.171332\n",
      "4   Session 1     delay  IPS0  0.485110  3.427808  0.004492    8      0.071871\n",
      "7   Session 1     delay  SPL1  0.241622  1.865223  0.049566    8      0.198264\n",
      "15  Session 2     delay  SPL1  0.405831  2.194512  0.032125    7      0.171332\n"
     ]
    }
   ],
   "source": [
    "result_df, sig_df = ttest_crossnobis(df,'data_WT')\n",
    "print(sig_df)\n",
    "\n",
    "result_df = multi_corr(result_df)\n",
    "sig_df = result_df[result_df['p_value'] < 0.05]\n",
    "print(sig_df)\n",
    "\n",
    "df_temp = pd.concat((df_temp,result_df),axis=0)"
   ]
  },
  {
   "cell_type": "code",
   "execution_count": 255,
   "id": "61336488",
   "metadata": {},
   "outputs": [
    {
     "name": "stdout",
     "output_type": "stream",
     "text": [
      "Empty DataFrame\n",
      "Columns: [epoch, roi, model, session1-mean, session2-mean, Mean difference, t_stat, p_value, dof]\n",
      "Index: []\n"
     ]
    }
   ],
   "source": [
    "result_df1,sig_df1 = ttest_paired_sessions(df, 'data_WT', 'Session 1', 'Session 2')\n",
    "print(sig_df1)\n",
    "\n",
    "result_df1 = multi_corr(result_df1)\n",
    "df_temp_sess = pd.concat((df_temp_sess,result_df1),axis=0)"
   ]
  },
  {
   "cell_type": "code",
   "execution_count": 256,
   "id": "38bdce4a",
   "metadata": {},
   "outputs": [
    {
     "name": "stdout",
     "output_type": "stream",
     "text": [
      "      session     epoch   roi      mean    t_stat   p_value  dof\n",
      "0   Session 1  stimulus  IPS0  0.496028  3.947289  0.005440    5\n",
      "12  Session 2     delay  IPS0  0.431127  4.528119  0.005296    4\n",
      "13  Session 2     delay  IPS1  0.363780  2.547063  0.031751    4\n",
      "15  Session 2     delay  SPL1  0.530416  3.072228  0.018606    4\n",
      "      session     epoch   roi      mean    t_stat   p_value  dof  p_value_corr\n",
      "0   Session 1  stimulus  IPS0  0.496028  3.947289  0.005440    5      0.043521\n",
      "12  Session 2     delay  IPS0  0.431127  4.528119  0.005296    4      0.043521\n",
      "13  Session 2     delay  IPS1  0.363780  2.547063  0.031751    4      0.127006\n",
      "15  Session 2     delay  SPL1  0.530416  3.072228  0.018606    4      0.099232\n"
     ]
    }
   ],
   "source": [
    "result_df, sig_df = ttest_crossnobis(df,'data_ecc')\n",
    "print(sig_df)\n",
    "\n",
    "result_df = multi_corr(result_df)\n",
    "sig_df = result_df[result_df['p_value'] < 0.05]\n",
    "print(sig_df)\n",
    "\n",
    "df_temp = pd.concat((df_temp,result_df),axis=0)"
   ]
  },
  {
   "cell_type": "code",
   "execution_count": 257,
   "id": "bf377689",
   "metadata": {},
   "outputs": [
    {
     "name": "stdout",
     "output_type": "stream",
     "text": [
      "Empty DataFrame\n",
      "Columns: [epoch, roi, model, session1-mean, session2-mean, Mean difference, t_stat, p_value, dof]\n",
      "Index: []\n"
     ]
    }
   ],
   "source": [
    "result_df1,sig_df1 = ttest_paired_sessions(df, 'data_ecc', 'Session 1', 'Session 2')\n",
    "print(sig_df1)\n",
    "\n",
    "result_df1 = multi_corr(result_df1)\n",
    "df_temp_sess = pd.concat((df_temp_sess,result_df1),axis=0)"
   ]
  },
  {
   "cell_type": "code",
   "execution_count": 258,
   "id": "79937f90",
   "metadata": {},
   "outputs": [
    {
     "name": "stdout",
     "output_type": "stream",
     "text": [
      "Empty DataFrame\n",
      "Columns: [session, epoch, roi, mean, t_stat, p_value, dof]\n",
      "Index: []\n",
      "Empty DataFrame\n",
      "Columns: [session, epoch, roi, mean, t_stat, p_value, dof, p_value_corr]\n",
      "Index: []\n"
     ]
    }
   ],
   "source": [
    "result_df, sig_df = ttest_crossnobis(df,'data_CN')\n",
    "print(sig_df)\n",
    "\n",
    "result_df = multi_corr(result_df)\n",
    "sig_df = result_df[result_df['p_value'] < 0.05]\n",
    "print(sig_df)\n",
    "\n",
    "df_temp = pd.concat((df_temp,result_df),axis=0)"
   ]
  },
  {
   "cell_type": "code",
   "execution_count": 259,
   "id": "f207cd90",
   "metadata": {},
   "outputs": [
    {
     "name": "stdout",
     "output_type": "stream",
     "text": [
      "Empty DataFrame\n",
      "Columns: [epoch, roi, model, session1-mean, session2-mean, Mean difference, t_stat, p_value, dof]\n",
      "Index: []\n"
     ]
    }
   ],
   "source": [
    "result_df1,sig_df1 = ttest_paired_sessions(df, 'data_CN', 'Session 1', 'Session 2')\n",
    "print(sig_df1)\n",
    "\n",
    "result_df1 = multi_corr(result_df1)\n",
    "df_temp_sess = pd.concat((df_temp_sess,result_df1),axis=0)"
   ]
  },
  {
   "cell_type": "code",
   "execution_count": 260,
   "id": "803bbeb7",
   "metadata": {},
   "outputs": [],
   "source": [
    "selected_rois = ['V1','V2']\n",
    "selected_rois_key = ['v1','v2']\n",
    "selected_epochs = ['stimulus','delay']\n",
    "selected_epochs_key = [0,1]\n",
    "df = dis_val_all[(dis_val_all['roi'].isin(selected_rois)) \n",
    "                  & (dis_val_all['epoch'].isin(selected_epochs))]\n",
    "\n",
    "selected_roi_labels = {key: roi_labels[key] for key in selected_rois_key if key in roi_labels}\n",
    "selected_epoch_labels = {key: epoch_labels[key] for key in selected_epochs_key if key in epoch_labels}"
   ]
  },
  {
   "cell_type": "code",
   "execution_count": 261,
   "id": "ccfeba0d",
   "metadata": {},
   "outputs": [
    {
     "name": "stdout",
     "output_type": "stream",
     "text": [
      "                                                   rdm      data   data_LR  \\\n",
      "1    [[0.0, 0.515404632403981, 0.4463503047624071, ...  0.104163 -0.810780   \n",
      "2    [[0.0, -1.7354505978536754, 1.0910847536610655... -0.359029 -1.036116   \n",
      "17   [[0.0, 0.08040501907406696, -0.736327484314584...  0.573809 -0.168935   \n",
      "18   [[0.0, -1.126141106317723, -2.490493852902801,...  0.610885 -0.009385   \n",
      "19   [[0.0, 1.056061172409632, -0.8275477466960791,...  0.436814 -0.519577   \n",
      "..                                                 ...       ...       ...   \n",
      "710  [[0.0, 0.2123288287426872, -0.6419979192252229...  0.297121 -0.487780   \n",
      "737  [[0.0, 0.4290929092280638, 0.23815449794154428...  0.264372  0.099424   \n",
      "738  [[0.0, 0.5738339770747108, -0.5562865821345161...  0.480638  0.398122   \n",
      "739  [[0.0, 0.6377790916932221, 0.1301041536118579,...  0.366800  0.158779   \n",
      "740  [[0.0, 0.21682605898915155, -0.096091504020221...  0.411087  0.365988   \n",
      "\n",
      "      data_WT  data_ecc  data_LRWT  data_eccWT  data_eccLR  data_eccLRWT subj  \\\n",
      "1   -0.136138 -0.679868   1.128390    0.997147   -0.086266      0.316658  f09   \n",
      "2   -0.776769 -0.919364   0.250079    0.272975   -0.384520      0.080513  f09   \n",
      "17   1.226098 -0.336393   1.357270    1.037376   -0.269791      1.171035  f10   \n",
      "18   0.495990  0.673236   1.106468    1.380115   -0.060301      0.690073  f10   \n",
      "19   1.049183 -0.567102   0.985486    1.018454   -0.053582      1.144838  f10   \n",
      "..        ...       ...        ...         ...         ...           ...  ...   \n",
      "710  0.927785       NaN   1.046697         NaN         NaN           NaN  f18   \n",
      "737  0.554388       NaN   0.518971         NaN         NaN           NaN  f19   \n",
      "738  0.566070       NaN   0.654698         NaN         NaN           NaN  f19   \n",
      "739  0.707206       NaN   0.644143         NaN         NaN           NaN  f19   \n",
      "740  0.505859       NaN   0.665447         NaN         NaN           NaN  f19   \n",
      "\n",
      "    roi    session     epoch   data_CN  data_CNWT  data_CNLR  data_CNLRWT  \n",
      "1    V1  Session 1     delay       NaN        NaN        NaN          NaN  \n",
      "2    V2  Session 1     delay       NaN        NaN        NaN          NaN  \n",
      "17   V1  Session 1     delay       NaN        NaN        NaN          NaN  \n",
      "18   V1  Session 2     delay       NaN        NaN        NaN          NaN  \n",
      "19   V2  Session 1     delay       NaN        NaN        NaN          NaN  \n",
      "..   ..        ...       ...       ...        ...        ...          ...  \n",
      "710  V2  Session 2  stimulus -0.842384   0.701033  -0.215303     0.949800  \n",
      "737  V1  Session 1  stimulus  0.004991   0.289713   0.145495     0.237619  \n",
      "738  V1  Session 2  stimulus  0.275684   0.955817   0.280404     0.233670  \n",
      "739  V2  Session 1  stimulus  0.021996   0.333383   0.347155     0.354939  \n",
      "740  V2  Session 2  stimulus  0.068536   0.721120   0.205951     0.344708  \n",
      "\n",
      "[68 rows x 17 columns]\n"
     ]
    }
   ],
   "source": [
    "print(df)"
   ]
  },
  {
   "cell_type": "code",
   "execution_count": 262,
   "id": "f6bffbac",
   "metadata": {},
   "outputs": [
    {
     "name": "stdout",
     "output_type": "stream",
     "text": [
      "     session     epoch roi      mean    t_stat   p_value  dof\n",
      "1  Session 1  stimulus  V2  0.221704  3.008561  0.008425    8\n",
      "4  Session 2  stimulus  V1  0.427819  2.284693  0.028123    7\n",
      "5  Session 2  stimulus  V2  0.480862  2.200842  0.031826    7\n",
      "     session     epoch roi      mean    t_stat   p_value  dof  p_value_corr\n",
      "1  Session 1  stimulus  V2  0.221704  3.008561  0.008425    8      0.067402\n",
      "4  Session 2  stimulus  V1  0.427819  2.284693  0.028123    7      0.084869\n",
      "5  Session 2  stimulus  V2  0.480862  2.200842  0.031826    7      0.084869\n"
     ]
    }
   ],
   "source": [
    "result_df, sig_df = ttest_crossnobis(df,'data_LR')\n",
    "print(sig_df)\n",
    "\n",
    "result_df = multi_corr(result_df)\n",
    "sig_df = result_df[result_df['p_value'] < 0.05]\n",
    "print(sig_df)\n",
    "\n",
    "df_temp = pd.concat((df_temp,result_df),axis=0)"
   ]
  },
  {
   "cell_type": "code",
   "execution_count": 263,
   "id": "e02442ee",
   "metadata": {},
   "outputs": [
    {
     "name": "stdout",
     "output_type": "stream",
     "text": [
      "Empty DataFrame\n",
      "Columns: [epoch, roi, model, session1-mean, session2-mean, Mean difference, t_stat, p_value, dof]\n",
      "Index: []\n"
     ]
    }
   ],
   "source": [
    "result_df1,sig_df1 = ttest_paired_sessions(df, 'data_LR', 'Session 1', 'Session 2')\n",
    "print(sig_df1)\n",
    "\n",
    "result_df1 = multi_corr(result_df1)\n",
    "df_temp_sess = pd.concat((df_temp_sess,result_df1),axis=0)"
   ]
  },
  {
   "cell_type": "code",
   "execution_count": 264,
   "id": "7271f973",
   "metadata": {},
   "outputs": [
    {
     "name": "stdout",
     "output_type": "stream",
     "text": [
      "     session     epoch roi      mean    t_stat   p_value  dof\n",
      "0  Session 1  stimulus  V1  0.882789  3.616216  0.003410    8\n",
      "1  Session 1  stimulus  V2  1.094411  3.910349  0.002239    8\n",
      "4  Session 2  stimulus  V1  1.015191  3.630230  0.004198    7\n",
      "5  Session 2  stimulus  V2  1.539330  4.188193  0.002048    7\n",
      "     session     epoch roi      mean    t_stat   p_value  dof  p_value_corr\n",
      "0  Session 1  stimulus  V1  0.882789  3.616216  0.003410    8      0.008395\n",
      "1  Session 1  stimulus  V2  1.094411  3.910349  0.002239    8      0.008395\n",
      "4  Session 2  stimulus  V1  1.015191  3.630230  0.004198    7      0.008395\n",
      "5  Session 2  stimulus  V2  1.539330  4.188193  0.002048    7      0.008395\n"
     ]
    }
   ],
   "source": [
    "result_df, sig_df = ttest_crossnobis(df,'data_WT')\n",
    "print(sig_df)\n",
    "\n",
    "result_df = multi_corr(result_df)\n",
    "sig_df = result_df[result_df['p_value'] < 0.05]\n",
    "print(sig_df)\n",
    "\n",
    "df_temp = pd.concat((df_temp,result_df),axis=0)"
   ]
  },
  {
   "cell_type": "code",
   "execution_count": 265,
   "id": "f53312ba",
   "metadata": {},
   "outputs": [
    {
     "name": "stdout",
     "output_type": "stream",
     "text": [
      "Empty DataFrame\n",
      "Columns: [epoch, roi, model, session1-mean, session2-mean, Mean difference, t_stat, p_value, dof]\n",
      "Index: []\n"
     ]
    }
   ],
   "source": [
    "result_df1,sig_df1 = ttest_paired_sessions(df, 'data_WT', 'Session 1', 'Session 2')\n",
    "print(sig_df1)\n",
    "\n",
    "result_df1 = multi_corr(result_df1)\n",
    "df_temp_sess = pd.concat((df_temp_sess,result_df1),axis=0)"
   ]
  },
  {
   "cell_type": "code",
   "execution_count": 266,
   "id": "5cd3230c",
   "metadata": {},
   "outputs": [
    {
     "name": "stdout",
     "output_type": "stream",
     "text": [
      "     session     epoch roi      mean    t_stat   p_value  dof\n",
      "0  Session 1  stimulus  V1  1.044870  4.563646  0.003018    5\n",
      "1  Session 1  stimulus  V2  1.644306  8.747914  0.000162    5\n",
      "4  Session 2  stimulus  V1  1.180028  6.776236  0.001238    4\n",
      "5  Session 2  stimulus  V2  2.360088  5.575677  0.002536    4\n",
      "     session     epoch roi      mean    t_stat   p_value  dof  p_value_corr\n",
      "0  Session 1  stimulus  V1  1.044870  4.563646  0.003018    5      0.006037\n",
      "1  Session 1  stimulus  V2  1.644306  8.747914  0.000162    5      0.001294\n",
      "4  Session 2  stimulus  V1  1.180028  6.776236  0.001238    4      0.004951\n",
      "5  Session 2  stimulus  V2  2.360088  5.575677  0.002536    4      0.006037\n"
     ]
    }
   ],
   "source": [
    "result_df, sig_df = ttest_crossnobis(df,'data_ecc')\n",
    "print(sig_df)\n",
    "\n",
    "result_df = multi_corr(result_df)\n",
    "sig_df = result_df[result_df['p_value'] < 0.05]\n",
    "print(sig_df)\n",
    "\n",
    "df_temp = pd.concat((df_temp,result_df),axis=0)"
   ]
  },
  {
   "cell_type": "code",
   "execution_count": 267,
   "id": "8a9e4329",
   "metadata": {},
   "outputs": [
    {
     "name": "stdout",
     "output_type": "stream",
     "text": [
      "      epoch roi     model  session1-mean  session2-mean  Mean difference  \\\n",
      "1  stimulus  V2  data_ecc       1.537011       2.360088        -0.823077   \n",
      "\n",
      "     t_stat   p_value  dof  \n",
      "1 -3.153485  0.034399    7  \n"
     ]
    }
   ],
   "source": [
    "result_df1,sig_df1 = ttest_paired_sessions(df, 'data_ecc', 'Session 1', 'Session 2')\n",
    "print(sig_df1)\n",
    "\n",
    "result_df1 = multi_corr(result_df1)\n",
    "df_temp_sess = pd.concat((df_temp_sess,result_df1),axis=0)"
   ]
  },
  {
   "cell_type": "code",
   "execution_count": 268,
   "id": "5c1ad9b4",
   "metadata": {},
   "outputs": [
    {
     "name": "stdout",
     "output_type": "stream",
     "text": [
      "Empty DataFrame\n",
      "Columns: [session, epoch, roi, mean, t_stat, p_value, dof]\n",
      "Index: []\n",
      "Empty DataFrame\n",
      "Columns: [session, epoch, roi, mean, t_stat, p_value, dof, p_value_corr]\n",
      "Index: []\n"
     ]
    }
   ],
   "source": [
    "result_df, sig_df = ttest_crossnobis(df,'data_CN')\n",
    "print(sig_df)\n",
    "\n",
    "result_df = multi_corr(result_df)\n",
    "sig_df = result_df[result_df['p_value'] < 0.05]\n",
    "print(sig_df)\n",
    "\n",
    "df_temp = pd.concat((df_temp,result_df),axis=0)"
   ]
  },
  {
   "cell_type": "code",
   "execution_count": 269,
   "id": "a34782e9",
   "metadata": {},
   "outputs": [
    {
     "name": "stdout",
     "output_type": "stream",
     "text": [
      "Empty DataFrame\n",
      "Columns: [epoch, roi, model, session1-mean, session2-mean, Mean difference, t_stat, p_value, dof]\n",
      "Index: []\n"
     ]
    }
   ],
   "source": [
    "result_df1,sig_df1 = ttest_paired_sessions(df, 'data_CN', 'Session 1', 'Session 2')\n",
    "print(sig_df1)\n",
    "\n",
    "result_df1 = multi_corr(result_df1)\n",
    "df_temp_sess = pd.concat((df_temp_sess,result_df1),axis=0)"
   ]
  },
  {
   "cell_type": "code",
   "execution_count": 270,
   "id": "540a0e19",
   "metadata": {},
   "outputs": [
    {
     "name": "stdout",
     "output_type": "stream",
     "text": [
      "      session     epoch  roi      mean    t_stat   p_value  dof  p_value_corr\n",
      "0   Session 1  stimulus  FEF -0.045245 -0.688792  0.744784    8      0.851182\n",
      "1   Session 1  stimulus  SFG  0.111293  1.372762  0.103537    8      0.497697\n",
      "2   Session 1  stimulus  MFG  0.066785  0.517740  0.309324    8      0.707027\n",
      "3   Session 1  stimulus  IFG  0.001948  0.019861  0.492320    8      0.851182\n",
      "4   Session 1     delay  FEF  0.074341  0.943021  0.186637    8      0.497697\n",
      "..        ...       ...  ...       ...       ...       ...  ...           ...\n",
      "3   Session 1     delay   V2  0.218864  1.201704  0.176235    2      0.772603\n",
      "4   Session 2  stimulus   V1  0.164982  1.046367  0.202606    2      0.772603\n",
      "5   Session 2  stimulus   V2  0.010188  0.021391  0.492438    2      0.787901\n",
      "6   Session 2     delay   V1 -0.354551 -7.947000  0.992266    2      0.992266\n",
      "7   Session 2     delay   V2  0.042801  0.123193  0.456609    2      0.787901\n",
      "\n",
      "[160 rows x 8 columns]\n"
     ]
    }
   ],
   "source": [
    "print(df_temp)"
   ]
  },
  {
   "cell_type": "code",
   "execution_count": 271,
   "id": "835abdfc",
   "metadata": {},
   "outputs": [
    {
     "name": "stdout",
     "output_type": "stream",
     "text": [
      "       epoch  roi     model  session1-mean  session2-mean  Mean difference  \\\n",
      "0   stimulus  FEF   data_LR      -0.046764       0.074313        -0.121077   \n",
      "1   stimulus  SFG   data_LR       0.115631      -0.039931         0.155562   \n",
      "2   stimulus  MFG   data_LR       0.084006       0.052657         0.031349   \n",
      "3   stimulus  IFG   data_LR       0.028835      -0.054545         0.083380   \n",
      "4      delay  FEF   data_LR       0.056653      -0.204449         0.261102   \n",
      "..       ...  ...       ...            ...            ...              ...   \n",
      "3      delay   V2  data_ecc      -0.098356       0.103030        -0.201386   \n",
      "0   stimulus   V1   data_CN      -0.212976       0.164982        -0.377958   \n",
      "1   stimulus   V2   data_CN      -0.238215       0.010188        -0.248403   \n",
      "2      delay   V1   data_CN       0.117994      -0.354551         0.472544   \n",
      "3      delay   V2   data_CN       0.218864       0.042801         0.176063   \n",
      "\n",
      "      t_stat   p_value  dof  p_value_corr  \n",
      "0  -1.558648  0.163041    7      0.434776  \n",
      "1   1.275856  0.242709    7      0.485417  \n",
      "2   0.162589  0.875436    7      0.875436  \n",
      "3   0.462235  0.657937    7      0.751927  \n",
      "4   1.934535  0.094291    7      0.387646  \n",
      "..       ...       ...  ...           ...  \n",
      "3  -0.580690  0.592594    7      0.867186  \n",
      "0  -0.572219  0.624920    7      0.770964  \n",
      "1  -0.332751  0.770964    7      0.770964  \n",
      "2   2.941418  0.098756    7      0.395024  \n",
      "3   0.560068  0.631795    7      0.770964  \n",
      "\n",
      "[80 rows x 10 columns]\n"
     ]
    }
   ],
   "source": [
    "print(df_temp_sess)"
   ]
  },
  {
   "cell_type": "code",
   "execution_count": 272,
   "id": "a3018fdf",
   "metadata": {},
   "outputs": [],
   "source": [
    "df_temp.to_csv('tbl_crossnobis_against_zero.csv')\n",
    "df_temp_sess.to_csv('tbl_crossnobis_btw_sess.csv')"
   ]
  },
  {
   "cell_type": "code",
   "execution_count": null,
   "id": "e26cf299",
   "metadata": {},
   "outputs": [],
   "source": []
  }
 ],
 "metadata": {
  "kernelspec": {
   "display_name": "Python 3 (ipykernel)",
   "language": "python",
   "name": "python3"
  },
  "language_info": {
   "codemirror_mode": {
    "name": "ipython",
    "version": 3
   },
   "file_extension": ".py",
   "mimetype": "text/x-python",
   "name": "python",
   "nbconvert_exporter": "python",
   "pygments_lexer": "ipython3",
   "version": "3.11.0"
  }
 },
 "nbformat": 4,
 "nbformat_minor": 5
}
